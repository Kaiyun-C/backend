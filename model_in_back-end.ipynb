{
 "cells": [
  {
   "cell_type": "code",
   "execution_count": 13,
   "id": "7c61780c",
   "metadata": {
    "pycharm": {
     "name": "#%%\n"
    }
   },
   "outputs": [],
   "source": [
    "import pickle\n",
    "import pandas as pd\n",
    "import json\n",
    "import re\n",
    "import string"
   ]
  },
  {
   "cell_type": "code",
   "execution_count": 115,
   "id": "fae68082",
   "metadata": {
    "pycharm": {
     "name": "#%%\n"
    }
   },
   "outputs": [
    {
     "data": {
      "text/plain": [
       "{'have_prediabetes': 0,\n",
       " 'family_history': 0,\n",
       " 'overweight': 0,\n",
       " 'poor_diet': 0,\n",
       " 'lack_physical_activity': 0,\n",
       " 'high_blood_sugar': 0}"
      ]
     },
     "execution_count": 115,
     "metadata": {},
     "output_type": "execute_result"
    }
   ],
   "source": [
    "a = ['have_prediabetes','family_history','overweight','poor_diet','lack_physical_activity','high_blood_sugar']\n",
    "b = [0,0,0,0,0,0]\n",
    "c = dict(zip(a,b))\n",
    "c"
   ]
  },
  {
   "cell_type": "code",
   "execution_count": 4,
   "id": "bf750903",
   "metadata": {
    "pycharm": {
     "name": "#%%\n"
    }
   },
   "outputs": [
    {
     "data": {
      "text/plain": [
       "(array([[0.18181818, 0.81818182]]), 0.82)"
      ]
     },
     "execution_count": 4,
     "metadata": {},
     "output_type": "execute_result"
    }
   ],
   "source": [
    "# load the model from disk\n",
    "filename = 'finalized_model.sav'\n",
    "loaded_model = pickle.load(open(filename, 'rb'))\n",
    "\n",
    "a={'have_prediabetes':1,'family_history':1,'overweight':1,'poor_diet':1,'lack_physical_activity':1,'high_blood_sugar':1}\n",
    "b=pd.DataFrame([a])\n",
    "\n",
    "pred_result = loaded_model.predict_proba(b)\n",
    "pred_result\n",
    "get_diabetes = round(pred_result[0][1],2)\n",
    "pred_result,get_diabetes"
   ]
  },
  {
   "cell_type": "markdown",
   "id": "e24e55b7",
   "metadata": {
    "pycharm": {
     "name": "#%% md\n"
    }
   },
   "source": [
    "### check all predict results for model --- totally 64 arrangement combinations"
   ]
  },
  {
   "cell_type": "code",
   "execution_count": 125,
   "id": "7b92b172",
   "metadata": {
    "pycharm": {
     "name": "#%%\n"
    }
   },
   "outputs": [],
   "source": [
    "a_list = [] # [0,0,0,0,0,0]\n",
    "b_list = [] # [[0,0,0,0,0,0],[0,0,0,0,0,1]...[1,1,1,1,1,1]]\n",
    "for a in [0,1]:\n",
    "    for b in [0,1]:\n",
    "        for c in [0,1]:\n",
    "            for d in [0,1]:\n",
    "                for e in [0,1]:\n",
    "                    for f in [0,1]:\n",
    "                        a_list.append(a)\n",
    "                        a_list.append(b)\n",
    "                        a_list.append(c)\n",
    "                        a_list.append(d)\n",
    "                        a_list.append(e)\n",
    "                        a_list.append(f)\n",
    "                        b_list.append(a_list)\n",
    "                        a_list = []"
   ]
  },
  {
   "cell_type": "code",
   "execution_count": 126,
   "id": "03db6d2e",
   "metadata": {
    "collapsed": true,
    "pycharm": {
     "name": "#%%\n"
    }
   },
   "outputs": [
    {
     "data": {
      "text/plain": [
       "[[0, 0, 0, 0, 0, 0],\n",
       " [0, 0, 0, 0, 0, 1],\n",
       " [0, 0, 0, 0, 1, 0],\n",
       " [0, 0, 0, 0, 1, 1],\n",
       " [0, 0, 0, 1, 0, 0],\n",
       " [0, 0, 0, 1, 0, 1],\n",
       " [0, 0, 0, 1, 1, 0],\n",
       " [0, 0, 0, 1, 1, 1],\n",
       " [0, 0, 1, 0, 0, 0],\n",
       " [0, 0, 1, 0, 0, 1],\n",
       " [0, 0, 1, 0, 1, 0],\n",
       " [0, 0, 1, 0, 1, 1],\n",
       " [0, 0, 1, 1, 0, 0],\n",
       " [0, 0, 1, 1, 0, 1],\n",
       " [0, 0, 1, 1, 1, 0],\n",
       " [0, 0, 1, 1, 1, 1],\n",
       " [0, 1, 0, 0, 0, 0],\n",
       " [0, 1, 0, 0, 0, 1],\n",
       " [0, 1, 0, 0, 1, 0],\n",
       " [0, 1, 0, 0, 1, 1],\n",
       " [0, 1, 0, 1, 0, 0],\n",
       " [0, 1, 0, 1, 0, 1],\n",
       " [0, 1, 0, 1, 1, 0],\n",
       " [0, 1, 0, 1, 1, 1],\n",
       " [0, 1, 1, 0, 0, 0],\n",
       " [0, 1, 1, 0, 0, 1],\n",
       " [0, 1, 1, 0, 1, 0],\n",
       " [0, 1, 1, 0, 1, 1],\n",
       " [0, 1, 1, 1, 0, 0],\n",
       " [0, 1, 1, 1, 0, 1],\n",
       " [0, 1, 1, 1, 1, 0],\n",
       " [0, 1, 1, 1, 1, 1],\n",
       " [1, 0, 0, 0, 0, 0],\n",
       " [1, 0, 0, 0, 0, 1],\n",
       " [1, 0, 0, 0, 1, 0],\n",
       " [1, 0, 0, 0, 1, 1],\n",
       " [1, 0, 0, 1, 0, 0],\n",
       " [1, 0, 0, 1, 0, 1],\n",
       " [1, 0, 0, 1, 1, 0],\n",
       " [1, 0, 0, 1, 1, 1],\n",
       " [1, 0, 1, 0, 0, 0],\n",
       " [1, 0, 1, 0, 0, 1],\n",
       " [1, 0, 1, 0, 1, 0],\n",
       " [1, 0, 1, 0, 1, 1],\n",
       " [1, 0, 1, 1, 0, 0],\n",
       " [1, 0, 1, 1, 0, 1],\n",
       " [1, 0, 1, 1, 1, 0],\n",
       " [1, 0, 1, 1, 1, 1],\n",
       " [1, 1, 0, 0, 0, 0],\n",
       " [1, 1, 0, 0, 0, 1],\n",
       " [1, 1, 0, 0, 1, 0],\n",
       " [1, 1, 0, 0, 1, 1],\n",
       " [1, 1, 0, 1, 0, 0],\n",
       " [1, 1, 0, 1, 0, 1],\n",
       " [1, 1, 0, 1, 1, 0],\n",
       " [1, 1, 0, 1, 1, 1],\n",
       " [1, 1, 1, 0, 0, 0],\n",
       " [1, 1, 1, 0, 0, 1],\n",
       " [1, 1, 1, 0, 1, 0],\n",
       " [1, 1, 1, 0, 1, 1],\n",
       " [1, 1, 1, 1, 0, 0],\n",
       " [1, 1, 1, 1, 0, 1],\n",
       " [1, 1, 1, 1, 1, 0],\n",
       " [1, 1, 1, 1, 1, 1]]"
      ]
     },
     "execution_count": 126,
     "metadata": {},
     "output_type": "execute_result"
    }
   ],
   "source": [
    "b_list"
   ]
  },
  {
   "cell_type": "code",
   "execution_count": 131,
   "id": "fe45f750",
   "metadata": {
    "collapsed": true,
    "pycharm": {
     "name": "#%%\n"
    }
   },
   "outputs": [
    {
     "data": {
      "text/plain": [
       "[0.36,\n",
       " 0.36,\n",
       " 0.36,\n",
       " 0.36,\n",
       " 0.19,\n",
       " 0.19,\n",
       " 0.19,\n",
       " 0.19,\n",
       " 0.5,\n",
       " 0.5,\n",
       " 0.5,\n",
       " 0.5,\n",
       " 0.43,\n",
       " 0.43,\n",
       " 0.43,\n",
       " 0.43,\n",
       " 0.84,\n",
       " 0.84,\n",
       " 0.96,\n",
       " 0.96,\n",
       " 0.87,\n",
       " 0.87,\n",
       " 0.88,\n",
       " 0.88,\n",
       " 0.92,\n",
       " 0.67,\n",
       " 0.91,\n",
       " 1.0,\n",
       " 0.92,\n",
       " 0.67,\n",
       " 0.91,\n",
       " 1.0,\n",
       " 0.7,\n",
       " 0.8,\n",
       " 0.7,\n",
       " 0.8,\n",
       " 0.59,\n",
       " 0.0,\n",
       " 0.59,\n",
       " 0.0,\n",
       " 0.7,\n",
       " 0.8,\n",
       " 0.7,\n",
       " 0.8,\n",
       " 0.59,\n",
       " 0.0,\n",
       " 0.59,\n",
       " 0.0,\n",
       " 0.95,\n",
       " 0.87,\n",
       " 0.95,\n",
       " 0.87,\n",
       " 0.98,\n",
       " 1.0,\n",
       " 0.98,\n",
       " 1.0,\n",
       " 0.95,\n",
       " 1.0,\n",
       " 0.95,\n",
       " 1.0,\n",
       " 0.98,\n",
       " 0.82,\n",
       " 0.98,\n",
       " 0.82]"
      ]
     },
     "execution_count": 131,
     "metadata": {},
     "output_type": "execute_result"
    }
   ],
   "source": [
    "pred_lst = []\n",
    "feature_name = ['have_prediabetes', 'family_history', 'overweight', 'poor_diet', 'lack_physical_activity',\n",
    "                'high_blood_sugar']\n",
    "# get value from front-end\n",
    "for item in b_list:\n",
    "    test_data = dict(zip(feature_name, item))\n",
    "    test_df = pd.DataFrame([test_data])\n",
    "\n",
    "    pred_result = loaded_model.predict_proba(test_df)\n",
    "    get_diabetes = round(pred_result[0][1], 2)\n",
    "    pred_lst.append(get_diabetes)\n",
    "pred_lst"
   ]
  },
  {
   "cell_type": "code",
   "execution_count": 133,
   "id": "15bcf4cc",
   "metadata": {
    "scrolled": false,
    "pycharm": {
     "name": "#%%\n"
    }
   },
   "outputs": [
    {
     "data": {
      "text/plain": [
       "[0.0,\n",
       " 0.19,\n",
       " 0.36,\n",
       " 0.43,\n",
       " 0.5,\n",
       " 0.59,\n",
       " 0.67,\n",
       " 0.7,\n",
       " 0.8,\n",
       " 0.82,\n",
       " 0.84,\n",
       " 0.87,\n",
       " 0.88,\n",
       " 0.91,\n",
       " 0.92,\n",
       " 0.95,\n",
       " 0.96,\n",
       " 0.98,\n",
       " 1.0]"
      ]
     },
     "execution_count": 133,
     "metadata": {},
     "output_type": "execute_result"
    }
   ],
   "source": [
    "sorted(set(pred_lst))"
   ]
  },
  {
   "cell_type": "markdown",
   "id": "d5094f39",
   "metadata": {
    "pycharm": {
     "name": "#%% md\n"
    }
   },
   "source": [
    "### writing codes for predict each person depends on their input json\n",
    "\n",
    "* input JSON may be in the following forms:\n",
    "\n",
    "1. `[\"Yes\", \"Yes\", \"No\", \"No\", \"Yes\", \"Yes\"]` --- list\n",
    "\n",
    "2. `'[\"Yes\", \"Yes\", \"No\", \"No\", \"Yes\", \"Yes\"]'` --- string\n",
    "\n",
    "3. `'[\\\"Yes\\\", \\\"Yes\\\", \\\"No\\\", \\\"No\\\", \\\"Yes\\\", \\\"Yes\\\"]'` --- string contain `'\\'`"
   ]
  },
  {
   "cell_type": "code",
   "execution_count": 38,
   "id": "28dc6110",
   "metadata": {
    "pycharm": {
     "name": "#%%\n"
    }
   },
   "outputs": [
    {
     "data": {
      "text/plain": [
       "'[\"Yes\", \"Yes\", \"No\", \"No\", \"Yes\", \"Yes\"]'"
      ]
     },
     "execution_count": 38,
     "metadata": {},
     "output_type": "execute_result"
    }
   ],
   "source": [
    "# forming a JSON string\n",
    "lst = ['Yes','Yes','No','No','Yes','Yes']\n",
    "json_lst = json.dumps(lst)\n",
    "json_lst"
   ]
  },
  {
   "cell_type": "code",
   "execution_count": 39,
   "id": "5e742def",
   "metadata": {
    "pycharm": {
     "name": "#%%\n"
    }
   },
   "outputs": [
    {
     "data": {
      "text/plain": [
       "'\"[\\\\\"Yes\\\\\", \\\\\"Yes\\\\\", \\\\\"No\\\\\", \\\\\"No\\\\\", \\\\\"Yes\\\\\", \\\\\"Yes\\\\\"]\"'"
      ]
     },
     "execution_count": 39,
     "metadata": {},
     "output_type": "execute_result"
    }
   ],
   "source": [
    "# forming a JSON string contain '\\'\n",
    "json_lst = json.dumps(json_lst)\n",
    "json_lst"
   ]
  },
  {
   "cell_type": "code",
   "execution_count": 44,
   "id": "9699f55d",
   "metadata": {
    "pycharm": {
     "name": "#%%\n"
    }
   },
   "outputs": [
    {
     "data": {
      "text/plain": [
       "'\"[\"Yes\", \"Yes\", \"No\", \"No\", \"Yes\", \"Yes\"]\"'"
      ]
     },
     "execution_count": 44,
     "metadata": {},
     "output_type": "execute_result"
    }
   ],
   "source": [
    "# removing '\\' from string by using re\n",
    "str = '\"[\\\"Yes\\\", \\\"Yes\\\", \\\"No\\\", \\\"No\\\", \\\"Yes\\\", \\\"Yes\\\"]\"'\n",
    "#str1 = json.loads(str)\n",
    "if '\\\\' in str:\n",
    "    str = re.sub(r'\\\\','',str)\n",
    "str"
   ]
  },
  {
   "cell_type": "code",
   "execution_count": 116,
   "id": "7df372fd",
   "metadata": {
    "pycharm": {
     "name": "#%%\n"
    }
   },
   "outputs": [
    {
     "data": {
      "text/plain": [
       "'Yes Yes No No Yes Yes'"
      ]
     },
     "execution_count": 116,
     "metadata": {},
     "output_type": "execute_result"
    }
   ],
   "source": [
    "# removing special characters, punctuation from a string\n",
    "punctuation_string = string.punctuation\n",
    "for i in punctuation_string:\n",
    "    str = str.replace(i, '')\n",
    "str"
   ]
  },
  {
   "cell_type": "code",
   "execution_count": 118,
   "id": "31dee0cf",
   "metadata": {
    "pycharm": {
     "name": "#%%\n"
    }
   },
   "outputs": [
    {
     "data": {
      "text/plain": [
       "'!\"#$%&\\'()*+,-./:;<=>?@[\\\\]^_`{|}~'"
      ]
     },
     "execution_count": 118,
     "metadata": {},
     "output_type": "execute_result"
    }
   ],
   "source": [
    "punctuation_string"
   ]
  },
  {
   "cell_type": "code",
   "execution_count": 121,
   "id": "bcf81ad9",
   "metadata": {
    "pycharm": {
     "name": "#%%\n"
    }
   },
   "outputs": [
    {
     "data": {
      "text/plain": [
       "['Yes', 'Yes', 'No', 'No', 'Yes', 'Yes']"
      ]
     },
     "execution_count": 121,
     "metadata": {},
     "output_type": "execute_result"
    }
   ],
   "source": [
    "# split the string into the final input list which we need for prediction\n",
    "a = str.split(' ')\n",
    "a"
   ]
  },
  {
   "cell_type": "code",
   "execution_count": 119,
   "id": "fab1323e",
   "metadata": {
    "pycharm": {
     "name": "#%%\n"
    }
   },
   "outputs": [
    {
     "data": {
      "text/plain": [
       "True"
      ]
     },
     "execution_count": 119,
     "metadata": {},
     "output_type": "execute_result"
    }
   ],
   "source": [
    "len(a) ==6"
   ]
  },
  {
   "cell_type": "code",
   "execution_count": 122,
   "id": "0e725250",
   "metadata": {
    "pycharm": {
     "name": "#%%\n"
    }
   },
   "outputs": [
    {
     "data": {
      "text/plain": [
       "[1, 1, 0, 0, 1, 1]"
      ]
     },
     "execution_count": 122,
     "metadata": {},
     "output_type": "execute_result"
    }
   ],
   "source": [
    "# transform the items in the input list into {0, 1}\n",
    "values = a\n",
    "values = [1 if i.lower()=='yes' else 0 for i in values]\n",
    "values"
   ]
  },
  {
   "cell_type": "code",
   "execution_count": 124,
   "id": "c97d7720",
   "metadata": {
    "pycharm": {
     "name": "#%%\n"
    }
   },
   "outputs": [],
   "source": [
    "feature_name = ['have_prediabetes', 'family_history', 'overweight', 'poor_diet', 'lack_physical_activity',\n",
    "                'high_blood_sugar']"
   ]
  },
  {
   "cell_type": "code",
   "execution_count": 146,
   "id": "1f01b627",
   "metadata": {
    "pycharm": {
     "name": "#%%\n"
    }
   },
   "outputs": [
    {
     "name": "stdout",
     "output_type": "stream",
     "text": [
      "0.36\n"
     ]
    }
   ],
   "source": [
    "# test 1\n",
    "values = ['Yes', 'Yes', 'No', 'No', 'Yes', 'Yes']\n",
    "\n",
    "if type(values) == str:\n",
    "    values = json.loads(values)\n",
    "    values = [1 if i == 'yes' else 0 for i in values]\n",
    "    test_data = dict(zip(feature_name, values))\n",
    "    test_df = pd.DataFrame([test_data])\n",
    "    pred_result = loaded_model.predict_proba(test_df)\n",
    "    get_diabetes = round(pred_result[0][1], 2)\n",
    "    print(get_diabetes)\n",
    "elif type(values) == list:\n",
    "    values = [1 if i == 'yes' else 0 for i in values]\n",
    "    test_data = dict(zip(feature_name, values))\n",
    "    test_df = pd.DataFrame([test_data])\n",
    "    pred_result = loaded_model.predict_proba(test_df)\n",
    "    get_diabetes = round(pred_result[0][1], 2)\n",
    "    print(get_diabetes)\n",
    "else:\n",
    "    print(values)"
   ]
  },
  {
   "cell_type": "code",
   "execution_count": 183,
   "id": "0f358aab",
   "metadata": {
    "pycharm": {
     "name": "#%%\n"
    }
   },
   "outputs": [
    {
     "name": "stdout",
     "output_type": "stream",
     "text": [
      "<class 'str'> [\"Yes\", \"Yes\", \"No\", \"No\", \"Yes\", \"Yes\"]\n",
      "0.87\n"
     ]
    }
   ],
   "source": [
    "# test 2\n",
    "lst = ['Yes', 'Yes', 'No', 'No', 'Yes', 'Yes']\n",
    "values = json.dumps(lst)\n",
    "print(type(values),values)\n",
    "\n",
    "if type(values) == type('abc'):\n",
    "    if '\\\\' in values:\n",
    "        values = re.sub(r'\\\\', '', values)\n",
    "    punctuation_string = string.punctuation # '!\"#$%&\\'()*+,-./:;<=>?@[\\\\]^_`{|}~'\n",
    "    for i in punctuation_string:\n",
    "        values = values.replace(i, '')\n",
    "    values = values.split(' ')\n",
    "    values = [1 if i.lower() == 'yes' else 0 for i in values]\n",
    "    test_data = dict(zip(feature_name, values))\n",
    "    test_df = pd.DataFrame([test_data])\n",
    "    pred_result = loaded_model.predict_proba(test_df)\n",
    "    get_diabetes = round(pred_result[0][1], 2)\n",
    "    print(get_diabetes)\n",
    "\n",
    "elif type(values) == type(['a']):\n",
    "    values = [1 if i.lower() == 'yes' else 0 for i in values]\n",
    "    test_data = dict(zip(feature_name, values))\n",
    "    test_df = pd.DataFrame([test_data])\n",
    "    pred_result = loaded_model.predict_proba(test_df)\n",
    "    get_diabetes = round(pred_result[0][1], 2)\n",
    "    print(get_diabetes)"
   ]
  },
  {
   "cell_type": "code",
   "execution_count": 148,
   "id": "5edeae88",
   "metadata": {
    "pycharm": {
     "name": "#%%\n"
    }
   },
   "outputs": [
    {
     "data": {
      "text/plain": [
       "True"
      ]
     },
     "execution_count": 148,
     "metadata": {},
     "output_type": "execute_result"
    }
   ],
   "source": [
    "type(values) == list"
   ]
  },
  {
   "cell_type": "code",
   "execution_count": 185,
   "id": "b36f527b",
   "metadata": {
    "pycharm": {
     "name": "#%%\n"
    }
   },
   "outputs": [
    {
     "name": "stdout",
     "output_type": "stream",
     "text": [
      "<class 'str'> \"[\\\"Yes\\\", \\\"Yes\\\", \\\"No\\\", \\\"No\\\", \\\"Yes\\\", \\\"Yes\\\"]\"\n",
      "[1, 1, 0, 0, 1, 1]\n",
      "0.87\n"
     ]
    }
   ],
   "source": [
    "# test 3\n",
    "lst = ['Yes', 'Yes', 'No', 'No', 'Yes', 'Yes']\n",
    "values = json.dumps(lst)\n",
    "values = json.dumps(values)\n",
    "print(type(values),values)\n",
    "\n",
    "if type(values) == type('abc'):\n",
    "    if '\\\\' in values:\n",
    "        values = re.sub(r'\\\\', '', values)\n",
    "    punctuation_string = string.punctuation # '!\"#$%&\\'()*+,-./:;<=>?@[\\\\]^_`{|}~'\n",
    "    for i in punctuation_string:\n",
    "        values = values.replace(i, '')\n",
    "    values = values.split(' ')\n",
    "    values = [1 if i.lower() == 'yes' else 0 for i in values]\n",
    "    test_data = dict(zip(feature_name, values))\n",
    "    test_df = pd.DataFrame([test_data])\n",
    "    pred_result = loaded_model.predict_proba(test_df)\n",
    "    get_diabetes = round(pred_result[0][1], 2)\n",
    "    print(values)\n",
    "    print(get_diabetes)\n",
    "\n",
    "elif type(values) == type(['a']):\n",
    "    values = [1 if i.lower() == 'yes' else 0 for i in values]\n",
    "    test_data = dict(zip(feature_name, values))\n",
    "    test_df = pd.DataFrame([test_data])\n",
    "    pred_result = loaded_model.predict_proba(test_df)\n",
    "    get_diabetes = round(pred_result[0][1], 2)\n",
    "    print(get_diabetes)"
   ]
  },
  {
   "cell_type": "code",
   "execution_count": 189,
   "id": "8e0ce76b",
   "metadata": {
    "pycharm": {
     "name": "#%%\n"
    }
   },
   "outputs": [
    {
     "name": "stdout",
     "output_type": "stream",
     "text": [
      "<class 'str'> [\"Yes\", \"Yes\", \"No\", \"No\", \"Yes\", \"Yes\"]\n",
      "[1, 1, 0, 0, 1, 1]\n",
      "0.87\n"
     ]
    }
   ],
   "source": [
    "# test 4\n",
    "lst = ['Yes', 'Yes', 'No', 'No', 'Yes', 'Yes']\n",
    "values = json.dumps(lst)\n",
    "values = json.dumps(values)\n",
    "values = json.loads(values)\n",
    "print(type(values),values)\n",
    "if type(values) == type('abc'):\n",
    "    if '\\\\' in values:\n",
    "        values = re.sub(r'\\\\', '', values)\n",
    "    punctuation_string = string.punctuation # '!\"#$%&\\'()*+,-./:;<=>?@[\\\\]^_`{|}~'\n",
    "    for i in punctuation_string:\n",
    "        values = values.replace(i, '')\n",
    "    values = values.split(' ')\n",
    "    values = [1 if i.lower() == 'yes' else 0 for i in values]\n",
    "    test_data = dict(zip(feature_name, values))\n",
    "    test_df = pd.DataFrame([test_data])\n",
    "    pred_result = loaded_model.predict_proba(test_df)\n",
    "    get_diabetes = round(pred_result[0][1], 2)\n",
    "    print(values)\n",
    "    print(get_diabetes)\n",
    "\n",
    "elif type(values) == type(['a']):\n",
    "    values = [1 if i.lower() == 'yes' else 0 for i in values]\n",
    "    test_data = dict(zip(feature_name, values))\n",
    "    test_df = pd.DataFrame([test_data])\n",
    "    pred_result = loaded_model.predict_proba(test_df)\n",
    "    get_diabetes = round(pred_result[0][1], 2)\n",
    "    print(get_diabetes)"
   ]
  },
  {
   "cell_type": "code",
   "execution_count": null,
   "id": "75bb042b",
   "metadata": {
    "pycharm": {
     "name": "#%%\n"
    }
   },
   "outputs": [],
   "source": [
    "def diabetes_predict():\n",
    "    filename = 'finalized_model.sav'\n",
    "    loaded_model = pickle.load(open(filename, 'rb'))\n",
    "\n",
    "    feature_name = ['have_prediabetes', 'family_history', 'overweight', 'poor_diet', 'lack_physical_activity',\n",
    "                    'high_blood_sugar']\n",
    "    # get value from front-end\n",
    "    values = request.json['answer']\n",
    "    values = json.loads(values)\n",
    "    try:\n",
    "        if type(values) == type('abc'):\n",
    "            if '\\\\' in values:\n",
    "                values = re.sub(r'\\\\', '', values)\n",
    "            punctuation_string = string.punctuation # '!\"#$%&\\'()*+,-./:;<=>?@[\\\\]^_`{|}~'\n",
    "            for i in punctuation_string:\n",
    "                values = values.replace(i, '')\n",
    "            values = values.split(' ')\n",
    "            try:\n",
    "                values = [1 if i.lower() == 'yes' else 0 for i in values]\n",
    "                test_data = dict(zip(feature_name, values))\n",
    "                test_df = pd.DataFrame([test_data])\n",
    "                pred_result = loaded_model.predict_proba(test_df)\n",
    "                get_diabetes = round(pred_result[0][1], 2)\n",
    "                return jsonify({\"diabetes prediction\": get_diabetes})\n",
    "            except:\n",
    "                print(\"Error1\")\n",
    "        elif type(values) == type(['a']):\n",
    "            values = [1 if i.lower() == 'yes' else 0 for i in values]\n",
    "            test_data = dict(zip(feature_name, values))\n",
    "            test_df = pd.DataFrame([test_data])\n",
    "            pred_result = loaded_model.predict_proba(test_df)\n",
    "            get_diabetes = round(pred_result[0][1], 2)\n",
    "            return jsonify({\"diabetes prediction\": get_diabetes})\n",
    "    except:\n",
    "        print(\"Error2\")"
   ]
  },
  {
   "cell_type": "code",
   "execution_count": null,
   "id": "1fec7b1d",
   "metadata": {
    "pycharm": {
     "name": "#%%\n"
    }
   },
   "outputs": [],
   "source": []
  }
 ],
 "metadata": {
  "kernelspec": {
   "display_name": "Python 3 (ipykernel)",
   "language": "python",
   "name": "python3"
  },
  "language_info": {
   "codemirror_mode": {
    "name": "ipython",
    "version": 3
   },
   "file_extension": ".py",
   "mimetype": "text/x-python",
   "name": "python",
   "nbconvert_exporter": "python",
   "pygments_lexer": "ipython3",
   "version": "3.9.7"
  }
 },
 "nbformat": 4,
 "nbformat_minor": 5
}