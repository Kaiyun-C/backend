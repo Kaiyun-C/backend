{
 "cells": [
  {
   "cell_type": "code",
   "execution_count": 1,
   "id": "96decc0e",
   "metadata": {
    "pycharm": {
     "name": "#%%\n"
    }
   },
   "outputs": [],
   "source": [
    "from pyspark.sql.types import *\n",
    "from pyspark.sql.functions import *\n",
    "from pyspark.sql.functions import col,when\n",
    "import pandas as pd\n",
    "import matplotlib.pyplot as plt\n",
    "import seaborn as sns\n",
    "import numpy as np"
   ]
  },
  {
   "cell_type": "code",
   "execution_count": 2,
   "id": "0dc34c6f",
   "metadata": {
    "pycharm": {
     "name": "#%%\n"
    }
   },
   "outputs": [],
   "source": [
    "# Import SparkConf class into program\n",
    "from pyspark import SparkConf\n",
    "# local[*]: run Spark in local mode with as many working processors as logical cores on your machine\n",
    "# If we want Spark to run locally with 'k' worker threads, we can specify as \"local[k]\".\n",
    "master = \"local[*]\"\n",
    "# The `appName` field is a name to be shown on the Spark cluster UI page\n",
    "app_name = \"diabetes\"\n",
    "# Setup configuration parameters for Spark\n",
    "spark_conf = SparkConf().setMaster(master).setAppName(app_name)\n",
    "# Import SparkContext and SparkSession classes\n",
    "from pyspark import SparkContext # Spark\n",
    "from pyspark.sql import SparkSession # Spark SQL\n",
    "# Method 1: Using SparkSession\n",
    "spark = SparkSession.builder.config(conf=spark_conf).getOrCreate()\n",
    "sc = spark.sparkContext\n",
    "sc.setLogLevel('ERROR')"
   ]
  },
  {
   "cell_type": "markdown",
   "id": "ff7ec5e3",
   "metadata": {
    "pycharm": {
     "name": "#%% md\n"
    }
   },
   "source": [
    "## Load the file"
   ]
  },
  {
   "cell_type": "code",
   "execution_count": 3,
   "id": "f940cc10",
   "metadata": {
    "pycharm": {
     "name": "#%%\n"
    }
   },
   "outputs": [],
   "source": [
    "raw_df = spark.read.option(\"header\", True).option(\"inferSchema\", True) .csv(\"diabetes_nhanes_17_18.csv\")"
   ]
  },
  {
   "cell_type": "markdown",
   "id": "58f0f425",
   "metadata": {
    "pycharm": {
     "name": "#%% md\n"
    }
   },
   "source": [
    "check the file's schema"
   ]
  },
  {
   "cell_type": "code",
   "execution_count": 4,
   "id": "3995d7d7",
   "metadata": {
    "scrolled": true,
    "pycharm": {
     "name": "#%%\n"
    }
   },
   "outputs": [
    {
     "name": "stdout",
     "output_type": "stream",
     "text": [
      "root\n",
      " |-- _c0: integer (nullable = true)\n",
      " |-- SEQN: double (nullable = true)\n",
      " |-- DIQ010: integer (nullable = true)\n",
      " |-- DID040: string (nullable = true)\n",
      " |-- DIQ160: string (nullable = true)\n",
      " |-- DIQ170: string (nullable = true)\n",
      " |-- DIQ172: string (nullable = true)\n",
      " |-- DIQ175A: string (nullable = true)\n",
      " |-- DIQ175B: string (nullable = true)\n",
      " |-- DIQ175C: string (nullable = true)\n",
      " |-- DIQ175D: string (nullable = true)\n",
      " |-- DIQ175E: string (nullable = true)\n",
      " |-- DIQ175F: string (nullable = true)\n",
      " |-- DIQ175G: string (nullable = true)\n",
      " |-- DIQ175H: string (nullable = true)\n",
      " |-- DIQ175I: string (nullable = true)\n",
      " |-- DIQ175J: string (nullable = true)\n",
      " |-- DIQ175K: string (nullable = true)\n",
      " |-- DIQ175L: string (nullable = true)\n",
      " |-- DIQ175M: string (nullable = true)\n",
      " |-- DIQ175N: string (nullable = true)\n",
      " |-- DIQ175O: string (nullable = true)\n",
      " |-- DIQ175P: string (nullable = true)\n",
      " |-- DIQ175Q: string (nullable = true)\n",
      " |-- DIQ175R: string (nullable = true)\n",
      " |-- DIQ175S: string (nullable = true)\n",
      " |-- DIQ175T: string (nullable = true)\n",
      " |-- DIQ175U: string (nullable = true)\n",
      " |-- DIQ175V: string (nullable = true)\n",
      " |-- DIQ175W: string (nullable = true)\n",
      " |-- DIQ175X: string (nullable = true)\n",
      " |-- DIQ180: string (nullable = true)\n",
      " |-- DIQ050: integer (nullable = true)\n",
      " |-- DID060: string (nullable = true)\n",
      " |-- DIQ060U: string (nullable = true)\n",
      " |-- DIQ070: string (nullable = true)\n",
      " |-- DIQ230: string (nullable = true)\n",
      " |-- DIQ240: string (nullable = true)\n",
      " |-- DID250: string (nullable = true)\n",
      " |-- DID260: string (nullable = true)\n",
      " |-- DIQ260U: string (nullable = true)\n",
      " |-- DIQ275: string (nullable = true)\n",
      " |-- DIQ280: string (nullable = true)\n",
      " |-- DIQ291: string (nullable = true)\n",
      " |-- DIQ300S: string (nullable = true)\n",
      " |-- DIQ300D: string (nullable = true)\n",
      " |-- DID310S: string (nullable = true)\n",
      " |-- DID310D: string (nullable = true)\n",
      " |-- DID320: string (nullable = true)\n",
      " |-- DID330: string (nullable = true)\n",
      " |-- DID341: string (nullable = true)\n",
      " |-- DID350: string (nullable = true)\n",
      " |-- DIQ350U: string (nullable = true)\n",
      " |-- DIQ360: string (nullable = true)\n",
      " |-- DIQ080: string (nullable = true)\n",
      "\n"
     ]
    }
   ],
   "source": [
    "# file's schema\n",
    "raw_df.printSchema()"
   ]
  },
  {
   "cell_type": "code",
   "execution_count": 5,
   "id": "18015116",
   "metadata": {
    "pycharm": {
     "name": "#%%\n"
    }
   },
   "outputs": [],
   "source": [
    "raw_df = raw_df.drop('_c0')"
   ]
  },
  {
   "cell_type": "code",
   "execution_count": 6,
   "id": "1b93ad33",
   "metadata": {
    "scrolled": true,
    "pycharm": {
     "name": "#%%\n"
    }
   },
   "outputs": [
    {
     "name": "stdout",
     "output_type": "stream",
     "text": [
      "-RECORD 0----------\n",
      " SEQN    | 93703.0 \n",
      " DIQ010  | 2       \n",
      " DID040  | NA      \n",
      " DIQ160  | NA      \n",
      " DIQ170  | NA      \n",
      " DIQ172  | NA      \n",
      " DIQ175A | NA      \n",
      " DIQ175B | NA      \n",
      " DIQ175C | NA      \n",
      " DIQ175D | NA      \n",
      " DIQ175E | NA      \n",
      " DIQ175F | NA      \n",
      " DIQ175G | NA      \n",
      " DIQ175H | NA      \n",
      " DIQ175I | NA      \n",
      " DIQ175J | NA      \n",
      " DIQ175K | NA      \n",
      " DIQ175L | NA      \n",
      " DIQ175M | NA      \n",
      " DIQ175N | NA      \n",
      " DIQ175O | NA      \n",
      " DIQ175P | NA      \n",
      " DIQ175Q | NA      \n",
      " DIQ175R | NA      \n",
      " DIQ175S | NA      \n",
      " DIQ175T | NA      \n",
      " DIQ175U | NA      \n",
      " DIQ175V | NA      \n",
      " DIQ175W | NA      \n",
      " DIQ175X | NA      \n",
      " DIQ180  | NA      \n",
      " DIQ050  | 2       \n",
      " DID060  | NA      \n",
      " DIQ060U | NA      \n",
      " DIQ070  | NA      \n",
      " DIQ230  | NA      \n",
      " DIQ240  | NA      \n",
      " DID250  | NA      \n",
      " DID260  | NA      \n",
      " DIQ260U | NA      \n",
      " DIQ275  | NA      \n",
      " DIQ280  | NA      \n",
      " DIQ291  | NA      \n",
      " DIQ300S | NA      \n",
      " DIQ300D | NA      \n",
      " DID310S | NA      \n",
      " DID310D | NA      \n",
      " DID320  | NA      \n",
      " DID330  | NA      \n",
      " DID341  | NA      \n",
      " DID350  | NA      \n",
      " DIQ350U | NA      \n",
      " DIQ360  | NA      \n",
      " DIQ080  | NA      \n",
      "only showing top 1 row\n",
      "\n"
     ]
    }
   ],
   "source": [
    "raw_df.show(1,vertical=True)"
   ]
  },
  {
   "cell_type": "markdown",
   "id": "81156381",
   "metadata": {
    "pycharm": {
     "name": "#%% md\n"
    }
   },
   "source": [
    "## check the df structure"
   ]
  },
  {
   "cell_type": "code",
   "execution_count": 7,
   "id": "eb3e4cb0",
   "metadata": {
    "pycharm": {
     "name": "#%%\n"
    }
   },
   "outputs": [
    {
     "data": {
      "text/plain": [
       "(8897, 54)"
      ]
     },
     "execution_count": 7,
     "metadata": {},
     "output_type": "execute_result"
    }
   ],
   "source": [
    "# output: (rows, columns)\n",
    "raw_df.count(), len(raw_df.columns)"
   ]
  },
  {
   "cell_type": "markdown",
   "id": "610552f3",
   "metadata": {
    "pycharm": {
     "name": "#%% md\n"
    }
   },
   "source": [
    " ## Deleting unneeded columns"
   ]
  },
  {
   "cell_type": "code",
   "execution_count": 9,
   "id": "49321a24",
   "metadata": {
    "pycharm": {
     "name": "#%%\n"
    }
   },
   "outputs": [],
   "source": [
    "need_to_remove = ['DIQ175L','DIQ175M','DIQ175N','DIQ175O','DIQ175P','DIQ175Q','DIQ175R','DIQ175S','DIQ175T','DIQ175U','DIQ175V','DIQ175W','DIQ175X','DIQ180','DIQ050','DID060','DIQ060U','DIQ070','DIQ230','DIQ240','DID250','DID260','DIQ260U','DIQ275','DIQ280','DIQ291','DIQ300S','DIQ300D','DID310S','DID310D','DID320','DID330','DID341','DID350','DIQ350U','DIQ360','DIQ080']\n",
    "for column in need_to_remove:\n",
    "    raw_df = raw_df.drop(column)"
   ]
  },
  {
   "cell_type": "markdown",
   "id": "45116201",
   "metadata": {
    "pycharm": {
     "name": "#%% md\n"
    }
   },
   "source": [
    "## change all NA into null"
   ]
  },
  {
   "cell_type": "code",
   "execution_count": 10,
   "id": "214eb215",
   "metadata": {
    "pycharm": {
     "name": "#%%\n"
    }
   },
   "outputs": [],
   "source": [
    "for c in raw_df.columns:\n",
    "    raw_df = raw_df.withColumn(c, when(col(c)=='NA' ,None).otherwise(col(c)))"
   ]
  },
  {
   "cell_type": "code",
   "execution_count": 11,
   "id": "2577f2c0",
   "metadata": {
    "scrolled": true,
    "pycharm": {
     "name": "#%%\n"
    }
   },
   "outputs": [
    {
     "name": "stdout",
     "output_type": "stream",
     "text": [
      "-RECORD 0----------\n",
      " SEQN    | 93703.0 \n",
      " DIQ010  | 2       \n",
      " DID040  | null    \n",
      " DIQ160  | null    \n",
      " DIQ170  | null    \n",
      " DIQ172  | null    \n",
      " DIQ175A | null    \n",
      " DIQ175B | null    \n",
      " DIQ175C | null    \n",
      " DIQ175D | null    \n",
      " DIQ175E | null    \n",
      " DIQ175F | null    \n",
      " DIQ175G | null    \n",
      " DIQ175H | null    \n",
      " DIQ175I | null    \n",
      " DIQ175J | null    \n",
      " DIQ175K | null    \n",
      "only showing top 1 row\n",
      "\n"
     ]
    }
   ],
   "source": [
    "raw_df.show(1,vertical=True)"
   ]
  },
  {
   "cell_type": "code",
   "execution_count": 12,
   "id": "677cb6c3",
   "metadata": {
    "scrolled": true,
    "pycharm": {
     "name": "#%%\n"
    }
   },
   "outputs": [
    {
     "data": {
      "text/plain": [
       "'SEQN'"
      ]
     },
     "execution_count": 12,
     "metadata": {},
     "output_type": "execute_result"
    }
   ],
   "source": [
    "# set a list contain features exclude 'SEQN'\n",
    "columns = raw_df.columns\n",
    "columns.pop(0)"
   ]
  },
  {
   "cell_type": "markdown",
   "id": "fb8142ab",
   "metadata": {
    "pycharm": {
     "name": "#%% md\n"
    }
   },
   "source": [
    "## Check data components for each feature"
   ]
  },
  {
   "cell_type": "code",
   "execution_count": 13,
   "id": "9ed1dcc1",
   "metadata": {
    "pycharm": {
     "name": "#%%\n"
    }
   },
   "outputs": [],
   "source": [
    "# remove rows contain too many null values \n",
    "def new_df_desc(df,input_thresh,columns):\n",
    "    # drop rows contain more than ... null\n",
    "    raw_df_new=df.dropna(thresh=input_thresh) # input_thresh: require how many non-NA values\n",
    "    print(raw_df_new.count())\n",
    "    for column in columns:\n",
    "        # group counts for each feature\n",
    "        raw_df_new.select(column)\\\n",
    "        .groupBy(raw_df_new[column]).agg({column:'count'}).orderBy(count(raw_df_new[column]).desc()).show()\n",
    "        # null percentage for each feature\n",
    "        raw_df_new.select(count(when(col(column).isNull(),column))/count('*')*100).show()\n",
    "    return raw_df_new"
   ]
  },
  {
   "cell_type": "code",
   "execution_count": 16,
   "id": "43df3458",
   "metadata": {
    "scrolled": true,
    "pycharm": {
     "name": "#%%\n"
    }
   },
   "outputs": [
    {
     "name": "stdout",
     "output_type": "stream",
     "text": [
      "8897\n",
      "+------+-------------+\n",
      "|DIQ010|count(DIQ010)|\n",
      "+------+-------------+\n",
      "|     2|         7816|\n",
      "|     1|          893|\n",
      "|     3|          184|\n",
      "|     9|            4|\n",
      "+------+-------------+\n",
      "\n",
      "+----------------------------------------------------------------------+\n",
      "|((count(CASE WHEN (DIQ010 IS NULL) THEN DIQ010 END) / count(1)) * 100)|\n",
      "+----------------------------------------------------------------------+\n",
      "|                                                                   0.0|\n",
      "+----------------------------------------------------------------------+\n",
      "\n",
      "+------+-------------+\n",
      "|DID040|count(DID040)|\n",
      "+------+-------------+\n",
      "|    50|           79|\n",
      "|    40|           48|\n",
      "|    55|           45|\n",
      "|    45|           45|\n",
      "|    60|           42|\n",
      "|    58|           31|\n",
      "|    59|           23|\n",
      "|    62|           23|\n",
      "|    30|           22|\n",
      "|    48|           21|\n",
      "|    52|           20|\n",
      "|    65|           20|\n",
      "|    54|           20|\n",
      "|    47|           19|\n",
      "|    53|           19|\n",
      "|    35|           18|\n",
      "|    46|           18|\n",
      "|    42|           17|\n",
      "|    38|           17|\n",
      "|    57|           17|\n",
      "+------+-------------+\n",
      "only showing top 20 rows\n",
      "\n",
      "+----------------------------------------------------------------------+\n",
      "|((count(CASE WHEN (DID040 IS NULL) THEN DID040 END) / count(1)) * 100)|\n",
      "+----------------------------------------------------------------------+\n",
      "|                                                     89.97414858941217|\n",
      "+----------------------------------------------------------------------+\n",
      "\n",
      "+------+-------------+\n",
      "|DIQ160|count(DIQ160)|\n",
      "+------+-------------+\n",
      "|     2|         5089|\n",
      "|     1|          597|\n",
      "|     9|            8|\n",
      "|  null|            0|\n",
      "+------+-------------+\n",
      "\n",
      "+----------------------------------------------------------------------+\n",
      "|((count(CASE WHEN (DIQ160 IS NULL) THEN DIQ160 END) / count(1)) * 100)|\n",
      "+----------------------------------------------------------------------+\n",
      "|                                                     36.00089917949871|\n",
      "+----------------------------------------------------------------------+\n",
      "\n",
      "+------+-------------+\n",
      "|DIQ170|count(DIQ170)|\n",
      "+------+-------------+\n",
      "|     2|         4911|\n",
      "|     1|          948|\n",
      "|     9|           17|\n",
      "|  null|            0|\n",
      "+------+-------------+\n",
      "\n",
      "+----------------------------------------------------------------------+\n",
      "|((count(CASE WHEN (DIQ170 IS NULL) THEN DIQ170 END) / count(1)) * 100)|\n",
      "+----------------------------------------------------------------------+\n",
      "|                                                     33.95526581993931|\n",
      "+----------------------------------------------------------------------+\n",
      "\n",
      "+------+-------------+\n",
      "|DIQ172|count(DIQ172)|\n",
      "+------+-------------+\n",
      "|     2|         4243|\n",
      "|     1|         1562|\n",
      "|     9|           69|\n",
      "|     7|            2|\n",
      "|  null|            0|\n",
      "+------+-------------+\n",
      "\n",
      "+----------------------------------------------------------------------+\n",
      "|((count(CASE WHEN (DIQ172 IS NULL) THEN DIQ172 END) / count(1)) * 100)|\n",
      "+----------------------------------------------------------------------+\n",
      "|                                                     33.95526581993931|\n",
      "+----------------------------------------------------------------------+\n",
      "\n",
      "+-------+--------------+\n",
      "|DIQ175A|count(DIQ175A)|\n",
      "+-------+--------------+\n",
      "|     10|          1143|\n",
      "|     99|             2|\n",
      "|   null|             0|\n",
      "+-------+--------------+\n",
      "\n",
      "+------------------------------------------------------------------------+\n",
      "|((count(CASE WHEN (DIQ175A IS NULL) THEN DIQ175A END) / count(1)) * 100)|\n",
      "+------------------------------------------------------------------------+\n",
      "|                                                       87.13049342474991|\n",
      "+------------------------------------------------------------------------+\n",
      "\n",
      "+-------+--------------+\n",
      "|DIQ175B|count(DIQ175B)|\n",
      "+-------+--------------+\n",
      "|     11|           657|\n",
      "|   null|             0|\n",
      "+-------+--------------+\n",
      "\n",
      "+------------------------------------------------------------------------+\n",
      "|((count(CASE WHEN (DIQ175B IS NULL) THEN DIQ175B END) / count(1)) * 100)|\n",
      "+------------------------------------------------------------------------+\n",
      "|                                                       92.61548836686524|\n",
      "+------------------------------------------------------------------------+\n",
      "\n",
      "+-------+--------------+\n",
      "|DIQ175C|count(DIQ175C)|\n",
      "+-------+--------------+\n",
      "|     12|           217|\n",
      "|   null|             0|\n",
      "+-------+--------------+\n",
      "\n",
      "+------------------------------------------------------------------------+\n",
      "|((count(CASE WHEN (DIQ175C IS NULL) THEN DIQ175C END) / count(1)) * 100)|\n",
      "+------------------------------------------------------------------------+\n",
      "|                                                        97.5609756097561|\n",
      "+------------------------------------------------------------------------+\n",
      "\n",
      "+-------+--------------+\n",
      "|DIQ175D|count(DIQ175D)|\n",
      "+-------+--------------+\n",
      "|     13|           488|\n",
      "|   null|             0|\n",
      "+-------+--------------+\n",
      "\n",
      "+------------------------------------------------------------------------+\n",
      "|((count(CASE WHEN (DIQ175D IS NULL) THEN DIQ175D END) / count(1)) * 100)|\n",
      "+------------------------------------------------------------------------+\n",
      "|                                                       94.51500505788468|\n",
      "+------------------------------------------------------------------------+\n",
      "\n",
      "+-------+--------------+\n",
      "|DIQ175E|count(DIQ175E)|\n",
      "+-------+--------------+\n",
      "|     14|           177|\n",
      "|   null|             0|\n",
      "+-------+--------------+\n",
      "\n",
      "+------------------------------------------------------------------------+\n",
      "|((count(CASE WHEN (DIQ175E IS NULL) THEN DIQ175E END) / count(1)) * 100)|\n",
      "+------------------------------------------------------------------------+\n",
      "|                                                       98.01056535910982|\n",
      "+------------------------------------------------------------------------+\n",
      "\n",
      "+-------+--------------+\n",
      "|DIQ175F|count(DIQ175F)|\n",
      "+-------+--------------+\n",
      "|     15|            38|\n",
      "|   null|             0|\n",
      "+-------+--------------+\n",
      "\n",
      "+------------------------------------------------------------------------+\n",
      "|((count(CASE WHEN (DIQ175F IS NULL) THEN DIQ175F END) / count(1)) * 100)|\n",
      "+------------------------------------------------------------------------+\n",
      "|                                                       99.57288973811397|\n",
      "+------------------------------------------------------------------------+\n",
      "\n",
      "+-------+--------------+\n",
      "|DIQ175G|count(DIQ175G)|\n",
      "+-------+--------------+\n",
      "|     16|           318|\n",
      "|   null|             0|\n",
      "+-------+--------------+\n",
      "\n",
      "+------------------------------------------------------------------------+\n",
      "|((count(CASE WHEN (DIQ175G IS NULL) THEN DIQ175G END) / count(1)) * 100)|\n",
      "+------------------------------------------------------------------------+\n",
      "|                                                       96.42576149263796|\n",
      "+------------------------------------------------------------------------+\n",
      "\n",
      "+-------+--------------+\n",
      "|DIQ175H|count(DIQ175H)|\n",
      "+-------+--------------+\n",
      "|     17|           291|\n",
      "|   null|             0|\n",
      "+-------+--------------+\n",
      "\n",
      "+------------------------------------------------------------------------+\n",
      "|((count(CASE WHEN (DIQ175H IS NULL) THEN DIQ175H END) / count(1)) * 100)|\n",
      "+------------------------------------------------------------------------+\n",
      "|                                                       96.72923457345173|\n",
      "+------------------------------------------------------------------------+\n",
      "\n",
      "+-------+--------------+\n",
      "|DIQ175I|count(DIQ175I)|\n",
      "+-------+--------------+\n",
      "|     18|            76|\n",
      "|   null|             0|\n",
      "+-------+--------------+\n",
      "\n",
      "+------------------------------------------------------------------------+\n",
      "|((count(CASE WHEN (DIQ175I IS NULL) THEN DIQ175I END) / count(1)) * 100)|\n",
      "+------------------------------------------------------------------------+\n",
      "|                                                       99.14577947622794|\n",
      "+------------------------------------------------------------------------+\n",
      "\n",
      "+-------+--------------+\n",
      "|DIQ175J|count(DIQ175J)|\n",
      "+-------+--------------+\n",
      "|     19|           163|\n",
      "|   null|             0|\n",
      "+-------+--------------+\n",
      "\n",
      "+------------------------------------------------------------------------+\n",
      "|((count(CASE WHEN (DIQ175J IS NULL) THEN DIQ175J END) / count(1)) * 100)|\n",
      "+------------------------------------------------------------------------+\n",
      "|                                                       98.16792177138362|\n",
      "+------------------------------------------------------------------------+\n",
      "\n"
     ]
    },
    {
     "name": "stdout",
     "output_type": "stream",
     "text": [
      "+-------+--------------+\n",
      "|DIQ175K|count(DIQ175K)|\n",
      "+-------+--------------+\n",
      "|     20|            29|\n",
      "|   null|             0|\n",
      "+-------+--------------+\n",
      "\n",
      "+------------------------------------------------------------------------+\n",
      "|((count(CASE WHEN (DIQ175K IS NULL) THEN DIQ175K END) / count(1)) * 100)|\n",
      "+------------------------------------------------------------------------+\n",
      "|                                                       99.67404743171856|\n",
      "+------------------------------------------------------------------------+\n",
      "\n"
     ]
    }
   ],
   "source": [
    "raw_df_new = new_df_desc(raw_df,1,columns)"
   ]
  },
  {
   "cell_type": "markdown",
   "id": "06a64517",
   "metadata": {
    "pycharm": {
     "name": "#%% md\n"
    }
   },
   "source": [
    "## Set the suited target variable\n",
    "\n",
    "### 'DIQ010' OR 'DIQ170'"
   ]
  },
  {
   "cell_type": "markdown",
   "id": "af10e24f",
   "metadata": {
    "pycharm": {
     "name": "#%% md\n"
    }
   },
   "source": [
    "* split data by 'DIQ010': Doctor told you have diabetes"
   ]
  },
  {
   "cell_type": "code",
   "execution_count": 29,
   "id": "a10939a9",
   "metadata": {
    "pycharm": {
     "name": "#%%\n"
    }
   },
   "outputs": [],
   "source": [
    "df_1 = raw_df[raw_df['DIQ010']==1] # has diabetes\n",
    "df_2 = raw_df[raw_df['DIQ010']==2] # do not have\n",
    "df_3 = raw_df[raw_df['DIQ010']==3] # borderline"
   ]
  },
  {
   "cell_type": "code",
   "execution_count": 30,
   "id": "b28827c4",
   "metadata": {
    "scrolled": true,
    "pycharm": {
     "name": "#%%\n"
    }
   },
   "outputs": [
    {
     "name": "stdout",
     "output_type": "stream",
     "text": [
      "+------+-------------+\n",
      "|DIQ010|count(DIQ010)|\n",
      "+------+-------------+\n",
      "|     1|          893|\n",
      "+------+-------------+\n",
      "\n",
      "+------+-------------+\n",
      "|DID040|count(DID040)|\n",
      "+------+-------------+\n",
      "|    50|           79|\n",
      "|    40|           48|\n",
      "|    55|           45|\n",
      "|    45|           45|\n",
      "|    60|           42|\n",
      "|    58|           31|\n",
      "|    59|           23|\n",
      "|    62|           23|\n",
      "|    30|           22|\n",
      "|    48|           21|\n",
      "|    54|           20|\n",
      "|    52|           20|\n",
      "|    65|           20|\n",
      "|    53|           19|\n",
      "|    47|           19|\n",
      "|    46|           18|\n",
      "|    35|           18|\n",
      "|    42|           17|\n",
      "|    38|           17|\n",
      "|    57|           17|\n",
      "+------+-------------+\n",
      "only showing top 20 rows\n",
      "\n",
      "+------+-------------+\n",
      "|DIQ160|count(DIQ160)|\n",
      "+------+-------------+\n",
      "|  null|            0|\n",
      "+------+-------------+\n",
      "\n",
      "+------+-------------+\n",
      "|DIQ170|count(DIQ170)|\n",
      "+------+-------------+\n",
      "|  null|            0|\n",
      "+------+-------------+\n",
      "\n",
      "+------+-------------+\n",
      "|DIQ172|count(DIQ172)|\n",
      "+------+-------------+\n",
      "|  null|            0|\n",
      "+------+-------------+\n",
      "\n",
      "+-------+--------------+\n",
      "|DIQ175A|count(DIQ175A)|\n",
      "+-------+--------------+\n",
      "|   null|             0|\n",
      "+-------+--------------+\n",
      "\n",
      "+-------+--------------+\n",
      "|DIQ175B|count(DIQ175B)|\n",
      "+-------+--------------+\n",
      "|   null|             0|\n",
      "+-------+--------------+\n",
      "\n",
      "+-------+--------------+\n",
      "|DIQ175C|count(DIQ175C)|\n",
      "+-------+--------------+\n",
      "|   null|             0|\n",
      "+-------+--------------+\n",
      "\n",
      "+-------+--------------+\n",
      "|DIQ175D|count(DIQ175D)|\n",
      "+-------+--------------+\n",
      "|   null|             0|\n",
      "+-------+--------------+\n",
      "\n",
      "+-------+--------------+\n",
      "|DIQ175E|count(DIQ175E)|\n",
      "+-------+--------------+\n",
      "|   null|             0|\n",
      "+-------+--------------+\n",
      "\n",
      "+-------+--------------+\n",
      "|DIQ175F|count(DIQ175F)|\n",
      "+-------+--------------+\n",
      "|   null|             0|\n",
      "+-------+--------------+\n",
      "\n",
      "+-------+--------------+\n",
      "|DIQ175G|count(DIQ175G)|\n",
      "+-------+--------------+\n",
      "|   null|             0|\n",
      "+-------+--------------+\n",
      "\n",
      "+-------+--------------+\n",
      "|DIQ175H|count(DIQ175H)|\n",
      "+-------+--------------+\n",
      "|   null|             0|\n",
      "+-------+--------------+\n",
      "\n",
      "+-------+--------------+\n",
      "|DIQ175I|count(DIQ175I)|\n",
      "+-------+--------------+\n",
      "|   null|             0|\n",
      "+-------+--------------+\n",
      "\n",
      "+-------+--------------+\n",
      "|DIQ175J|count(DIQ175J)|\n",
      "+-------+--------------+\n",
      "|   null|             0|\n",
      "+-------+--------------+\n",
      "\n",
      "+-------+--------------+\n",
      "|DIQ175K|count(DIQ175K)|\n",
      "+-------+--------------+\n",
      "|   null|             0|\n",
      "+-------+--------------+\n",
      "\n"
     ]
    }
   ],
   "source": [
    "for column in columns:\n",
    "    # group counts for each feature\n",
    "    df_1.select(column)\\\n",
    "        .groupBy(df_1[column]).agg({column:'count'}).orderBy(count(df_1[column]).desc()).show()\n",
    "#     # null percentage for each feature\n",
    "#     df_1.select(count(when(col(column).isNull(),column))/count('*')*100).show()"
   ]
  },
  {
   "cell_type": "markdown",
   "id": "b3ec5dde",
   "metadata": {
    "pycharm": {
     "name": "#%% md\n"
    }
   },
   "source": [
    "people has diabetes would have no data for other features --> 'DIQ010' could not be target variable"
   ]
  },
  {
   "cell_type": "markdown",
   "id": "03a6ad0c",
   "metadata": {
    "pycharm": {
     "name": "#%% md\n"
    }
   },
   "source": [
    "* split data by 'DIQ170': Ever told have health risk for diabetes"
   ]
  },
  {
   "cell_type": "code",
   "execution_count": 31,
   "id": "6cc41116",
   "metadata": {
    "pycharm": {
     "name": "#%%\n"
    }
   },
   "outputs": [],
   "source": [
    "df_1_170 = raw_df[raw_df['DIQ170']==1] # yes\n",
    "df_2_170 = raw_df[raw_df['DIQ170']==2] # no\n",
    "df_3_170 = raw_df[raw_df['DIQ170']==9] # don't know"
   ]
  },
  {
   "cell_type": "code",
   "execution_count": 32,
   "id": "ec5b6ecc",
   "metadata": {
    "scrolled": true,
    "pycharm": {
     "name": "#%%\n"
    }
   },
   "outputs": [
    {
     "name": "stdout",
     "output_type": "stream",
     "text": [
      "+------+-------------+\n",
      "|DIQ010|count(DIQ010)|\n",
      "+------+-------------+\n",
      "|     2|         4807|\n",
      "|     3|          103|\n",
      "|     9|            1|\n",
      "+------+-------------+\n",
      "\n",
      "+----------------------------------------------------------------------+\n",
      "|((count(CASE WHEN (DIQ010 IS NULL) THEN DIQ010 END) / count(1)) * 100)|\n",
      "+----------------------------------------------------------------------+\n",
      "|                                                                   0.0|\n",
      "+----------------------------------------------------------------------+\n",
      "\n",
      "+------+-------------+\n",
      "|DID040|count(DID040)|\n",
      "+------+-------------+\n",
      "|  null|            0|\n",
      "+------+-------------+\n",
      "\n",
      "+----------------------------------------------------------------------+\n",
      "|((count(CASE WHEN (DID040 IS NULL) THEN DID040 END) / count(1)) * 100)|\n",
      "+----------------------------------------------------------------------+\n",
      "|                                                                 100.0|\n",
      "+----------------------------------------------------------------------+\n",
      "\n",
      "+------+-------------+\n",
      "|DIQ160|count(DIQ160)|\n",
      "+------+-------------+\n",
      "|     2|         4453|\n",
      "|     1|          351|\n",
      "|     9|            4|\n",
      "|  null|            0|\n",
      "+------+-------------+\n",
      "\n",
      "+----------------------------------------------------------------------+\n",
      "|((count(CASE WHEN (DIQ160 IS NULL) THEN DIQ160 END) / count(1)) * 100)|\n",
      "+----------------------------------------------------------------------+\n",
      "|                                                     2.097332518835268|\n",
      "+----------------------------------------------------------------------+\n",
      "\n",
      "+------+-------------+\n",
      "|DIQ170|count(DIQ170)|\n",
      "+------+-------------+\n",
      "|     2|         4911|\n",
      "+------+-------------+\n",
      "\n",
      "+----------------------------------------------------------------------+\n",
      "|((count(CASE WHEN (DIQ170 IS NULL) THEN DIQ170 END) / count(1)) * 100)|\n",
      "+----------------------------------------------------------------------+\n",
      "|                                                                   0.0|\n",
      "+----------------------------------------------------------------------+\n",
      "\n",
      "+------+-------------+\n",
      "|DIQ172|count(DIQ172)|\n",
      "+------+-------------+\n",
      "|     2|         3931|\n",
      "|     1|          913|\n",
      "|     9|           65|\n",
      "|     7|            2|\n",
      "+------+-------------+\n",
      "\n",
      "+----------------------------------------------------------------------+\n",
      "|((count(CASE WHEN (DIQ172 IS NULL) THEN DIQ172 END) / count(1)) * 100)|\n",
      "+----------------------------------------------------------------------+\n",
      "|                                                                   0.0|\n",
      "+----------------------------------------------------------------------+\n",
      "\n",
      "+-------+--------------+\n",
      "|DIQ175A|count(DIQ175A)|\n",
      "+-------+--------------+\n",
      "|     10|           557|\n",
      "|     99|             2|\n",
      "|   null|             0|\n",
      "+-------+--------------+\n",
      "\n",
      "+------------------------------------------------------------------------+\n",
      "|((count(CASE WHEN (DIQ175A IS NULL) THEN DIQ175A END) / count(1)) * 100)|\n",
      "+------------------------------------------------------------------------+\n",
      "|                                                       88.61738953369985|\n",
      "+------------------------------------------------------------------------+\n",
      "\n",
      "+-------+--------------+\n",
      "|DIQ175B|count(DIQ175B)|\n",
      "+-------+--------------+\n",
      "|     11|           346|\n",
      "|   null|             0|\n",
      "+-------+--------------+\n",
      "\n",
      "+------------------------------------------------------------------------+\n",
      "|((count(CASE WHEN (DIQ175B IS NULL) THEN DIQ175B END) / count(1)) * 100)|\n",
      "+------------------------------------------------------------------------+\n",
      "|                                                       92.95459173284463|\n",
      "+------------------------------------------------------------------------+\n",
      "\n",
      "+-------+--------------+\n",
      "|DIQ175C|count(DIQ175C)|\n",
      "+-------+--------------+\n",
      "|     12|           126|\n",
      "|   null|             0|\n",
      "+-------+--------------+\n",
      "\n",
      "+------------------------------------------------------------------------+\n",
      "|((count(CASE WHEN (DIQ175C IS NULL) THEN DIQ175C END) / count(1)) * 100)|\n",
      "+------------------------------------------------------------------------+\n",
      "|                                                       97.43433109346365|\n",
      "+------------------------------------------------------------------------+\n",
      "\n",
      "+-------+--------------+\n",
      "|DIQ175D|count(DIQ175D)|\n",
      "+-------+--------------+\n",
      "|     13|           279|\n",
      "|   null|             0|\n",
      "+-------+--------------+\n",
      "\n",
      "+------------------------------------------------------------------------+\n",
      "|((count(CASE WHEN (DIQ175D IS NULL) THEN DIQ175D END) / count(1)) * 100)|\n",
      "+------------------------------------------------------------------------+\n",
      "|                                                       94.31887599266952|\n",
      "+------------------------------------------------------------------------+\n",
      "\n",
      "+-------+--------------+\n",
      "|DIQ175E|count(DIQ175E)|\n",
      "+-------+--------------+\n",
      "|     14|            88|\n",
      "|   null|             0|\n",
      "+-------+--------------+\n",
      "\n",
      "+------------------------------------------------------------------------+\n",
      "|((count(CASE WHEN (DIQ175E IS NULL) THEN DIQ175E END) / count(1)) * 100)|\n",
      "+------------------------------------------------------------------------+\n",
      "|                                                       98.20810425575239|\n",
      "+------------------------------------------------------------------------+\n",
      "\n",
      "+-------+--------------+\n",
      "|DIQ175F|count(DIQ175F)|\n",
      "+-------+--------------+\n",
      "|     15|            15|\n",
      "|   null|             0|\n",
      "+-------+--------------+\n",
      "\n",
      "+------------------------------------------------------------------------+\n",
      "|((count(CASE WHEN (DIQ175F IS NULL) THEN DIQ175F END) / count(1)) * 100)|\n",
      "+------------------------------------------------------------------------+\n",
      "|                                                       99.69456322541234|\n",
      "+------------------------------------------------------------------------+\n",
      "\n",
      "+-------+--------------+\n",
      "|DIQ175G|count(DIQ175G)|\n",
      "+-------+--------------+\n",
      "|     16|           153|\n",
      "|   null|             0|\n",
      "+-------+--------------+\n",
      "\n",
      "+------------------------------------------------------------------------+\n",
      "|((count(CASE WHEN (DIQ175G IS NULL) THEN DIQ175G END) / count(1)) * 100)|\n",
      "+------------------------------------------------------------------------+\n",
      "|                                                       96.88454489920586|\n",
      "+------------------------------------------------------------------------+\n",
      "\n",
      "+-------+--------------+\n",
      "|DIQ175H|count(DIQ175H)|\n",
      "+-------+--------------+\n",
      "|     17|           154|\n",
      "|   null|             0|\n",
      "+-------+--------------+\n",
      "\n",
      "+------------------------------------------------------------------------+\n",
      "|((count(CASE WHEN (DIQ175H IS NULL) THEN DIQ175H END) / count(1)) * 100)|\n",
      "+------------------------------------------------------------------------+\n",
      "|                                                       96.86418244756668|\n",
      "+------------------------------------------------------------------------+\n",
      "\n",
      "+-------+--------------+\n",
      "|DIQ175I|count(DIQ175I)|\n",
      "+-------+--------------+\n",
      "|     18|            36|\n",
      "|   null|             0|\n",
      "+-------+--------------+\n",
      "\n",
      "+------------------------------------------------------------------------+\n",
      "|((count(CASE WHEN (DIQ175I IS NULL) THEN DIQ175I END) / count(1)) * 100)|\n",
      "+------------------------------------------------------------------------+\n",
      "|                                                       99.26695174098961|\n",
      "+------------------------------------------------------------------------+\n",
      "\n",
      "+-------+--------------+\n",
      "|DIQ175J|count(DIQ175J)|\n",
      "+-------+--------------+\n",
      "|     19|            87|\n",
      "|   null|             0|\n",
      "+-------+--------------+\n",
      "\n",
      "+------------------------------------------------------------------------+\n",
      "|((count(CASE WHEN (DIQ175J IS NULL) THEN DIQ175J END) / count(1)) * 100)|\n",
      "+------------------------------------------------------------------------+\n",
      "|                                                       98.22846670739158|\n",
      "+------------------------------------------------------------------------+\n",
      "\n",
      "+-------+--------------+\n",
      "|DIQ175K|count(DIQ175K)|\n",
      "+-------+--------------+\n",
      "|     20|            10|\n",
      "|   null|             0|\n",
      "+-------+--------------+\n",
      "\n",
      "+------------------------------------------------------------------------+\n",
      "|((count(CASE WHEN (DIQ175K IS NULL) THEN DIQ175K END) / count(1)) * 100)|\n",
      "+------------------------------------------------------------------------+\n",
      "|                                                       99.79637548360823|\n",
      "+------------------------------------------------------------------------+\n",
      "\n"
     ]
    }
   ],
   "source": [
    "for column in columns:\n",
    "    df_2_170.select(column)\\\n",
    "        .groupBy(df_1_170[column]).agg({column:'count'}).orderBy(count(df_2_170[column]).desc()).show()\n",
    "    df_2_170.select(count(when(col(column).isNull(),column))/count('*')*100).show()"
   ]
  },
  {
   "cell_type": "markdown",
   "id": "1d5edfdc",
   "metadata": {
    "pycharm": {
     "name": "#%% md\n"
    }
   },
   "source": [
    "* above all, 'DIQ170' is suited"
   ]
  },
  {
   "cell_type": "markdown",
   "id": "5841cf20",
   "metadata": {
    "pycharm": {
     "name": "#%% md\n"
    }
   },
   "source": [
    "## Using UDF to change data in 'DIQ170', 'DIQ160', 'DIQ175A':"
   ]
  },
  {
   "cell_type": "markdown",
   "id": "7f6d63b4",
   "metadata": {
    "pycharm": {
     "name": "#%% md\n"
    }
   },
   "source": [
    "change data in 'DIQ170':\n",
    "\n",
    "    1 --> has risk of getting diabetes\n",
    "\n",
    "    0 --> do not have risk of getting diabetes"
   ]
  },
  {
   "cell_type": "code",
   "execution_count": 33,
   "id": "898ffd3a",
   "metadata": {
    "pycharm": {
     "name": "#%%\n"
    }
   },
   "outputs": [],
   "source": [
    "def check_170(input_string):\n",
    "    if input_string == '1': # has risk of diabetes\n",
    "        return 1\n",
    "    else:\n",
    "        return 0"
   ]
  },
  {
   "cell_type": "code",
   "execution_count": 34,
   "id": "2f876c8f",
   "metadata": {
    "pycharm": {
     "name": "#%%\n"
    }
   },
   "outputs": [],
   "source": [
    "check_170_UDF = udf(lambda x:check_170(x))"
   ]
  },
  {
   "cell_type": "markdown",
   "id": "1d8febb2",
   "metadata": {
    "pycharm": {
     "name": "#%% md\n"
    }
   },
   "source": [
    "change data in 'DIQ160':\n",
    "\n",
    "    1 --> has prediabetes\n",
    "\n",
    "    0 --> do not have prediabetes\n",
    "    \n",
    "    2 --> not sure"
   ]
  },
  {
   "cell_type": "code",
   "execution_count": 35,
   "id": "c8e105f1",
   "metadata": {
    "pycharm": {
     "name": "#%%\n"
    }
   },
   "outputs": [],
   "source": [
    "def check_160(input_string):\n",
    "    if input_string == '1': # yes\n",
    "        return str(1)\n",
    "    elif input_string == '2': # no\n",
    "        return str(0)\n",
    "    else: # don't konw\n",
    "        return str(2)"
   ]
  },
  {
   "cell_type": "code",
   "execution_count": 36,
   "id": "39c1f410",
   "metadata": {
    "pycharm": {
     "name": "#%%\n"
    }
   },
   "outputs": [],
   "source": [
    "check_160_UDF = udf(lambda x:check_160(x))"
   ]
  },
  {
   "cell_type": "markdown",
   "id": "d831f912",
   "metadata": {
    "pycharm": {
     "name": "#%% md\n"
    }
   },
   "source": [
    "change data in 'DIQ175A':\n",
    "\n",
    "    1 --> has family history\n",
    "\n",
    "    0 --> do not have"
   ]
  },
  {
   "cell_type": "code",
   "execution_count": 37,
   "id": "216185cd",
   "metadata": {
    "pycharm": {
     "name": "#%%\n"
    }
   },
   "outputs": [],
   "source": [
    "def check_175A(input_string):\n",
    "    if input_string == '10': # yes\n",
    "        return str(1)\n",
    "    else: # no\n",
    "        return str(0)"
   ]
  },
  {
   "cell_type": "code",
   "execution_count": 38,
   "id": "45eb3813",
   "metadata": {
    "pycharm": {
     "name": "#%%\n"
    }
   },
   "outputs": [],
   "source": [
    "check_175A_UDF = udf(lambda x:check_175A(x))"
   ]
  },
  {
   "cell_type": "markdown",
   "id": "582f2bf3",
   "metadata": {
    "pycharm": {
     "name": "#%% md\n"
    }
   },
   "source": [
    "change data for null:\n",
    "\n",
    "    1 --> not null\n",
    "\n",
    "    0 --> null"
   ]
  },
  {
   "cell_type": "code",
   "execution_count": 39,
   "id": "3afe255a",
   "metadata": {
    "pycharm": {
     "name": "#%%\n"
    }
   },
   "outputs": [],
   "source": [
    "def check_null(input_string):\n",
    "    if input_string == None: # has risk of diabetes\n",
    "        return str(0)\n",
    "    else:\n",
    "        return str(1)"
   ]
  },
  {
   "cell_type": "code",
   "execution_count": 40,
   "id": "9560abac",
   "metadata": {
    "pycharm": {
     "name": "#%%\n"
    }
   },
   "outputs": [],
   "source": [
    "check_null_UDF = udf(lambda x:check_null(x))"
   ]
  },
  {
   "cell_type": "markdown",
   "id": "3f80c536",
   "metadata": {
    "pycharm": {
     "name": "#%% md\n"
    }
   },
   "source": [
    "# Data Processing Function"
   ]
  },
  {
   "cell_type": "code",
   "execution_count": 42,
   "id": "4508c550",
   "metadata": {
    "pycharm": {
     "name": "#%%\n"
    }
   },
   "outputs": [],
   "source": [
    "def df_cleaning(df_name):\n",
    "    # load raw file\n",
    "    df = spark.read.option('header', True).option('inferSchema', True) .csv(df_name)\n",
    "    # drop useless feature\n",
    "    need_to_remove = ['_c0','DIQ175C','DIQ175E','DIQ175L','DIQ175M','DIQ175N','DIQ175O','DIQ175P','DIQ175Q','DIQ175R','DIQ175S','DIQ175T','DIQ175U','DIQ175V','DIQ175W','DIQ175X','DIQ180','DIQ050','DID060','DIQ060U','DIQ070','DIQ230','DIQ240','DID250','DID260','DIQ260U','DIQ275','DIQ280','DIQ291','DIQ300S','DIQ300D','DID310S','DID310D','DID320','DID330','DID341','DID350','DIQ350U','DIQ360','DIQ080']\n",
    "    for column in need_to_remove:\n",
    "        df = df.drop(column)\n",
    "    # NA --> null\n",
    "    for c in df.columns:\n",
    "        df = df.withColumn(c, when(col(c)=='NA' ,None).otherwise(col(c)))\n",
    "    # target feature's value change --> [0,1]\n",
    "    df = df.withColumn('DIQ170',check_170_UDF(col('DIQ170')))\n",
    "    df = df.withColumn('DIQ160',check_160_UDF(col('DIQ160')))\n",
    "    df = df.withColumn('DIQ175A',check_175A_UDF(col('DIQ175A')))\n",
    "    # rename columns\n",
    "    df = df.withColumnRenamed('DIQ010', 'have_diabetes')\n",
    "    df = df.withColumnRenamed('DID040', 'age_get_diabetes')\n",
    "    df = df.withColumnRenamed('DIQ160', 'have_prediabetes')\n",
    "    df = df.withColumnRenamed('DIQ170', 'have_risk')\n",
    "    df = df.withColumnRenamed('DIQ172', 'feel_risk')\n",
    "    df = df.withColumnRenamed('DIQ175A', 'family_history')\n",
    "    df = df.withColumnRenamed('DIQ175B', 'overweight')\n",
    "    df = df.withColumnRenamed('DIQ175D', 'poor_diet')\n",
    "    df = df.withColumnRenamed('DIQ175F', 'baby_weighed_over9')\n",
    "    df = df.withColumnRenamed('DIQ175G', 'lack_physical_activity')\n",
    "    df = df.withColumnRenamed('DIQ175H', 'high_blood_pressure')\n",
    "    df = df.withColumnRenamed('DIQ175I', 'high_blood_sugar')\n",
    "    df = df.withColumnRenamed('DIQ175J', 'high_cholesterol')\n",
    "    df = df.withColumnRenamed('DIQ175K', 'hypoglycemic')\n",
    "    for column in ['overweight','poor_diet','baby_weighed_over9','lack_physical_activity','high_blood_pressure','high_blood_sugar','high_cholesterol','hypoglycemic']:\n",
    "        df = df.withColumn(column,check_null_UDF(col(column)))\n",
    "    \n",
    "    # drop rows contain more than ... null\n",
    "#     df=df.dropna(thresh=6) # input_thresh: require how many non-NA values\n",
    "#     for c in df.columns:\n",
    "#         df = df.withColumn(c, when(col(c)==None ,str(0)).otherwise(col(c)))\n",
    "    \n",
    "    return df"
   ]
  },
  {
   "cell_type": "code",
   "execution_count": 43,
   "id": "83d0e20f",
   "metadata": {
    "pycharm": {
     "name": "#%%\n"
    }
   },
   "outputs": [],
   "source": [
    "df_17_18 = df_cleaning('diabetes_nhanes_17_18.csv')\n",
    "df_15_16 = df_cleaning('diabetes_nhanes_15_16.csv')\n",
    "df_13_14 = df_cleaning('diabetes_nhanes_13_14.csv')\n",
    "df_11_12 = df_cleaning('diabetes_nhanes_11_12.csv')"
   ]
  },
  {
   "cell_type": "code",
   "execution_count": 44,
   "id": "7c092e67",
   "metadata": {
    "pycharm": {
     "name": "#%%\n"
    }
   },
   "outputs": [],
   "source": [
    "union_all_df = df_17_18.union(df_15_16).cache()\n",
    "union_all_df = union_all_df.union(df_13_14).cache()\n",
    "union_all_df = union_all_df.union(df_11_12).cache()"
   ]
  },
  {
   "cell_type": "code",
   "execution_count": 45,
   "id": "045dcbe5",
   "metadata": {
    "pycharm": {
     "name": "#%%\n"
    }
   },
   "outputs": [
    {
     "data": {
      "text/plain": [
       "38012"
      ]
     },
     "execution_count": 45,
     "metadata": {},
     "output_type": "execute_result"
    }
   ],
   "source": [
    "union_all_df.count()"
   ]
  },
  {
   "cell_type": "code",
   "execution_count": 46,
   "id": "1fc0ff1a",
   "metadata": {
    "pycharm": {
     "name": "#%%\n"
    }
   },
   "outputs": [],
   "source": [
    "union_all_df_pd = union_all_df.toPandas()"
   ]
  },
  {
   "cell_type": "code",
   "execution_count": 48,
   "id": "49da0263",
   "metadata": {
    "pycharm": {
     "name": "#%%\n"
    }
   },
   "outputs": [
    {
     "data": {
      "text/plain": [
       "'SEQN'"
      ]
     },
     "execution_count": 48,
     "metadata": {},
     "output_type": "execute_result"
    }
   ],
   "source": [
    "columns = union_all_df.columns\n",
    "columns.pop(0)"
   ]
  },
  {
   "cell_type": "code",
   "execution_count": 49,
   "id": "897d0a51",
   "metadata": {
    "pycharm": {
     "name": "#%%\n"
    }
   },
   "outputs": [
    {
     "name": "stdout",
     "output_type": "stream",
     "text": [
      "['have_diabetes', 'age_get_diabetes', 'have_prediabetes', 'have_risk', 'feel_risk', 'family_history', 'overweight', 'poor_diet', 'baby_weighed_over9', 'lack_physical_activity', 'high_blood_pressure', 'high_blood_sugar', 'high_cholesterol', 'hypoglycemic']\n"
     ]
    }
   ],
   "source": [
    "print(columns)"
   ]
  },
  {
   "cell_type": "markdown",
   "id": "e120e12a",
   "metadata": {
    "pycharm": {
     "name": "#%% md\n"
    }
   },
   "source": [
    "## final df structure:"
   ]
  },
  {
   "cell_type": "code",
   "execution_count": 53,
   "id": "77b3b401",
   "metadata": {
    "scrolled": true,
    "pycharm": {
     "name": "#%%\n"
    }
   },
   "outputs": [
    {
     "name": "stdout",
     "output_type": "stream",
     "text": [
      "+-------------+--------------------+\n",
      "|have_diabetes|count(have_diabetes)|\n",
      "+-------------+--------------------+\n",
      "|            2|               34066|\n",
      "|            1|                3223|\n",
      "|            3|                 701|\n",
      "|            9|                  18|\n",
      "|            7|                   2|\n",
      "|         null|                   0|\n",
      "+-------------+--------------------+\n",
      "\n",
      "+------------------------------------------------------------------------------------+\n",
      "|((count(CASE WHEN (have_diabetes IS NULL) THEN have_diabetes END) / count(1)) * 100)|\n",
      "+------------------------------------------------------------------------------------+\n",
      "|                                                                0.005261496369567504|\n",
      "+------------------------------------------------------------------------------------+\n",
      "\n",
      "+----------------+-----------------------+\n",
      "|age_get_diabetes|count(age_get_diabetes)|\n",
      "+----------------+-----------------------+\n",
      "|              50|                    239|\n",
      "|              40|                    159|\n",
      "|              55|                    157|\n",
      "|              45|                    154|\n",
      "|              60|                    140|\n",
      "|              65|                    100|\n",
      "|              48|                     85|\n",
      "|              35|                     83|\n",
      "|              52|                     80|\n",
      "|              30|                     79|\n",
      "|              57|                     71|\n",
      "|              47|                     70|\n",
      "|              53|                     66|\n",
      "|              56|                     64|\n",
      "|              62|                     63|\n",
      "|              58|                     63|\n",
      "|              59|                     62|\n",
      "|              42|                     62|\n",
      "|              38|                     61|\n",
      "|              46|                     60|\n",
      "+----------------+-----------------------+\n",
      "only showing top 20 rows\n",
      "\n",
      "+------------------------------------------------------------------------------------------+\n",
      "|((count(CASE WHEN (age_get_diabetes IS NULL) THEN age_get_diabetes END) / count(1)) * 100)|\n",
      "+------------------------------------------------------------------------------------------+\n",
      "|                                                                          91.5316215931811|\n",
      "+------------------------------------------------------------------------------------------+\n",
      "\n",
      "+----------------+-----------------------+\n",
      "|have_prediabetes|count(have_prediabetes)|\n",
      "+----------------+-----------------------+\n",
      "|               0|                  22612|\n",
      "|               2|                  13734|\n",
      "|               1|                   1666|\n",
      "+----------------+-----------------------+\n",
      "\n",
      "+------------------------------------------------------------------------------------------+\n",
      "|((count(CASE WHEN (have_prediabetes IS NULL) THEN have_prediabetes END) / count(1)) * 100)|\n",
      "+------------------------------------------------------------------------------------------+\n",
      "|                                                                                       0.0|\n",
      "+------------------------------------------------------------------------------------------+\n",
      "\n",
      "+---------+----------------+\n",
      "|have_risk|count(have_risk)|\n",
      "+---------+----------------+\n",
      "|        0|           34419|\n",
      "|        1|            3593|\n",
      "+---------+----------------+\n",
      "\n",
      "+----------------------------------------------------------------------------+\n",
      "|((count(CASE WHEN (have_risk IS NULL) THEN have_risk END) / count(1)) * 100)|\n",
      "+----------------------------------------------------------------------------+\n",
      "|                                                                         0.0|\n",
      "+----------------------------------------------------------------------------+\n",
      "\n",
      "+---------+----------------+\n",
      "|feel_risk|count(feel_risk)|\n",
      "+---------+----------------+\n",
      "|        2|           18159|\n",
      "|        1|            6554|\n",
      "|        9|             284|\n",
      "|        7|               3|\n",
      "|     null|               0|\n",
      "+---------+----------------+\n",
      "\n",
      "+----------------------------------------------------------------------------+\n",
      "|((count(CASE WHEN (feel_risk IS NULL) THEN feel_risk END) / count(1)) * 100)|\n",
      "+----------------------------------------------------------------------------+\n",
      "|                                                           34.23129538040619|\n",
      "+----------------------------------------------------------------------------+\n",
      "\n",
      "+--------------+---------------------+\n",
      "|family_history|count(family_history)|\n",
      "+--------------+---------------------+\n",
      "|             0|                33009|\n",
      "|             1|                 5003|\n",
      "+--------------+---------------------+\n",
      "\n",
      "+--------------------------------------------------------------------------------------+\n",
      "|((count(CASE WHEN (family_history IS NULL) THEN family_history END) / count(1)) * 100)|\n",
      "+--------------------------------------------------------------------------------------+\n",
      "|                                                                                   0.0|\n",
      "+--------------------------------------------------------------------------------------+\n",
      "\n",
      "+----------+-----------------+\n",
      "|overweight|count(overweight)|\n",
      "+----------+-----------------+\n",
      "|         0|            35662|\n",
      "|         1|             2350|\n",
      "+----------+-----------------+\n",
      "\n",
      "+------------------------------------------------------------------------------+\n",
      "|((count(CASE WHEN (overweight IS NULL) THEN overweight END) / count(1)) * 100)|\n",
      "+------------------------------------------------------------------------------+\n",
      "|                                                                           0.0|\n",
      "+------------------------------------------------------------------------------+\n",
      "\n",
      "+---------+----------------+\n",
      "|poor_diet|count(poor_diet)|\n",
      "+---------+----------------+\n",
      "|        0|           36325|\n",
      "|        1|            1687|\n",
      "+---------+----------------+\n",
      "\n",
      "+----------------------------------------------------------------------------+\n",
      "|((count(CASE WHEN (poor_diet IS NULL) THEN poor_diet END) / count(1)) * 100)|\n",
      "+----------------------------------------------------------------------------+\n",
      "|                                                                         0.0|\n",
      "+----------------------------------------------------------------------------+\n",
      "\n",
      "+------------------+-------------------------+\n",
      "|baby_weighed_over9|count(baby_weighed_over9)|\n",
      "+------------------+-------------------------+\n",
      "|                 0|                    37879|\n",
      "|                 1|                      133|\n",
      "+------------------+-------------------------+\n",
      "\n",
      "+----------------------------------------------------------------------------------------------+\n",
      "|((count(CASE WHEN (baby_weighed_over9 IS NULL) THEN baby_weighed_over9 END) / count(1)) * 100)|\n",
      "+----------------------------------------------------------------------------------------------+\n",
      "|                                                                                           0.0|\n",
      "+----------------------------------------------------------------------------------------------+\n",
      "\n",
      "+----------------------+-----------------------------+\n",
      "|lack_physical_activity|count(lack_physical_activity)|\n",
      "+----------------------+-----------------------------+\n",
      "|                     0|                        37112|\n",
      "|                     1|                          900|\n",
      "+----------------------+-----------------------------+\n",
      "\n",
      "+------------------------------------------------------------------------------------------------------+\n",
      "|((count(CASE WHEN (lack_physical_activity IS NULL) THEN lack_physical_activity END) / count(1)) * 100)|\n",
      "+------------------------------------------------------------------------------------------------------+\n",
      "|                                                                                                   0.0|\n",
      "+------------------------------------------------------------------------------------------------------+\n",
      "\n",
      "+-------------------+--------------------------+\n",
      "|high_blood_pressure|count(high_blood_pressure)|\n",
      "+-------------------+--------------------------+\n",
      "|                  0|                     37161|\n",
      "|                  1|                       851|\n",
      "+-------------------+--------------------------+\n",
      "\n",
      "+------------------------------------------------------------------------------------------------+\n",
      "|((count(CASE WHEN (high_blood_pressure IS NULL) THEN high_blood_pressure END) / count(1)) * 100)|\n",
      "+------------------------------------------------------------------------------------------------+\n",
      "|                                                                                             0.0|\n",
      "+------------------------------------------------------------------------------------------------+\n",
      "\n"
     ]
    },
    {
     "name": "stdout",
     "output_type": "stream",
     "text": [
      "+----------------+-----------------------+\n",
      "|high_blood_sugar|count(high_blood_sugar)|\n",
      "+----------------+-----------------------+\n",
      "|               0|                  37719|\n",
      "|               1|                    293|\n",
      "+----------------+-----------------------+\n",
      "\n",
      "+------------------------------------------------------------------------------------------+\n",
      "|((count(CASE WHEN (high_blood_sugar IS NULL) THEN high_blood_sugar END) / count(1)) * 100)|\n",
      "+------------------------------------------------------------------------------------------+\n",
      "|                                                                                       0.0|\n",
      "+------------------------------------------------------------------------------------------+\n",
      "\n",
      "+----------------+-----------------------+\n",
      "|high_cholesterol|count(high_cholesterol)|\n",
      "+----------------+-----------------------+\n",
      "|               0|                  37485|\n",
      "|               1|                    527|\n",
      "+----------------+-----------------------+\n",
      "\n",
      "+------------------------------------------------------------------------------------------+\n",
      "|((count(CASE WHEN (high_cholesterol IS NULL) THEN high_cholesterol END) / count(1)) * 100)|\n",
      "+------------------------------------------------------------------------------------------+\n",
      "|                                                                                       0.0|\n",
      "+------------------------------------------------------------------------------------------+\n",
      "\n",
      "+------------+-------------------+\n",
      "|hypoglycemic|count(hypoglycemic)|\n",
      "+------------+-------------------+\n",
      "|           0|              37874|\n",
      "|           1|                138|\n",
      "+------------+-------------------+\n",
      "\n",
      "+----------------------------------------------------------------------------------+\n",
      "|((count(CASE WHEN (hypoglycemic IS NULL) THEN hypoglycemic END) / count(1)) * 100)|\n",
      "+----------------------------------------------------------------------------------+\n",
      "|                                                                               0.0|\n",
      "+----------------------------------------------------------------------------------+\n",
      "\n"
     ]
    }
   ],
   "source": [
    "for column in columns:\n",
    "    union_all_df.select(column)\\\n",
    "        .groupBy(union_all_df[column]).agg({column:'count'}).orderBy(count(union_all_df[column]).desc()).show()\n",
    "    # null percentage for each feature\n",
    "    union_all_df.select(count(when(col(column).isNull(),column))/count('*')*100).show()"
   ]
  },
  {
   "cell_type": "markdown",
   "id": "905d9fb8",
   "metadata": {
    "pycharm": {
     "name": "#%% md\n"
    }
   },
   "source": [
    "## save in the csv"
   ]
  },
  {
   "cell_type": "code",
   "execution_count": 230,
   "id": "7d8358b0",
   "metadata": {
    "pycharm": {
     "name": "#%%\n"
    }
   },
   "outputs": [],
   "source": [
    "union_all_df_pd.to_csv('union_all_diabetes_final.csv',index=False)"
   ]
  }
 ],
 "metadata": {
  "kernelspec": {
   "display_name": "Python 3 (ipykernel)",
   "language": "python",
   "name": "python3"
  },
  "language_info": {
   "codemirror_mode": {
    "name": "ipython",
    "version": 3
   },
   "file_extension": ".py",
   "mimetype": "text/x-python",
   "name": "python",
   "nbconvert_exporter": "python",
   "pygments_lexer": "ipython3",
   "version": "3.8.13"
  }
 },
 "nbformat": 4,
 "nbformat_minor": 5
}