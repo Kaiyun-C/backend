{
 "cells": [
  {
   "cell_type": "code",
   "execution_count": 1,
   "id": "316ae427",
   "metadata": {
    "pycharm": {
     "name": "#%%\n"
    }
   },
   "outputs": [],
   "source": [
    "from pyspark.sql.types import *\n",
    "from pyspark.sql.functions import *\n",
    "from pyspark.sql.functions import col,when\n",
    "import pandas as pd\n",
    "import matplotlib.pyplot as plt\n",
    "import seaborn as sns\n",
    "import numpy as np"
   ]
  },
  {
   "cell_type": "code",
   "execution_count": 2,
   "id": "09b978dd",
   "metadata": {
    "pycharm": {
     "name": "#%%\n"
    }
   },
   "outputs": [],
   "source": [
    "# Import SparkConf class into program\n",
    "from pyspark import SparkConf\n",
    "# local[*]: run Spark in local mode with as many working processors as logical cores on your machine\n",
    "# If we want Spark to run locally with 'k' worker threads, we can specify as \"local[k]\".\n",
    "master = \"local[*]\"\n",
    "# The `appName` field is a name to be shown on the Spark cluster UI page\n",
    "app_name = \"diabetes\"\n",
    "# Setup configuration parameters for Spark\n",
    "spark_conf = SparkConf().setMaster(master).setAppName(app_name)\n",
    "# Import SparkContext and SparkSession classes\n",
    "from pyspark import SparkContext # Spark\n",
    "from pyspark.sql import SparkSession # Spark SQL\n",
    "# Method 1: Using SparkSession\n",
    "spark = SparkSession.builder.config(conf=spark_conf).getOrCreate()\n",
    "sc = spark.sparkContext\n",
    "sc.setLogLevel('ERROR')"
   ]
  },
  {
   "cell_type": "code",
   "execution_count": 3,
   "id": "6313db7e",
   "metadata": {
    "pycharm": {
     "name": "#%%\n"
    }
   },
   "outputs": [],
   "source": [
    "# load raw file\n",
    "raw_df = spark.read.option(\"header\", True).option(\"inferSchema\", True) .csv(\"diabetes_nhanes.csv\")"
   ]
  },
  {
   "cell_type": "code",
   "execution_count": 4,
   "id": "6b2cb4b1",
   "metadata": {
    "scrolled": true,
    "pycharm": {
     "name": "#%%\n"
    }
   },
   "outputs": [
    {
     "name": "stdout",
     "output_type": "stream",
     "text": [
      "root\n",
      " |-- _c0: integer (nullable = true)\n",
      " |-- SEQN: double (nullable = true)\n",
      " |-- DIQ010: integer (nullable = true)\n",
      " |-- DID040: string (nullable = true)\n",
      " |-- DIQ160: string (nullable = true)\n",
      " |-- DIQ170: string (nullable = true)\n",
      " |-- DIQ172: string (nullable = true)\n",
      " |-- DIQ175A: string (nullable = true)\n",
      " |-- DIQ175B: string (nullable = true)\n",
      " |-- DIQ175C: string (nullable = true)\n",
      " |-- DIQ175D: string (nullable = true)\n",
      " |-- DIQ175E: string (nullable = true)\n",
      " |-- DIQ175F: string (nullable = true)\n",
      " |-- DIQ175G: string (nullable = true)\n",
      " |-- DIQ175H: string (nullable = true)\n",
      " |-- DIQ175I: string (nullable = true)\n",
      " |-- DIQ175J: string (nullable = true)\n",
      " |-- DIQ175K: string (nullable = true)\n",
      " |-- DIQ175L: string (nullable = true)\n",
      " |-- DIQ175M: string (nullable = true)\n",
      " |-- DIQ175N: string (nullable = true)\n",
      " |-- DIQ175O: string (nullable = true)\n",
      " |-- DIQ175P: string (nullable = true)\n",
      " |-- DIQ175Q: string (nullable = true)\n",
      " |-- DIQ175R: string (nullable = true)\n",
      " |-- DIQ175S: string (nullable = true)\n",
      " |-- DIQ175T: string (nullable = true)\n",
      " |-- DIQ175U: string (nullable = true)\n",
      " |-- DIQ175V: string (nullable = true)\n",
      " |-- DIQ175W: string (nullable = true)\n",
      " |-- DIQ175X: string (nullable = true)\n",
      " |-- DIQ180: string (nullable = true)\n",
      " |-- DIQ050: integer (nullable = true)\n",
      " |-- DID060: string (nullable = true)\n",
      " |-- DIQ060U: string (nullable = true)\n",
      " |-- DIQ070: string (nullable = true)\n",
      " |-- DIQ230: string (nullable = true)\n",
      " |-- DIQ240: string (nullable = true)\n",
      " |-- DID250: string (nullable = true)\n",
      " |-- DID260: string (nullable = true)\n",
      " |-- DIQ260U: string (nullable = true)\n",
      " |-- DIQ275: string (nullable = true)\n",
      " |-- DIQ280: string (nullable = true)\n",
      " |-- DIQ291: string (nullable = true)\n",
      " |-- DIQ300S: string (nullable = true)\n",
      " |-- DIQ300D: string (nullable = true)\n",
      " |-- DID310S: string (nullable = true)\n",
      " |-- DID310D: string (nullable = true)\n",
      " |-- DID320: string (nullable = true)\n",
      " |-- DID330: string (nullable = true)\n",
      " |-- DID341: string (nullable = true)\n",
      " |-- DID350: string (nullable = true)\n",
      " |-- DIQ350U: string (nullable = true)\n",
      " |-- DIQ360: string (nullable = true)\n",
      " |-- DIQ080: string (nullable = true)\n",
      "\n"
     ]
    }
   ],
   "source": [
    "# file's schema\n",
    "raw_df.printSchema()"
   ]
  },
  {
   "cell_type": "code",
   "execution_count": 5,
   "id": "3f71a8bc",
   "metadata": {
    "pycharm": {
     "name": "#%%\n"
    }
   },
   "outputs": [],
   "source": [
    "raw_df = raw_df.drop('_c0')"
   ]
  },
  {
   "cell_type": "code",
   "execution_count": 6,
   "id": "a767ae50",
   "metadata": {
    "scrolled": true,
    "pycharm": {
     "name": "#%%\n"
    }
   },
   "outputs": [
    {
     "name": "stdout",
     "output_type": "stream",
     "text": [
      "-RECORD 0----------\n",
      " SEQN    | 93703.0 \n",
      " DIQ010  | 2       \n",
      " DID040  | NA      \n",
      " DIQ160  | NA      \n",
      " DIQ170  | NA      \n",
      " DIQ172  | NA      \n",
      " DIQ175A | NA      \n",
      " DIQ175B | NA      \n",
      " DIQ175C | NA      \n",
      " DIQ175D | NA      \n",
      " DIQ175E | NA      \n",
      " DIQ175F | NA      \n",
      " DIQ175G | NA      \n",
      " DIQ175H | NA      \n",
      " DIQ175I | NA      \n",
      " DIQ175J | NA      \n",
      " DIQ175K | NA      \n",
      " DIQ175L | NA      \n",
      " DIQ175M | NA      \n",
      " DIQ175N | NA      \n",
      " DIQ175O | NA      \n",
      " DIQ175P | NA      \n",
      " DIQ175Q | NA      \n",
      " DIQ175R | NA      \n",
      " DIQ175S | NA      \n",
      " DIQ175T | NA      \n",
      " DIQ175U | NA      \n",
      " DIQ175V | NA      \n",
      " DIQ175W | NA      \n",
      " DIQ175X | NA      \n",
      " DIQ180  | NA      \n",
      " DIQ050  | 2       \n",
      " DID060  | NA      \n",
      " DIQ060U | NA      \n",
      " DIQ070  | NA      \n",
      " DIQ230  | NA      \n",
      " DIQ240  | NA      \n",
      " DID250  | NA      \n",
      " DID260  | NA      \n",
      " DIQ260U | NA      \n",
      " DIQ275  | NA      \n",
      " DIQ280  | NA      \n",
      " DIQ291  | NA      \n",
      " DIQ300S | NA      \n",
      " DIQ300D | NA      \n",
      " DID310S | NA      \n",
      " DID310D | NA      \n",
      " DID320  | NA      \n",
      " DID330  | NA      \n",
      " DID341  | NA      \n",
      " DID350  | NA      \n",
      " DIQ350U | NA      \n",
      " DIQ360  | NA      \n",
      " DIQ080  | NA      \n",
      "only showing top 1 row\n",
      "\n"
     ]
    }
   ],
   "source": [
    "raw_df.show(1,vertical=True)"
   ]
  },
  {
   "cell_type": "code",
   "execution_count": 7,
   "id": "5da8a63e",
   "metadata": {
    "pycharm": {
     "name": "#%%\n"
    }
   },
   "outputs": [
    {
     "data": {
      "text/plain": [
       "(8897, 54)"
      ]
     },
     "execution_count": 7,
     "metadata": {},
     "output_type": "execute_result"
    }
   ],
   "source": [
    "raw_df.count(), len(raw_df.columns)"
   ]
  },
  {
   "cell_type": "code",
   "execution_count": 8,
   "id": "c9a3f586",
   "metadata": {
    "pycharm": {
     "name": "#%%\n"
    }
   },
   "outputs": [],
   "source": [
    "need_to_remove = ['DIQ175L','DIQ175M','DIQ175N','DIQ175O','DIQ175P','DIQ175Q','DIQ175R','DIQ175S','DIQ175T','DIQ175U','DIQ175V','DIQ175W','DIQ175X','DIQ180','DIQ050','DID060','DIQ060U','DIQ070','DIQ230','DIQ240','DID250','DID260','DIQ260U','DIQ275','DIQ280','DIQ291','DIQ300S','DIQ300D','DID310S','DID310D','DID320','DID330','DID341','DID350','DIQ350U','DIQ360','DIQ080']\n",
    "for column in need_to_remove:\n",
    "    raw_df = raw_df.drop(column)"
   ]
  },
  {
   "cell_type": "code",
   "execution_count": 9,
   "id": "59bfe56f",
   "metadata": {
    "scrolled": true,
    "pycharm": {
     "name": "#%%\n"
    }
   },
   "outputs": [
    {
     "name": "stdout",
     "output_type": "stream",
     "text": [
      "-RECORD 0----------\n",
      " SEQN    | 93703.0 \n",
      " DIQ010  | 2       \n",
      " DID040  | NA      \n",
      " DIQ160  | NA      \n",
      " DIQ170  | NA      \n",
      " DIQ172  | NA      \n",
      " DIQ175A | NA      \n",
      " DIQ175B | NA      \n",
      " DIQ175C | NA      \n",
      " DIQ175D | NA      \n",
      " DIQ175E | NA      \n",
      " DIQ175F | NA      \n",
      " DIQ175G | NA      \n",
      " DIQ175H | NA      \n",
      " DIQ175I | NA      \n",
      " DIQ175J | NA      \n",
      " DIQ175K | NA      \n",
      "only showing top 1 row\n",
      "\n"
     ]
    }
   ],
   "source": [
    "raw_df.show(1,vertical=True)"
   ]
  },
  {
   "cell_type": "code",
   "execution_count": 10,
   "id": "0461fe17",
   "metadata": {
    "pycharm": {
     "name": "#%%\n"
    }
   },
   "outputs": [],
   "source": [
    "# NA --> null\n",
    "for c in raw_df.columns:\n",
    "    raw_df = raw_df.withColumn(c, when(col(c)=='NA' ,None).otherwise(col(c)))"
   ]
  },
  {
   "cell_type": "code",
   "execution_count": 11,
   "id": "d5e0d9e6",
   "metadata": {
    "scrolled": true,
    "pycharm": {
     "name": "#%%\n"
    }
   },
   "outputs": [
    {
     "name": "stdout",
     "output_type": "stream",
     "text": [
      "-RECORD 0----------\n",
      " SEQN    | 93703.0 \n",
      " DIQ010  | 2       \n",
      " DID040  | null    \n",
      " DIQ160  | null    \n",
      " DIQ170  | null    \n",
      " DIQ172  | null    \n",
      " DIQ175A | null    \n",
      " DIQ175B | null    \n",
      " DIQ175C | null    \n",
      " DIQ175D | null    \n",
      " DIQ175E | null    \n",
      " DIQ175F | null    \n",
      " DIQ175G | null    \n",
      " DIQ175H | null    \n",
      " DIQ175I | null    \n",
      " DIQ175J | null    \n",
      " DIQ175K | null    \n",
      "only showing top 1 row\n",
      "\n"
     ]
    }
   ],
   "source": [
    "raw_df.show(1,vertical=True)"
   ]
  },
  {
   "cell_type": "code",
   "execution_count": 12,
   "id": "8a1ddec7",
   "metadata": {
    "pycharm": {
     "name": "#%%\n"
    }
   },
   "outputs": [],
   "source": [
    "# raw_df_new=raw_df.dropna(thresh=5)"
   ]
  },
  {
   "cell_type": "code",
   "execution_count": 13,
   "id": "9fa57b9b",
   "metadata": {
    "pycharm": {
     "name": "#%%\n"
    }
   },
   "outputs": [],
   "source": [
    "# raw_df_new.count()"
   ]
  },
  {
   "cell_type": "code",
   "execution_count": 14,
   "id": "408eaa34",
   "metadata": {
    "pycharm": {
     "name": "#%%\n"
    }
   },
   "outputs": [
    {
     "data": {
      "text/plain": [
       "['DIQ010',\n",
       " 'DID040',\n",
       " 'DIQ160',\n",
       " 'DIQ170',\n",
       " 'DIQ172',\n",
       " 'DIQ175A',\n",
       " 'DIQ175B',\n",
       " 'DIQ175C',\n",
       " 'DIQ175D',\n",
       " 'DIQ175E',\n",
       " 'DIQ175F',\n",
       " 'DIQ175G',\n",
       " 'DIQ175H',\n",
       " 'DIQ175I',\n",
       " 'DIQ175J',\n",
       " 'DIQ175K']"
      ]
     },
     "execution_count": 14,
     "metadata": {},
     "output_type": "execute_result"
    }
   ],
   "source": [
    "columns = raw_df.columns\n",
    "columns.pop(0)\n",
    "columns"
   ]
  },
  {
   "cell_type": "code",
   "execution_count": 15,
   "id": "8d17a2e3",
   "metadata": {
    "pycharm": {
     "name": "#%%\n"
    }
   },
   "outputs": [],
   "source": [
    "# for column in columns:\n",
    "#     raw_df_new.select(column)\\\n",
    "#     .groupBy(raw_df_new[column]).agg({column:'count'}).orderBy(count(raw_df_new[column]).desc()).show()"
   ]
  },
  {
   "cell_type": "code",
   "execution_count": 16,
   "id": "1e2842a0",
   "metadata": {
    "pycharm": {
     "name": "#%%\n"
    }
   },
   "outputs": [],
   "source": [
    "# for column in columns:\n",
    "#     raw_df_new.select(count(when(col(column).isNull(),column))/count('*')*100).show()"
   ]
  },
  {
   "cell_type": "code",
   "execution_count": 17,
   "id": "7f0f3f36",
   "metadata": {
    "pycharm": {
     "name": "#%%\n"
    }
   },
   "outputs": [],
   "source": [
    "# remove rows contain too many null values \n",
    "def new_df_desc(df,input_thresh,columns):\n",
    "    # drop rows contain more than ... null\n",
    "    raw_df_new=df.dropna(thresh=input_thresh) # input_thresh: require how many non-NA values\n",
    "    print(raw_df_new.count())\n",
    "    for column in columns:\n",
    "        # group counts for each feature\n",
    "        raw_df_new.select(column)\\\n",
    "        .groupBy(raw_df_new[column]).agg({column:'count'}).orderBy(count(raw_df_new[column]).desc()).show()\n",
    "        # null percentage for each feature\n",
    "        raw_df_new.select(count(when(col(column).isNull(),column))/count('*')*100).show()\n",
    "    return raw_df_new"
   ]
  },
  {
   "cell_type": "code",
   "execution_count": 18,
   "id": "bb9b8795",
   "metadata": {
    "scrolled": true,
    "pycharm": {
     "name": "#%%\n"
    }
   },
   "outputs": [
    {
     "name": "stdout",
     "output_type": "stream",
     "text": [
      "6768\n",
      "+------+-------------+\n",
      "|DIQ010|count(DIQ010)|\n",
      "+------+-------------+\n",
      "|     2|         5690|\n",
      "|     1|          892|\n",
      "|     3|          182|\n",
      "|     9|            4|\n",
      "+------+-------------+\n",
      "\n",
      "+----------------------------------------------------------------------+\n",
      "|((count(CASE WHEN (DIQ010 IS NULL) THEN DIQ010 END) / count(1)) * 100)|\n",
      "+----------------------------------------------------------------------+\n",
      "|                                                                   0.0|\n",
      "+----------------------------------------------------------------------+\n",
      "\n",
      "+------+-------------+\n",
      "|DID040|count(DID040)|\n",
      "+------+-------------+\n",
      "|    50|           79|\n",
      "|    40|           48|\n",
      "|    55|           45|\n",
      "|    45|           45|\n",
      "|    60|           42|\n",
      "|    58|           31|\n",
      "|    59|           23|\n",
      "|    62|           23|\n",
      "|    30|           22|\n",
      "|    48|           21|\n",
      "|    54|           20|\n",
      "|    52|           20|\n",
      "|    65|           20|\n",
      "|    47|           19|\n",
      "|    53|           19|\n",
      "|    35|           18|\n",
      "|    46|           18|\n",
      "|    38|           17|\n",
      "|    42|           17|\n",
      "|    57|           17|\n",
      "+------+-------------+\n",
      "only showing top 20 rows\n",
      "\n",
      "+----------------------------------------------------------------------+\n",
      "|((count(CASE WHEN (DID040 IS NULL) THEN DID040 END) / count(1)) * 100)|\n",
      "+----------------------------------------------------------------------+\n",
      "|                                                     86.82033096926713|\n",
      "+----------------------------------------------------------------------+\n",
      "\n",
      "+------+-------------+\n",
      "|DIQ160|count(DIQ160)|\n",
      "+------+-------------+\n",
      "|     2|         5089|\n",
      "|     1|          597|\n",
      "|     9|            8|\n",
      "|  null|            0|\n",
      "+------+-------------+\n",
      "\n",
      "+----------------------------------------------------------------------+\n",
      "|((count(CASE WHEN (DIQ160 IS NULL) THEN DIQ160 END) / count(1)) * 100)|\n",
      "+----------------------------------------------------------------------+\n",
      "|                                                    15.868794326241135|\n",
      "+----------------------------------------------------------------------+\n",
      "\n",
      "+------+-------------+\n",
      "|DIQ170|count(DIQ170)|\n",
      "+------+-------------+\n",
      "|     2|         4911|\n",
      "|     1|          948|\n",
      "|     9|           17|\n",
      "|  null|            0|\n",
      "+------+-------------+\n",
      "\n",
      "+----------------------------------------------------------------------+\n",
      "|((count(CASE WHEN (DIQ170 IS NULL) THEN DIQ170 END) / count(1)) * 100)|\n",
      "+----------------------------------------------------------------------+\n",
      "|                                                     13.17966903073286|\n",
      "+----------------------------------------------------------------------+\n",
      "\n",
      "+------+-------------+\n",
      "|DIQ172|count(DIQ172)|\n",
      "+------+-------------+\n",
      "|     2|         4243|\n",
      "|     1|         1562|\n",
      "|     9|           69|\n",
      "|     7|            2|\n",
      "|  null|            0|\n",
      "+------+-------------+\n",
      "\n",
      "+----------------------------------------------------------------------+\n",
      "|((count(CASE WHEN (DIQ172 IS NULL) THEN DIQ172 END) / count(1)) * 100)|\n",
      "+----------------------------------------------------------------------+\n",
      "|                                                     13.17966903073286|\n",
      "+----------------------------------------------------------------------+\n",
      "\n",
      "+-------+--------------+\n",
      "|DIQ175A|count(DIQ175A)|\n",
      "+-------+--------------+\n",
      "|     10|          1143|\n",
      "|     99|             2|\n",
      "|   null|             0|\n",
      "+-------+--------------+\n",
      "\n",
      "+------------------------------------------------------------------------+\n",
      "|((count(CASE WHEN (DIQ175A IS NULL) THEN DIQ175A END) / count(1)) * 100)|\n",
      "+------------------------------------------------------------------------+\n",
      "|                                                        83.0821513002364|\n",
      "+------------------------------------------------------------------------+\n",
      "\n",
      "+-------+--------------+\n",
      "|DIQ175B|count(DIQ175B)|\n",
      "+-------+--------------+\n",
      "|     11|           657|\n",
      "|   null|             0|\n",
      "+-------+--------------+\n",
      "\n",
      "+------------------------------------------------------------------------+\n",
      "|((count(CASE WHEN (DIQ175B IS NULL) THEN DIQ175B END) / count(1)) * 100)|\n",
      "+------------------------------------------------------------------------+\n",
      "|                                                       90.29255319148936|\n",
      "+------------------------------------------------------------------------+\n",
      "\n",
      "+-------+--------------+\n",
      "|DIQ175C|count(DIQ175C)|\n",
      "+-------+--------------+\n",
      "|     12|           217|\n",
      "|   null|             0|\n",
      "+-------+--------------+\n",
      "\n",
      "+------------------------------------------------------------------------+\n",
      "|((count(CASE WHEN (DIQ175C IS NULL) THEN DIQ175C END) / count(1)) * 100)|\n",
      "+------------------------------------------------------------------------+\n",
      "|                                                       96.79373522458629|\n",
      "+------------------------------------------------------------------------+\n",
      "\n",
      "+-------+--------------+\n",
      "|DIQ175D|count(DIQ175D)|\n",
      "+-------+--------------+\n",
      "|     13|           488|\n",
      "|   null|             0|\n",
      "+-------+--------------+\n",
      "\n",
      "+------------------------------------------------------------------------+\n",
      "|((count(CASE WHEN (DIQ175D IS NULL) THEN DIQ175D END) / count(1)) * 100)|\n",
      "+------------------------------------------------------------------------+\n",
      "|                                                       92.78959810874704|\n",
      "+------------------------------------------------------------------------+\n",
      "\n",
      "+-------+--------------+\n",
      "|DIQ175E|count(DIQ175E)|\n",
      "+-------+--------------+\n",
      "|     14|           177|\n",
      "|   null|             0|\n",
      "+-------+--------------+\n",
      "\n",
      "+------------------------------------------------------------------------+\n",
      "|((count(CASE WHEN (DIQ175E IS NULL) THEN DIQ175E END) / count(1)) * 100)|\n",
      "+------------------------------------------------------------------------+\n",
      "|                                                       97.38475177304964|\n",
      "+------------------------------------------------------------------------+\n",
      "\n",
      "+-------+--------------+\n",
      "|DIQ175F|count(DIQ175F)|\n",
      "+-------+--------------+\n",
      "|     15|            38|\n",
      "|   null|             0|\n",
      "+-------+--------------+\n",
      "\n",
      "+------------------------------------------------------------------------+\n",
      "|((count(CASE WHEN (DIQ175F IS NULL) THEN DIQ175F END) / count(1)) * 100)|\n",
      "+------------------------------------------------------------------------+\n",
      "|                                                        99.4385342789598|\n",
      "+------------------------------------------------------------------------+\n",
      "\n",
      "+-------+--------------+\n",
      "|DIQ175G|count(DIQ175G)|\n",
      "+-------+--------------+\n",
      "|     16|           318|\n",
      "|   null|             0|\n",
      "+-------+--------------+\n",
      "\n",
      "+------------------------------------------------------------------------+\n",
      "|((count(CASE WHEN (DIQ175G IS NULL) THEN DIQ175G END) / count(1)) * 100)|\n",
      "+------------------------------------------------------------------------+\n",
      "|                                                       95.30141843971631|\n",
      "+------------------------------------------------------------------------+\n",
      "\n",
      "+-------+--------------+\n",
      "|DIQ175H|count(DIQ175H)|\n",
      "+-------+--------------+\n",
      "|     17|           291|\n",
      "|   null|             0|\n",
      "+-------+--------------+\n",
      "\n",
      "+------------------------------------------------------------------------+\n",
      "|((count(CASE WHEN (DIQ175H IS NULL) THEN DIQ175H END) / count(1)) * 100)|\n",
      "+------------------------------------------------------------------------+\n",
      "|                                                       95.70035460992908|\n",
      "+------------------------------------------------------------------------+\n",
      "\n",
      "+-------+--------------+\n",
      "|DIQ175I|count(DIQ175I)|\n",
      "+-------+--------------+\n",
      "|     18|            76|\n",
      "|   null|             0|\n",
      "+-------+--------------+\n",
      "\n",
      "+------------------------------------------------------------------------+\n",
      "|((count(CASE WHEN (DIQ175I IS NULL) THEN DIQ175I END) / count(1)) * 100)|\n",
      "+------------------------------------------------------------------------+\n",
      "|                                                       98.87706855791963|\n",
      "+------------------------------------------------------------------------+\n",
      "\n",
      "+-------+--------------+\n",
      "|DIQ175J|count(DIQ175J)|\n",
      "+-------+--------------+\n",
      "|     19|           163|\n",
      "|   null|             0|\n",
      "+-------+--------------+\n",
      "\n",
      "+------------------------------------------------------------------------+\n",
      "|((count(CASE WHEN (DIQ175J IS NULL) THEN DIQ175J END) / count(1)) * 100)|\n",
      "+------------------------------------------------------------------------+\n",
      "|                                                       97.59160756501181|\n",
      "+------------------------------------------------------------------------+\n",
      "\n"
     ]
    },
    {
     "name": "stdout",
     "output_type": "stream",
     "text": [
      "+-------+--------------+\n",
      "|DIQ175K|count(DIQ175K)|\n",
      "+-------+--------------+\n",
      "|     20|            29|\n",
      "|   null|             0|\n",
      "+-------+--------------+\n",
      "\n",
      "+------------------------------------------------------------------------+\n",
      "|((count(CASE WHEN (DIQ175K IS NULL) THEN DIQ175K END) / count(1)) * 100)|\n",
      "+------------------------------------------------------------------------+\n",
      "|                                                       99.57151300236407|\n",
      "+------------------------------------------------------------------------+\n",
      "\n"
     ]
    }
   ],
   "source": [
    "raw_df_new = new_df_desc(raw_df,3,columns)"
   ]
  },
  {
   "cell_type": "markdown",
   "id": "2daa8cd6",
   "metadata": {
    "pycharm": {
     "name": "#%% md\n"
    }
   },
   "source": [
    "### 'DIQ170'--> target variable"
   ]
  },
  {
   "cell_type": "markdown",
   "id": "ed7a9d11",
   "metadata": {
    "pycharm": {
     "name": "#%% md\n"
    }
   },
   "source": [
    "* split data by 'DIQ010': Doctor told you have diabetes"
   ]
  },
  {
   "cell_type": "code",
   "execution_count": 19,
   "id": "de2fc794",
   "metadata": {
    "pycharm": {
     "name": "#%%\n"
    }
   },
   "outputs": [],
   "source": [
    "df_1 = raw_df_new[raw_df_new['DIQ010']==1] # has diabetes\n",
    "df_2 = raw_df_new[raw_df_new['DIQ010']==2] # do not have\n",
    "df_3 = raw_df_new[raw_df_new['DIQ010']==3] # borderline"
   ]
  },
  {
   "cell_type": "code",
   "execution_count": 20,
   "id": "c23cd4a0",
   "metadata": {
    "pycharm": {
     "name": "#%%\n"
    }
   },
   "outputs": [
    {
     "name": "stdout",
     "output_type": "stream",
     "text": [
      "+------+-------------+\n",
      "|DIQ010|count(DIQ010)|\n",
      "+------+-------------+\n",
      "|     1|          892|\n",
      "+------+-------------+\n",
      "\n",
      "+----------------------------------------------------------------------+\n",
      "|((count(CASE WHEN (DIQ010 IS NULL) THEN DIQ010 END) / count(1)) * 100)|\n",
      "+----------------------------------------------------------------------+\n",
      "|                                                                   0.0|\n",
      "+----------------------------------------------------------------------+\n",
      "\n",
      "+------+-------------+\n",
      "|DID040|count(DID040)|\n",
      "+------+-------------+\n",
      "|    50|           79|\n",
      "|    40|           48|\n",
      "|    45|           45|\n",
      "|    55|           45|\n",
      "|    60|           42|\n",
      "|    58|           31|\n",
      "|    59|           23|\n",
      "|    62|           23|\n",
      "|    30|           22|\n",
      "|    48|           21|\n",
      "|    54|           20|\n",
      "|    65|           20|\n",
      "|    52|           20|\n",
      "|    53|           19|\n",
      "|    47|           19|\n",
      "|    46|           18|\n",
      "|    35|           18|\n",
      "|    38|           17|\n",
      "|    42|           17|\n",
      "|    57|           17|\n",
      "+------+-------------+\n",
      "only showing top 20 rows\n",
      "\n",
      "+----------------------------------------------------------------------+\n",
      "|((count(CASE WHEN (DID040 IS NULL) THEN DID040 END) / count(1)) * 100)|\n",
      "+----------------------------------------------------------------------+\n",
      "|                                                                   0.0|\n",
      "+----------------------------------------------------------------------+\n",
      "\n",
      "+------+-------------+\n",
      "|DIQ160|count(DIQ160)|\n",
      "+------+-------------+\n",
      "|  null|            0|\n",
      "+------+-------------+\n",
      "\n",
      "+----------------------------------------------------------------------+\n",
      "|((count(CASE WHEN (DIQ160 IS NULL) THEN DIQ160 END) / count(1)) * 100)|\n",
      "+----------------------------------------------------------------------+\n",
      "|                                                                 100.0|\n",
      "+----------------------------------------------------------------------+\n",
      "\n",
      "+------+-------------+\n",
      "|DIQ170|count(DIQ170)|\n",
      "+------+-------------+\n",
      "|  null|            0|\n",
      "+------+-------------+\n",
      "\n",
      "+----------------------------------------------------------------------+\n",
      "|((count(CASE WHEN (DIQ170 IS NULL) THEN DIQ170 END) / count(1)) * 100)|\n",
      "+----------------------------------------------------------------------+\n",
      "|                                                                 100.0|\n",
      "+----------------------------------------------------------------------+\n",
      "\n",
      "+------+-------------+\n",
      "|DIQ172|count(DIQ172)|\n",
      "+------+-------------+\n",
      "|  null|            0|\n",
      "+------+-------------+\n",
      "\n",
      "+----------------------------------------------------------------------+\n",
      "|((count(CASE WHEN (DIQ172 IS NULL) THEN DIQ172 END) / count(1)) * 100)|\n",
      "+----------------------------------------------------------------------+\n",
      "|                                                                 100.0|\n",
      "+----------------------------------------------------------------------+\n",
      "\n",
      "+-------+--------------+\n",
      "|DIQ175A|count(DIQ175A)|\n",
      "+-------+--------------+\n",
      "|   null|             0|\n",
      "+-------+--------------+\n",
      "\n",
      "+------------------------------------------------------------------------+\n",
      "|((count(CASE WHEN (DIQ175A IS NULL) THEN DIQ175A END) / count(1)) * 100)|\n",
      "+------------------------------------------------------------------------+\n",
      "|                                                                   100.0|\n",
      "+------------------------------------------------------------------------+\n",
      "\n",
      "+-------+--------------+\n",
      "|DIQ175B|count(DIQ175B)|\n",
      "+-------+--------------+\n",
      "|   null|             0|\n",
      "+-------+--------------+\n",
      "\n",
      "+------------------------------------------------------------------------+\n",
      "|((count(CASE WHEN (DIQ175B IS NULL) THEN DIQ175B END) / count(1)) * 100)|\n",
      "+------------------------------------------------------------------------+\n",
      "|                                                                   100.0|\n",
      "+------------------------------------------------------------------------+\n",
      "\n",
      "+-------+--------------+\n",
      "|DIQ175C|count(DIQ175C)|\n",
      "+-------+--------------+\n",
      "|   null|             0|\n",
      "+-------+--------------+\n",
      "\n",
      "+------------------------------------------------------------------------+\n",
      "|((count(CASE WHEN (DIQ175C IS NULL) THEN DIQ175C END) / count(1)) * 100)|\n",
      "+------------------------------------------------------------------------+\n",
      "|                                                                   100.0|\n",
      "+------------------------------------------------------------------------+\n",
      "\n",
      "+-------+--------------+\n",
      "|DIQ175D|count(DIQ175D)|\n",
      "+-------+--------------+\n",
      "|   null|             0|\n",
      "+-------+--------------+\n",
      "\n",
      "+------------------------------------------------------------------------+\n",
      "|((count(CASE WHEN (DIQ175D IS NULL) THEN DIQ175D END) / count(1)) * 100)|\n",
      "+------------------------------------------------------------------------+\n",
      "|                                                                   100.0|\n",
      "+------------------------------------------------------------------------+\n",
      "\n",
      "+-------+--------------+\n",
      "|DIQ175E|count(DIQ175E)|\n",
      "+-------+--------------+\n",
      "|   null|             0|\n",
      "+-------+--------------+\n",
      "\n",
      "+------------------------------------------------------------------------+\n",
      "|((count(CASE WHEN (DIQ175E IS NULL) THEN DIQ175E END) / count(1)) * 100)|\n",
      "+------------------------------------------------------------------------+\n",
      "|                                                                   100.0|\n",
      "+------------------------------------------------------------------------+\n",
      "\n",
      "+-------+--------------+\n",
      "|DIQ175F|count(DIQ175F)|\n",
      "+-------+--------------+\n",
      "|   null|             0|\n",
      "+-------+--------------+\n",
      "\n",
      "+------------------------------------------------------------------------+\n",
      "|((count(CASE WHEN (DIQ175F IS NULL) THEN DIQ175F END) / count(1)) * 100)|\n",
      "+------------------------------------------------------------------------+\n",
      "|                                                                   100.0|\n",
      "+------------------------------------------------------------------------+\n",
      "\n",
      "+-------+--------------+\n",
      "|DIQ175G|count(DIQ175G)|\n",
      "+-------+--------------+\n",
      "|   null|             0|\n",
      "+-------+--------------+\n",
      "\n",
      "+------------------------------------------------------------------------+\n",
      "|((count(CASE WHEN (DIQ175G IS NULL) THEN DIQ175G END) / count(1)) * 100)|\n",
      "+------------------------------------------------------------------------+\n",
      "|                                                                   100.0|\n",
      "+------------------------------------------------------------------------+\n",
      "\n",
      "+-------+--------------+\n",
      "|DIQ175H|count(DIQ175H)|\n",
      "+-------+--------------+\n",
      "|   null|             0|\n",
      "+-------+--------------+\n",
      "\n",
      "+------------------------------------------------------------------------+\n",
      "|((count(CASE WHEN (DIQ175H IS NULL) THEN DIQ175H END) / count(1)) * 100)|\n",
      "+------------------------------------------------------------------------+\n",
      "|                                                                   100.0|\n",
      "+------------------------------------------------------------------------+\n",
      "\n",
      "+-------+--------------+\n",
      "|DIQ175I|count(DIQ175I)|\n",
      "+-------+--------------+\n",
      "|   null|             0|\n",
      "+-------+--------------+\n",
      "\n",
      "+------------------------------------------------------------------------+\n",
      "|((count(CASE WHEN (DIQ175I IS NULL) THEN DIQ175I END) / count(1)) * 100)|\n",
      "+------------------------------------------------------------------------+\n",
      "|                                                                   100.0|\n",
      "+------------------------------------------------------------------------+\n",
      "\n",
      "+-------+--------------+\n",
      "|DIQ175J|count(DIQ175J)|\n",
      "+-------+--------------+\n",
      "|   null|             0|\n",
      "+-------+--------------+\n",
      "\n",
      "+------------------------------------------------------------------------+\n",
      "|((count(CASE WHEN (DIQ175J IS NULL) THEN DIQ175J END) / count(1)) * 100)|\n",
      "+------------------------------------------------------------------------+\n",
      "|                                                                   100.0|\n",
      "+------------------------------------------------------------------------+\n",
      "\n",
      "+-------+--------------+\n",
      "|DIQ175K|count(DIQ175K)|\n",
      "+-------+--------------+\n",
      "|   null|             0|\n",
      "+-------+--------------+\n",
      "\n",
      "+------------------------------------------------------------------------+\n",
      "|((count(CASE WHEN (DIQ175K IS NULL) THEN DIQ175K END) / count(1)) * 100)|\n",
      "+------------------------------------------------------------------------+\n",
      "|                                                                   100.0|\n",
      "+------------------------------------------------------------------------+\n",
      "\n"
     ]
    }
   ],
   "source": [
    "for column in columns:\n",
    "    # group counts for each feature\n",
    "    df_1.select(column)\\\n",
    "        .groupBy(df_1[column]).agg({column:'count'}).orderBy(count(df_1[column]).desc()).show()\n",
    "    # null percentage for each feature\n",
    "    df_1.select(count(when(col(column).isNull(),column))/count('*')*100).show()"
   ]
  },
  {
   "cell_type": "markdown",
   "id": "1aec4a6d",
   "metadata": {
    "pycharm": {
     "name": "#%% md\n"
    }
   },
   "source": [
    "for filtered df, people has diabetes would have no data for other features, check raw df"
   ]
  },
  {
   "cell_type": "code",
   "execution_count": 21,
   "id": "a23f1e3f",
   "metadata": {
    "pycharm": {
     "name": "#%%\n"
    }
   },
   "outputs": [],
   "source": [
    "raw_df_1 = raw_df[raw_df['DIQ010']==1]"
   ]
  },
  {
   "cell_type": "code",
   "execution_count": 22,
   "id": "06de4435",
   "metadata": {
    "pycharm": {
     "name": "#%%\n"
    }
   },
   "outputs": [
    {
     "name": "stdout",
     "output_type": "stream",
     "text": [
      "+------+-------------+\n",
      "|DIQ010|count(DIQ010)|\n",
      "+------+-------------+\n",
      "|     1|          893|\n",
      "+------+-------------+\n",
      "\n",
      "+----------------------------------------------------------------------+\n",
      "|((count(CASE WHEN (DIQ010 IS NULL) THEN DIQ010 END) / count(1)) * 100)|\n",
      "+----------------------------------------------------------------------+\n",
      "|                                                                   0.0|\n",
      "+----------------------------------------------------------------------+\n",
      "\n",
      "+------+-------------+\n",
      "|DID040|count(DID040)|\n",
      "+------+-------------+\n",
      "|    50|           79|\n",
      "|    40|           48|\n",
      "|    55|           45|\n",
      "|    45|           45|\n",
      "|    60|           42|\n",
      "|    58|           31|\n",
      "|    59|           23|\n",
      "|    62|           23|\n",
      "|    30|           22|\n",
      "|    48|           21|\n",
      "|    65|           20|\n",
      "|    54|           20|\n",
      "|    52|           20|\n",
      "|    47|           19|\n",
      "|    53|           19|\n",
      "|    46|           18|\n",
      "|    35|           18|\n",
      "|    42|           17|\n",
      "|    38|           17|\n",
      "|    57|           17|\n",
      "+------+-------------+\n",
      "only showing top 20 rows\n",
      "\n",
      "+----------------------------------------------------------------------+\n",
      "|((count(CASE WHEN (DID040 IS NULL) THEN DID040 END) / count(1)) * 100)|\n",
      "+----------------------------------------------------------------------+\n",
      "|                                                   0.11198208286674133|\n",
      "+----------------------------------------------------------------------+\n",
      "\n",
      "+------+-------------+\n",
      "|DIQ160|count(DIQ160)|\n",
      "+------+-------------+\n",
      "|  null|            0|\n",
      "+------+-------------+\n",
      "\n",
      "+----------------------------------------------------------------------+\n",
      "|((count(CASE WHEN (DIQ160 IS NULL) THEN DIQ160 END) / count(1)) * 100)|\n",
      "+----------------------------------------------------------------------+\n",
      "|                                                                 100.0|\n",
      "+----------------------------------------------------------------------+\n",
      "\n",
      "+------+-------------+\n",
      "|DIQ170|count(DIQ170)|\n",
      "+------+-------------+\n",
      "|  null|            0|\n",
      "+------+-------------+\n",
      "\n",
      "+----------------------------------------------------------------------+\n",
      "|((count(CASE WHEN (DIQ170 IS NULL) THEN DIQ170 END) / count(1)) * 100)|\n",
      "+----------------------------------------------------------------------+\n",
      "|                                                                 100.0|\n",
      "+----------------------------------------------------------------------+\n",
      "\n",
      "+------+-------------+\n",
      "|DIQ172|count(DIQ172)|\n",
      "+------+-------------+\n",
      "|  null|            0|\n",
      "+------+-------------+\n",
      "\n",
      "+----------------------------------------------------------------------+\n",
      "|((count(CASE WHEN (DIQ172 IS NULL) THEN DIQ172 END) / count(1)) * 100)|\n",
      "+----------------------------------------------------------------------+\n",
      "|                                                                 100.0|\n",
      "+----------------------------------------------------------------------+\n",
      "\n",
      "+-------+--------------+\n",
      "|DIQ175A|count(DIQ175A)|\n",
      "+-------+--------------+\n",
      "|   null|             0|\n",
      "+-------+--------------+\n",
      "\n",
      "+------------------------------------------------------------------------+\n",
      "|((count(CASE WHEN (DIQ175A IS NULL) THEN DIQ175A END) / count(1)) * 100)|\n",
      "+------------------------------------------------------------------------+\n",
      "|                                                                   100.0|\n",
      "+------------------------------------------------------------------------+\n",
      "\n",
      "+-------+--------------+\n",
      "|DIQ175B|count(DIQ175B)|\n",
      "+-------+--------------+\n",
      "|   null|             0|\n",
      "+-------+--------------+\n",
      "\n",
      "+------------------------------------------------------------------------+\n",
      "|((count(CASE WHEN (DIQ175B IS NULL) THEN DIQ175B END) / count(1)) * 100)|\n",
      "+------------------------------------------------------------------------+\n",
      "|                                                                   100.0|\n",
      "+------------------------------------------------------------------------+\n",
      "\n",
      "+-------+--------------+\n",
      "|DIQ175C|count(DIQ175C)|\n",
      "+-------+--------------+\n",
      "|   null|             0|\n",
      "+-------+--------------+\n",
      "\n",
      "+------------------------------------------------------------------------+\n",
      "|((count(CASE WHEN (DIQ175C IS NULL) THEN DIQ175C END) / count(1)) * 100)|\n",
      "+------------------------------------------------------------------------+\n",
      "|                                                                   100.0|\n",
      "+------------------------------------------------------------------------+\n",
      "\n",
      "+-------+--------------+\n",
      "|DIQ175D|count(DIQ175D)|\n",
      "+-------+--------------+\n",
      "|   null|             0|\n",
      "+-------+--------------+\n",
      "\n",
      "+------------------------------------------------------------------------+\n",
      "|((count(CASE WHEN (DIQ175D IS NULL) THEN DIQ175D END) / count(1)) * 100)|\n",
      "+------------------------------------------------------------------------+\n",
      "|                                                                   100.0|\n",
      "+------------------------------------------------------------------------+\n",
      "\n",
      "+-------+--------------+\n",
      "|DIQ175E|count(DIQ175E)|\n",
      "+-------+--------------+\n",
      "|   null|             0|\n",
      "+-------+--------------+\n",
      "\n",
      "+------------------------------------------------------------------------+\n",
      "|((count(CASE WHEN (DIQ175E IS NULL) THEN DIQ175E END) / count(1)) * 100)|\n",
      "+------------------------------------------------------------------------+\n",
      "|                                                                   100.0|\n",
      "+------------------------------------------------------------------------+\n",
      "\n",
      "+-------+--------------+\n",
      "|DIQ175F|count(DIQ175F)|\n",
      "+-------+--------------+\n",
      "|   null|             0|\n",
      "+-------+--------------+\n",
      "\n",
      "+------------------------------------------------------------------------+\n",
      "|((count(CASE WHEN (DIQ175F IS NULL) THEN DIQ175F END) / count(1)) * 100)|\n",
      "+------------------------------------------------------------------------+\n",
      "|                                                                   100.0|\n",
      "+------------------------------------------------------------------------+\n",
      "\n",
      "+-------+--------------+\n",
      "|DIQ175G|count(DIQ175G)|\n",
      "+-------+--------------+\n",
      "|   null|             0|\n",
      "+-------+--------------+\n",
      "\n",
      "+------------------------------------------------------------------------+\n",
      "|((count(CASE WHEN (DIQ175G IS NULL) THEN DIQ175G END) / count(1)) * 100)|\n",
      "+------------------------------------------------------------------------+\n",
      "|                                                                   100.0|\n",
      "+------------------------------------------------------------------------+\n",
      "\n",
      "+-------+--------------+\n",
      "|DIQ175H|count(DIQ175H)|\n",
      "+-------+--------------+\n",
      "|   null|             0|\n",
      "+-------+--------------+\n",
      "\n",
      "+------------------------------------------------------------------------+\n",
      "|((count(CASE WHEN (DIQ175H IS NULL) THEN DIQ175H END) / count(1)) * 100)|\n",
      "+------------------------------------------------------------------------+\n",
      "|                                                                   100.0|\n",
      "+------------------------------------------------------------------------+\n",
      "\n",
      "+-------+--------------+\n",
      "|DIQ175I|count(DIQ175I)|\n",
      "+-------+--------------+\n",
      "|   null|             0|\n",
      "+-------+--------------+\n",
      "\n",
      "+------------------------------------------------------------------------+\n",
      "|((count(CASE WHEN (DIQ175I IS NULL) THEN DIQ175I END) / count(1)) * 100)|\n",
      "+------------------------------------------------------------------------+\n",
      "|                                                                   100.0|\n",
      "+------------------------------------------------------------------------+\n",
      "\n",
      "+-------+--------------+\n",
      "|DIQ175J|count(DIQ175J)|\n",
      "+-------+--------------+\n",
      "|   null|             0|\n",
      "+-------+--------------+\n",
      "\n",
      "+------------------------------------------------------------------------+\n",
      "|((count(CASE WHEN (DIQ175J IS NULL) THEN DIQ175J END) / count(1)) * 100)|\n",
      "+------------------------------------------------------------------------+\n",
      "|                                                                   100.0|\n",
      "+------------------------------------------------------------------------+\n",
      "\n",
      "+-------+--------------+\n",
      "|DIQ175K|count(DIQ175K)|\n",
      "+-------+--------------+\n",
      "|   null|             0|\n",
      "+-------+--------------+\n",
      "\n",
      "+------------------------------------------------------------------------+\n",
      "|((count(CASE WHEN (DIQ175K IS NULL) THEN DIQ175K END) / count(1)) * 100)|\n",
      "+------------------------------------------------------------------------+\n",
      "|                                                                   100.0|\n",
      "+------------------------------------------------------------------------+\n",
      "\n"
     ]
    }
   ],
   "source": [
    "for column in columns:\n",
    "    # group counts for each feature\n",
    "    raw_df_1.select(column)\\\n",
    "        .groupBy(raw_df_1[column]).agg({column:'count'}).orderBy(count(raw_df_1[column]).desc()).show()\n",
    "    # null percentage for each feature\n",
    "    raw_df_1.select(count(when(col(column).isNull(),column))/count('*')*100).show()"
   ]
  },
  {
   "cell_type": "markdown",
   "id": "1dbb68ee",
   "metadata": {
    "pycharm": {
     "name": "#%% md\n"
    }
   },
   "source": [
    "people has diabetes would have no data for other features --> 'DIQ010' could not be target variable"
   ]
  },
  {
   "attachments": {},
   "cell_type": "markdown",
   "id": "d58fc6d9",
   "metadata": {
    "pycharm": {
     "name": "#%% md\n"
    }
   },
   "source": [
    "* split data by 'DIQ170': Ever told have health risk for diabetes"
   ]
  },
  {
   "cell_type": "code",
   "execution_count": 23,
   "id": "e743f469",
   "metadata": {
    "pycharm": {
     "name": "#%%\n"
    }
   },
   "outputs": [],
   "source": [
    "df_1_170 = raw_df_new[raw_df_new['DIQ170']==1] # yes\n",
    "df_2_170 = raw_df_new[raw_df_new['DIQ170']==2] # no\n",
    "df_3_170 = raw_df_new[raw_df_new['DIQ170']==9] # don't know"
   ]
  },
  {
   "cell_type": "code",
   "execution_count": 24,
   "id": "742d41c0",
   "metadata": {
    "scrolled": true,
    "pycharm": {
     "name": "#%%\n"
    }
   },
   "outputs": [
    {
     "name": "stdout",
     "output_type": "stream",
     "text": [
      "+------+-------------+\n",
      "|DIQ010|count(DIQ010)|\n",
      "+------+-------------+\n",
      "|     2|         4807|\n",
      "|     3|          103|\n",
      "|     9|            1|\n",
      "+------+-------------+\n",
      "\n",
      "+----------------------------------------------------------------------+\n",
      "|((count(CASE WHEN (DIQ010 IS NULL) THEN DIQ010 END) / count(1)) * 100)|\n",
      "+----------------------------------------------------------------------+\n",
      "|                                                                   0.0|\n",
      "+----------------------------------------------------------------------+\n",
      "\n",
      "+------+-------------+\n",
      "|DID040|count(DID040)|\n",
      "+------+-------------+\n",
      "|  null|            0|\n",
      "+------+-------------+\n",
      "\n",
      "+----------------------------------------------------------------------+\n",
      "|((count(CASE WHEN (DID040 IS NULL) THEN DID040 END) / count(1)) * 100)|\n",
      "+----------------------------------------------------------------------+\n",
      "|                                                                 100.0|\n",
      "+----------------------------------------------------------------------+\n",
      "\n",
      "+------+-------------+\n",
      "|DIQ160|count(DIQ160)|\n",
      "+------+-------------+\n",
      "|     2|         4453|\n",
      "|     1|          351|\n",
      "|     9|            4|\n",
      "|  null|            0|\n",
      "+------+-------------+\n",
      "\n",
      "+----------------------------------------------------------------------+\n",
      "|((count(CASE WHEN (DIQ160 IS NULL) THEN DIQ160 END) / count(1)) * 100)|\n",
      "+----------------------------------------------------------------------+\n",
      "|                                                     2.097332518835268|\n",
      "+----------------------------------------------------------------------+\n",
      "\n",
      "+------+-------------+\n",
      "|DIQ170|count(DIQ170)|\n",
      "+------+-------------+\n",
      "|     2|         4911|\n",
      "+------+-------------+\n",
      "\n",
      "+----------------------------------------------------------------------+\n",
      "|((count(CASE WHEN (DIQ170 IS NULL) THEN DIQ170 END) / count(1)) * 100)|\n",
      "+----------------------------------------------------------------------+\n",
      "|                                                                   0.0|\n",
      "+----------------------------------------------------------------------+\n",
      "\n",
      "+------+-------------+\n",
      "|DIQ172|count(DIQ172)|\n",
      "+------+-------------+\n",
      "|     2|         3931|\n",
      "|     1|          913|\n",
      "|     9|           65|\n",
      "|     7|            2|\n",
      "+------+-------------+\n",
      "\n",
      "+----------------------------------------------------------------------+\n",
      "|((count(CASE WHEN (DIQ172 IS NULL) THEN DIQ172 END) / count(1)) * 100)|\n",
      "+----------------------------------------------------------------------+\n",
      "|                                                                   0.0|\n",
      "+----------------------------------------------------------------------+\n",
      "\n",
      "+-------+--------------+\n",
      "|DIQ175A|count(DIQ175A)|\n",
      "+-------+--------------+\n",
      "|     10|           557|\n",
      "|     99|             2|\n",
      "|   null|             0|\n",
      "+-------+--------------+\n",
      "\n",
      "+------------------------------------------------------------------------+\n",
      "|((count(CASE WHEN (DIQ175A IS NULL) THEN DIQ175A END) / count(1)) * 100)|\n",
      "+------------------------------------------------------------------------+\n",
      "|                                                       88.61738953369985|\n",
      "+------------------------------------------------------------------------+\n",
      "\n",
      "+-------+--------------+\n",
      "|DIQ175B|count(DIQ175B)|\n",
      "+-------+--------------+\n",
      "|     11|           346|\n",
      "|   null|             0|\n",
      "+-------+--------------+\n",
      "\n",
      "+------------------------------------------------------------------------+\n",
      "|((count(CASE WHEN (DIQ175B IS NULL) THEN DIQ175B END) / count(1)) * 100)|\n",
      "+------------------------------------------------------------------------+\n",
      "|                                                       92.95459173284463|\n",
      "+------------------------------------------------------------------------+\n",
      "\n",
      "+-------+--------------+\n",
      "|DIQ175C|count(DIQ175C)|\n",
      "+-------+--------------+\n",
      "|     12|           126|\n",
      "|   null|             0|\n",
      "+-------+--------------+\n",
      "\n",
      "+------------------------------------------------------------------------+\n",
      "|((count(CASE WHEN (DIQ175C IS NULL) THEN DIQ175C END) / count(1)) * 100)|\n",
      "+------------------------------------------------------------------------+\n",
      "|                                                       97.43433109346365|\n",
      "+------------------------------------------------------------------------+\n",
      "\n",
      "+-------+--------------+\n",
      "|DIQ175D|count(DIQ175D)|\n",
      "+-------+--------------+\n",
      "|     13|           279|\n",
      "|   null|             0|\n",
      "+-------+--------------+\n",
      "\n",
      "+------------------------------------------------------------------------+\n",
      "|((count(CASE WHEN (DIQ175D IS NULL) THEN DIQ175D END) / count(1)) * 100)|\n",
      "+------------------------------------------------------------------------+\n",
      "|                                                       94.31887599266952|\n",
      "+------------------------------------------------------------------------+\n",
      "\n",
      "+-------+--------------+\n",
      "|DIQ175E|count(DIQ175E)|\n",
      "+-------+--------------+\n",
      "|     14|            88|\n",
      "|   null|             0|\n",
      "+-------+--------------+\n",
      "\n",
      "+------------------------------------------------------------------------+\n",
      "|((count(CASE WHEN (DIQ175E IS NULL) THEN DIQ175E END) / count(1)) * 100)|\n",
      "+------------------------------------------------------------------------+\n",
      "|                                                       98.20810425575239|\n",
      "+------------------------------------------------------------------------+\n",
      "\n",
      "+-------+--------------+\n",
      "|DIQ175F|count(DIQ175F)|\n",
      "+-------+--------------+\n",
      "|     15|            15|\n",
      "|   null|             0|\n",
      "+-------+--------------+\n",
      "\n",
      "+------------------------------------------------------------------------+\n",
      "|((count(CASE WHEN (DIQ175F IS NULL) THEN DIQ175F END) / count(1)) * 100)|\n",
      "+------------------------------------------------------------------------+\n",
      "|                                                       99.69456322541234|\n",
      "+------------------------------------------------------------------------+\n",
      "\n",
      "+-------+--------------+\n",
      "|DIQ175G|count(DIQ175G)|\n",
      "+-------+--------------+\n",
      "|     16|           153|\n",
      "|   null|             0|\n",
      "+-------+--------------+\n",
      "\n",
      "+------------------------------------------------------------------------+\n",
      "|((count(CASE WHEN (DIQ175G IS NULL) THEN DIQ175G END) / count(1)) * 100)|\n",
      "+------------------------------------------------------------------------+\n",
      "|                                                       96.88454489920586|\n",
      "+------------------------------------------------------------------------+\n",
      "\n",
      "+-------+--------------+\n",
      "|DIQ175H|count(DIQ175H)|\n",
      "+-------+--------------+\n",
      "|     17|           154|\n",
      "|   null|             0|\n",
      "+-------+--------------+\n",
      "\n",
      "+------------------------------------------------------------------------+\n",
      "|((count(CASE WHEN (DIQ175H IS NULL) THEN DIQ175H END) / count(1)) * 100)|\n",
      "+------------------------------------------------------------------------+\n",
      "|                                                       96.86418244756668|\n",
      "+------------------------------------------------------------------------+\n",
      "\n",
      "+-------+--------------+\n",
      "|DIQ175I|count(DIQ175I)|\n",
      "+-------+--------------+\n",
      "|     18|            36|\n",
      "|   null|             0|\n",
      "+-------+--------------+\n",
      "\n",
      "+------------------------------------------------------------------------+\n",
      "|((count(CASE WHEN (DIQ175I IS NULL) THEN DIQ175I END) / count(1)) * 100)|\n",
      "+------------------------------------------------------------------------+\n",
      "|                                                       99.26695174098961|\n",
      "+------------------------------------------------------------------------+\n",
      "\n",
      "+-------+--------------+\n",
      "|DIQ175J|count(DIQ175J)|\n",
      "+-------+--------------+\n",
      "|     19|            87|\n",
      "|   null|             0|\n",
      "+-------+--------------+\n",
      "\n",
      "+------------------------------------------------------------------------+\n",
      "|((count(CASE WHEN (DIQ175J IS NULL) THEN DIQ175J END) / count(1)) * 100)|\n",
      "+------------------------------------------------------------------------+\n",
      "|                                                       98.22846670739158|\n",
      "+------------------------------------------------------------------------+\n",
      "\n",
      "+-------+--------------+\n",
      "|DIQ175K|count(DIQ175K)|\n",
      "+-------+--------------+\n",
      "|     20|            10|\n",
      "|   null|             0|\n",
      "+-------+--------------+\n",
      "\n",
      "+------------------------------------------------------------------------+\n",
      "|((count(CASE WHEN (DIQ175K IS NULL) THEN DIQ175K END) / count(1)) * 100)|\n",
      "+------------------------------------------------------------------------+\n",
      "|                                                       99.79637548360823|\n",
      "+------------------------------------------------------------------------+\n",
      "\n"
     ]
    }
   ],
   "source": [
    "for column in columns:\n",
    "    df_2_170.select(column)\\\n",
    "        .groupBy(df_1_170[column]).agg({column:'count'}).orderBy(count(df_2_170[column]).desc()).show()\n",
    "    df_2_170.select(count(when(col(column).isNull(),column))/count('*')*100).show()"
   ]
  },
  {
   "cell_type": "markdown",
   "id": "65ecf52f",
   "metadata": {
    "pycharm": {
     "name": "#%% md\n"
    }
   },
   "source": [
    "using UDF to change data in 'DIQ170':\n",
    "\n",
    "    1 --> has risk of getting diabetes\n",
    "\n",
    "    0 --> do not have risk of getting diabetes"
   ]
  },
  {
   "cell_type": "code",
   "execution_count": 25,
   "id": "768244bc",
   "metadata": {
    "pycharm": {
     "name": "#%%\n"
    }
   },
   "outputs": [],
   "source": [
    "def check_170(input_string):\n",
    "    if input_string == '1': # has risk of diabetes\n",
    "        return 1\n",
    "    else:\n",
    "        return 0"
   ]
  },
  {
   "cell_type": "code",
   "execution_count": 125,
   "id": "7b881a43",
   "metadata": {
    "pycharm": {
     "name": "#%%\n"
    }
   },
   "outputs": [],
   "source": [
    "def check_null(input_string):\n",
    "    if input_string == None: # has risk of diabetes\n",
    "        return None\n",
    "    else:\n",
    "        return str(1)"
   ]
  },
  {
   "cell_type": "code",
   "execution_count": 26,
   "id": "23e14aca",
   "metadata": {
    "pycharm": {
     "name": "#%%\n"
    }
   },
   "outputs": [],
   "source": [
    "check_170_UDF = udf(lambda x:check_170(x))"
   ]
  },
  {
   "cell_type": "code",
   "execution_count": 119,
   "id": "b8e5c370",
   "metadata": {
    "pycharm": {
     "name": "#%%\n"
    }
   },
   "outputs": [],
   "source": [
    "check_null_UDF = udf(lambda x:check_null(x))"
   ]
  },
  {
   "cell_type": "code",
   "execution_count": 120,
   "id": "57a0aed7",
   "metadata": {
    "pycharm": {
     "name": "#%%\n"
    }
   },
   "outputs": [
    {
     "name": "stdout",
     "output_type": "stream",
     "text": [
      "+-------+-------------+----------------+----------------+---------+---------+--------------+----------+----+---------+----+------------------+----------------------+-------------------+----------------+----------------+------------+\n",
      "|   SEQN|have_diabetes|age_get_diabetes|have_prediabetes|have_risk|feel_risk|family_history|overweight| age|poor_diet|race|baby_weighed_over9|lack_physical_activity|high_blood_pressure|high_blood_sugar|high_cholesterol|hypoglycemic|\n",
      "+-------+-------------+----------------+----------------+---------+---------+--------------+----------+----+---------+----+------------------+----------------------+-------------------+----------------+----------------+------------+\n",
      "|93703.0|            2|            null|            null|     null|     null|          null|      null|null|     null|null|              null|                  null|               null|            null|            null|        null|\n",
      "+-------+-------------+----------------+----------------+---------+---------+--------------+----------+----+---------+----+------------------+----------------------+-------------------+----------------+----------------+------------+\n",
      "only showing top 1 row\n",
      "\n"
     ]
    }
   ],
   "source": [
    "raw_df.show(1)"
   ]
  },
  {
   "cell_type": "code",
   "execution_count": null,
   "id": "0a094e18",
   "metadata": {
    "pycharm": {
     "name": "#%%\n"
    }
   },
   "outputs": [],
   "source": [
    "# replace values in 'DIQ170'\n",
    "final_df = raw_df.withColumn('DIQ170',check_170_UDF(col('DIQ170')).cast('int'))"
   ]
  },
  {
   "cell_type": "code",
   "execution_count": 28,
   "id": "06a4a483",
   "metadata": {
    "pycharm": {
     "name": "#%%\n"
    }
   },
   "outputs": [
    {
     "name": "stdout",
     "output_type": "stream",
     "text": [
      "545\n",
      "+------+-------------+\n",
      "|DIQ010|count(DIQ010)|\n",
      "+------+-------------+\n",
      "|     2|          509|\n",
      "|     3|           34|\n",
      "|     9|            2|\n",
      "+------+-------------+\n",
      "\n",
      "+----------------------------------------------------------------------+\n",
      "|((count(CASE WHEN (DIQ010 IS NULL) THEN DIQ010 END) / count(1)) * 100)|\n",
      "+----------------------------------------------------------------------+\n",
      "|                                                                   0.0|\n",
      "+----------------------------------------------------------------------+\n",
      "\n",
      "+------+-------------+\n",
      "|DID040|count(DID040)|\n",
      "+------+-------------+\n",
      "|  null|            0|\n",
      "+------+-------------+\n",
      "\n",
      "+----------------------------------------------------------------------+\n",
      "|((count(CASE WHEN (DID040 IS NULL) THEN DID040 END) / count(1)) * 100)|\n",
      "+----------------------------------------------------------------------+\n",
      "|                                                                 100.0|\n",
      "+----------------------------------------------------------------------+\n",
      "\n",
      "+------+-------------+\n",
      "|DIQ160|count(DIQ160)|\n",
      "+------+-------------+\n",
      "|     2|          321|\n",
      "|     1|          187|\n",
      "|     9|            3|\n",
      "|  null|            0|\n",
      "+------+-------------+\n",
      "\n",
      "+----------------------------------------------------------------------+\n",
      "|((count(CASE WHEN (DIQ160 IS NULL) THEN DIQ160 END) / count(1)) * 100)|\n",
      "+----------------------------------------------------------------------+\n",
      "|                                                     6.238532110091743|\n",
      "+----------------------------------------------------------------------+\n",
      "\n",
      "+------+-------------+\n",
      "|DIQ170|count(DIQ170)|\n",
      "+------+-------------+\n",
      "|     1|          291|\n",
      "|     0|          254|\n",
      "+------+-------------+\n",
      "\n",
      "+----------------------------------------------------------------------+\n",
      "|((count(CASE WHEN (DIQ170 IS NULL) THEN DIQ170 END) / count(1)) * 100)|\n",
      "+----------------------------------------------------------------------+\n",
      "|                                                                   0.0|\n",
      "+----------------------------------------------------------------------+\n",
      "\n",
      "+------+-------------+\n",
      "|DIQ172|count(DIQ172)|\n",
      "+------+-------------+\n",
      "|     1|          545|\n",
      "+------+-------------+\n",
      "\n",
      "+----------------------------------------------------------------------+\n",
      "|((count(CASE WHEN (DIQ172 IS NULL) THEN DIQ172 END) / count(1)) * 100)|\n",
      "+----------------------------------------------------------------------+\n",
      "|                                                                   0.0|\n",
      "+----------------------------------------------------------------------+\n",
      "\n",
      "+-------+--------------+\n",
      "|DIQ175A|count(DIQ175A)|\n",
      "+-------+--------------+\n",
      "|     10|           432|\n",
      "|   null|             0|\n",
      "+-------+--------------+\n",
      "\n",
      "+------------------------------------------------------------------------+\n",
      "|((count(CASE WHEN (DIQ175A IS NULL) THEN DIQ175A END) / count(1)) * 100)|\n",
      "+------------------------------------------------------------------------+\n",
      "|                                                      20.733944954128443|\n",
      "+------------------------------------------------------------------------+\n",
      "\n",
      "+-------+--------------+\n",
      "|DIQ175B|count(DIQ175B)|\n",
      "+-------+--------------+\n",
      "|     11|           425|\n",
      "|   null|             0|\n",
      "+-------+--------------+\n",
      "\n",
      "+------------------------------------------------------------------------+\n",
      "|((count(CASE WHEN (DIQ175B IS NULL) THEN DIQ175B END) / count(1)) * 100)|\n",
      "+------------------------------------------------------------------------+\n",
      "|                                                      22.018348623853214|\n",
      "+------------------------------------------------------------------------+\n",
      "\n",
      "+-------+--------------+\n",
      "|DIQ175C|count(DIQ175C)|\n",
      "+-------+--------------+\n",
      "|     12|           155|\n",
      "|   null|             0|\n",
      "+-------+--------------+\n",
      "\n",
      "+------------------------------------------------------------------------+\n",
      "|((count(CASE WHEN (DIQ175C IS NULL) THEN DIQ175C END) / count(1)) * 100)|\n",
      "+------------------------------------------------------------------------+\n",
      "|                                                       71.55963302752293|\n",
      "+------------------------------------------------------------------------+\n",
      "\n",
      "+-------+--------------+\n",
      "|DIQ175D|count(DIQ175D)|\n",
      "+-------+--------------+\n",
      "|     13|           328|\n",
      "|   null|             0|\n",
      "+-------+--------------+\n",
      "\n",
      "+------------------------------------------------------------------------+\n",
      "|((count(CASE WHEN (DIQ175D IS NULL) THEN DIQ175D END) / count(1)) * 100)|\n",
      "+------------------------------------------------------------------------+\n",
      "|                                                      39.816513761467895|\n",
      "+------------------------------------------------------------------------+\n",
      "\n",
      "+-------+--------------+\n",
      "|DIQ175E|count(DIQ175E)|\n",
      "+-------+--------------+\n",
      "|     14|           129|\n",
      "|   null|             0|\n",
      "+-------+--------------+\n",
      "\n",
      "+------------------------------------------------------------------------+\n",
      "|((count(CASE WHEN (DIQ175E IS NULL) THEN DIQ175E END) / count(1)) * 100)|\n",
      "+------------------------------------------------------------------------+\n",
      "|                                                        76.3302752293578|\n",
      "+------------------------------------------------------------------------+\n",
      "\n",
      "+-------+--------------+\n",
      "|DIQ175F|count(DIQ175F)|\n",
      "+-------+--------------+\n",
      "|     15|            30|\n",
      "|   null|             0|\n",
      "+-------+--------------+\n",
      "\n",
      "+------------------------------------------------------------------------+\n",
      "|((count(CASE WHEN (DIQ175F IS NULL) THEN DIQ175F END) / count(1)) * 100)|\n",
      "+------------------------------------------------------------------------+\n",
      "|                                                        94.4954128440367|\n",
      "+------------------------------------------------------------------------+\n",
      "\n",
      "+-------+--------------+\n",
      "|DIQ175G|count(DIQ175G)|\n",
      "+-------+--------------+\n",
      "|     16|           252|\n",
      "|   null|             0|\n",
      "+-------+--------------+\n",
      "\n",
      "+------------------------------------------------------------------------+\n",
      "|((count(CASE WHEN (DIQ175G IS NULL) THEN DIQ175G END) / count(1)) * 100)|\n",
      "+------------------------------------------------------------------------+\n",
      "|                                                       53.76146788990825|\n",
      "+------------------------------------------------------------------------+\n",
      "\n",
      "+-------+--------------+\n",
      "|DIQ175H|count(DIQ175H)|\n",
      "+-------+--------------+\n",
      "|     17|           200|\n",
      "|   null|             0|\n",
      "+-------+--------------+\n",
      "\n",
      "+------------------------------------------------------------------------+\n",
      "|((count(CASE WHEN (DIQ175H IS NULL) THEN DIQ175H END) / count(1)) * 100)|\n",
      "+------------------------------------------------------------------------+\n",
      "|                                                       63.30275229357798|\n",
      "+------------------------------------------------------------------------+\n",
      "\n",
      "+-------+--------------+\n",
      "|DIQ175I|count(DIQ175I)|\n",
      "+-------+--------------+\n",
      "|     18|            47|\n",
      "|   null|             0|\n",
      "+-------+--------------+\n",
      "\n",
      "+------------------------------------------------------------------------+\n",
      "|((count(CASE WHEN (DIQ175I IS NULL) THEN DIQ175I END) / count(1)) * 100)|\n",
      "+------------------------------------------------------------------------+\n",
      "|                                                       91.37614678899084|\n",
      "+------------------------------------------------------------------------+\n",
      "\n",
      "+-------+--------------+\n",
      "|DIQ175J|count(DIQ175J)|\n",
      "+-------+--------------+\n",
      "|     19|           128|\n",
      "|   null|             0|\n",
      "+-------+--------------+\n",
      "\n",
      "+------------------------------------------------------------------------+\n",
      "|((count(CASE WHEN (DIQ175J IS NULL) THEN DIQ175J END) / count(1)) * 100)|\n",
      "+------------------------------------------------------------------------+\n",
      "|                                                        76.5137614678899|\n",
      "+------------------------------------------------------------------------+\n",
      "\n",
      "+-------+--------------+\n",
      "|DIQ175K|count(DIQ175K)|\n",
      "+-------+--------------+\n",
      "|     20|            20|\n",
      "|   null|             0|\n",
      "+-------+--------------+\n",
      "\n",
      "+------------------------------------------------------------------------+\n",
      "|((count(CASE WHEN (DIQ175K IS NULL) THEN DIQ175K END) / count(1)) * 100)|\n",
      "+------------------------------------------------------------------------+\n",
      "|                                                        96.3302752293578|\n",
      "+------------------------------------------------------------------------+\n",
      "\n"
     ]
    }
   ],
   "source": [
    "raw_df_new = new_df_desc(final_df,8,columns)"
   ]
  },
  {
   "cell_type": "code",
   "execution_count": 29,
   "id": "7c220604",
   "metadata": {
    "pycharm": {
     "name": "#%%\n"
    }
   },
   "outputs": [],
   "source": [
    "raw_pd_df = raw_df_new.toPandas()"
   ]
  },
  {
   "cell_type": "code",
   "execution_count": 30,
   "id": "eca41947",
   "metadata": {
    "scrolled": true,
    "pycharm": {
     "name": "#%%\n"
    }
   },
   "outputs": [
    {
     "name": "stdout",
     "output_type": "stream",
     "text": [
      "DIQ010\n",
      "   DIQ010  DIQ010Count  DIQ170 Ratio\n",
      "0       2          509      0.522593\n",
      "1       3           34      0.705882\n",
      "2       9            2      0.500000\n",
      "DID040\n",
      "Empty DataFrame\n",
      "Columns: [DID040, DID040Count, DIQ170 Ratio]\n",
      "Index: []\n",
      "DIQ160\n",
      "  DIQ160  DIQ160Count  DIQ170 Ratio\n",
      "1      2          321      0.492212\n",
      "0      1          187      0.577540\n",
      "2      9            3      0.333333\n",
      "DIQ170\n",
      "   DIQ170  DIQ170Count  DIQ170 Ratio\n",
      "1       1          291           1.0\n",
      "0       0          254           0.0\n",
      "DIQ172\n",
      "  DIQ172  DIQ172Count  DIQ170 Ratio\n",
      "0      1          545      0.533945\n",
      "DIQ175A\n",
      "  DIQ175A  DIQ175ACount  DIQ170 Ratio\n",
      "0      10           432      0.638889\n",
      "DIQ175B\n",
      "  DIQ175B  DIQ175BCount  DIQ170 Ratio\n",
      "0      11           425      0.531765\n",
      "DIQ175C\n",
      "  DIQ175C  DIQ175CCount  DIQ170 Ratio\n",
      "0      12           155      0.496774\n",
      "DIQ175D\n",
      "  DIQ175D  DIQ175DCount  DIQ170 Ratio\n",
      "0      13           328           0.5\n",
      "DIQ175E\n",
      "  DIQ175E  DIQ175ECount  DIQ170 Ratio\n",
      "0      14           129       0.55814\n",
      "DIQ175F\n",
      "  DIQ175F  DIQ175FCount  DIQ170 Ratio\n",
      "0      15            30      0.666667\n",
      "DIQ175G\n",
      "  DIQ175G  DIQ175GCount  DIQ170 Ratio\n",
      "0      16           252      0.563492\n",
      "DIQ175H\n",
      "  DIQ175H  DIQ175HCount  DIQ170 Ratio\n",
      "0      17           200         0.515\n",
      "DIQ175I\n",
      "  DIQ175I  DIQ175ICount  DIQ170 Ratio\n",
      "0      18            47      0.553191\n",
      "DIQ175J\n",
      "  DIQ175J  DIQ175JCount  DIQ170 Ratio\n",
      "0      19           128      0.484375\n",
      "DIQ175K\n",
      "  DIQ175K  DIQ175KCount  DIQ170 Ratio\n",
      "0      20            20          0.75\n"
     ]
    }
   ],
   "source": [
    "for column in columns:\n",
    "    print(column)\n",
    "    print(raw_pd_df.groupby(by=column)['DIQ170'].agg(['count','mean']).reset_index()\\\n",
    "             .rename(columns={'count':column+'Count', 'mean':'DIQ170 Ratio'})\\\n",
    "             .sort_values(by=[column+'Count'], ascending=False))"
   ]
  },
  {
   "cell_type": "code",
   "execution_count": 126,
   "id": "cc607e75",
   "metadata": {
    "pycharm": {
     "name": "#%%\n"
    }
   },
   "outputs": [],
   "source": [
    "def df_cleaning(df_name):\n",
    "    # load raw file\n",
    "    df = spark.read.option('header', True).option('inferSchema', True) .csv(df_name)\n",
    "    # drop useless feature\n",
    "    need_to_remove = ['_c0','DIQ175C','DIQ175E','DIQ175L','DIQ175M','DIQ175N','DIQ175O','DIQ175P','DIQ175Q','DIQ175R','DIQ175S','DIQ175T','DIQ175U','DIQ175V','DIQ175W','DIQ175X','DIQ180','DIQ050','DID060','DIQ060U','DIQ070','DIQ230','DIQ240','DID250','DID260','DIQ260U','DIQ275','DIQ280','DIQ291','DIQ300S','DIQ300D','DID310S','DID310D','DID320','DID330','DID341','DID350','DIQ350U','DIQ360','DIQ080']\n",
    "    for column in need_to_remove:\n",
    "        df = df.drop(column)\n",
    "    # NA --> null\n",
    "    for c in df.columns:\n",
    "        df = df.withColumn(c, when(col(c)=='NA' ,None).otherwise(col(c)))\n",
    "    # target feature's value change --> [0,1]\n",
    "    df = df.withColumn('DIQ170',check_170_UDF(col('DIQ170')).cast('int'))\n",
    "    # rename columns\n",
    "    df = df.withColumnRenamed('DIQ010', 'have_diabetes')\n",
    "    df = df.withColumnRenamed('DID040', 'age_get_diabetes')\n",
    "    df = df.withColumnRenamed('DIQ160', 'have_prediabetes')\n",
    "    df = df.withColumnRenamed('DIQ170', 'have_risk')\n",
    "    df = df.withColumnRenamed('DIQ172', 'feel_risk')\n",
    "    df = df.withColumnRenamed('DIQ175A', 'family_history')\n",
    "    df = df.withColumnRenamed('DIQ175B', 'overweight')\n",
    "    df = df.withColumnRenamed('DIQ175D', 'poor_diet')\n",
    "    df = df.withColumnRenamed('DIQ175F', 'baby_weighed_over9')\n",
    "    df = df.withColumnRenamed('DIQ175G', 'lack_physical_activity')\n",
    "    df = df.withColumnRenamed('DIQ175H', 'high_blood_pressure')\n",
    "    df = df.withColumnRenamed('DIQ175I', 'high_blood_sugar')\n",
    "    df = df.withColumnRenamed('DIQ175J', 'high_cholesterol')\n",
    "    df = df.withColumnRenamed('DIQ175K', 'hypoglycemic')\n",
    "    for column in ['overweight','poor_diet','baby_weighed_over9','lack_physical_activity','high_blood_pressure','high_blood_sugar','high_cholesterol','hypoglycemic']:\n",
    "        df = df.withColumn(column,check_null_UDF(col(column)))\n",
    "    \n",
    "    # drop rows contain more than ... null\n",
    "    df=df.dropna(thresh=6) # input_thresh: require how many non-NA values\n",
    "    \n",
    "    return df"
   ]
  },
  {
   "cell_type": "code",
   "execution_count": 127,
   "id": "e4791eb6",
   "metadata": {
    "pycharm": {
     "name": "#%%\n"
    }
   },
   "outputs": [],
   "source": [
    "df_17_18 = df_cleaning('diabetes_nhanes_17_18.csv')\n",
    "df_15_16 = df_cleaning('diabetes_nhanes_15_16.csv')\n",
    "df_13_14 = df_cleaning('diabetes_nhanes_13_14.csv')\n",
    "df_11_12 = df_cleaning('diabetes_nhanes_11_12.csv')"
   ]
  },
  {
   "cell_type": "code",
   "execution_count": 128,
   "id": "391c5aef",
   "metadata": {
    "pycharm": {
     "name": "#%%\n"
    }
   },
   "outputs": [],
   "source": [
    "union_all_df = df_17_18.union(df_15_16).cache()\n",
    "union_all_df = union_all_df.union(df_13_14).cache()\n",
    "union_all_df = union_all_df.union(df_11_12).cache()"
   ]
  },
  {
   "cell_type": "code",
   "execution_count": 129,
   "id": "20c381d7",
   "metadata": {
    "pycharm": {
     "name": "#%%\n"
    }
   },
   "outputs": [
    {
     "data": {
      "text/plain": [
       "38010"
      ]
     },
     "execution_count": 129,
     "metadata": {},
     "output_type": "execute_result"
    }
   ],
   "source": [
    "union_all_df.count()"
   ]
  },
  {
   "cell_type": "code",
   "execution_count": null,
   "id": "5f211c2c",
   "metadata": {
    "pycharm": {
     "name": "#%%\n"
    }
   },
   "outputs": [],
   "source": []
  },
  {
   "cell_type": "code",
   "execution_count": 130,
   "id": "93fcd870",
   "metadata": {
    "pycharm": {
     "name": "#%%\n"
    }
   },
   "outputs": [],
   "source": [
    "union_all_df_pd = union_all_df.toPandas()"
   ]
  },
  {
   "cell_type": "code",
   "execution_count": 134,
   "id": "4d28d7eb",
   "metadata": {
    "pycharm": {
     "name": "#%%\n"
    }
   },
   "outputs": [],
   "source": [
    "filtered_union_all_df=union_all_df.dropna(thresh=6)"
   ]
  },
  {
   "cell_type": "code",
   "execution_count": 135,
   "id": "7f8b5118",
   "metadata": {
    "pycharm": {
     "name": "#%%\n"
    }
   },
   "outputs": [
    {
     "data": {
      "text/plain": [
       "6141"
      ]
     },
     "execution_count": 135,
     "metadata": {},
     "output_type": "execute_result"
    }
   ],
   "source": [
    "filtered_union_all_df.count()"
   ]
  },
  {
   "cell_type": "code",
   "execution_count": 91,
   "id": "8aa1d1c4",
   "metadata": {
    "pycharm": {
     "name": "#%%\n"
    }
   },
   "outputs": [
    {
     "data": {
      "text/plain": [
       "['have_diabetes',\n",
       " 'age_get_diabetes',\n",
       " 'have_prediabetes',\n",
       " 'have_risk',\n",
       " 'feel_risk',\n",
       " 'family_history',\n",
       " 'overweight',\n",
       " 'poor_diet',\n",
       " 'baby_weighed_over9',\n",
       " 'lack_physical_activity',\n",
       " 'high_blood_pressure',\n",
       " 'high_blood_sugar',\n",
       " 'high_cholesterol',\n",
       " 'hypoglycemic']"
      ]
     },
     "execution_count": 91,
     "metadata": {},
     "output_type": "execute_result"
    }
   ],
   "source": [
    "columns = filtered_union_all_df.columns\n",
    "columns.pop(0)\n",
    "columns"
   ]
  },
  {
   "cell_type": "code",
   "execution_count": 131,
   "id": "16190217",
   "metadata": {
    "scrolled": true,
    "pycharm": {
     "name": "#%%\n"
    }
   },
   "outputs": [
    {
     "name": "stdout",
     "output_type": "stream",
     "text": [
      "  have_diabetes  Count  Have Risk Ratio\n",
      "1             2  34066         0.095902\n",
      "0             1   3223         0.000000\n",
      "2             3    701         0.455064\n",
      "4             9     18         0.388889\n",
      "3             7      2         0.000000\n",
      "   age_get_diabetes  Count  Have Risk Ratio\n",
      "45               50    239              0.0\n",
      "34               40    159              0.0\n",
      "50               55    157              0.0\n",
      "39               45    154              0.0\n",
      "56               60    140              0.0\n",
      "..              ...    ...              ...\n",
      "77               79      4              0.0\n",
      "22                3      4              0.0\n",
      "0                 1      3              0.0\n",
      "55                6      1              0.0\n",
      "5                14      1              0.0\n",
      "\n",
      "[82 rows x 3 columns]\n",
      "  have_prediabetes  Count  Have Risk Ratio\n",
      "1                2  22612         0.113082\n",
      "0                1   1666         0.420168\n",
      "2                9     35         0.485714\n",
      "   have_risk  Count  Have Risk Ratio\n",
      "0          0  34417              0.0\n",
      "1          1   3593              1.0\n",
      "  feel_risk  Count  Have Risk Ratio\n",
      "1         2  18159         0.060796\n",
      "0         1   6554         0.374886\n",
      "3         9    284         0.112676\n",
      "2         7      3         0.000000\n",
      "  family_history  Count  Have Risk Ratio\n",
      "0             10   5003         0.453928\n",
      "1             99      4         0.000000\n",
      "  overweight  Count  Have Risk Ratio\n",
      "0          1   2350         0.419149\n",
      "  poor_diet  Count  Have Risk Ratio\n",
      "0         1   1687         0.360403\n",
      "  baby_weighed_over9  Count  Have Risk Ratio\n",
      "0                  1    133         0.556391\n",
      "  lack_physical_activity  Count  Have Risk Ratio\n",
      "0                      1    900         0.487778\n",
      "  high_blood_pressure  Count  Have Risk Ratio\n",
      "0                   1    851         0.440658\n",
      "  high_blood_sugar  Count  Have Risk Ratio\n",
      "0                1    293          0.40273\n",
      "  high_cholesterol  Count  Have Risk Ratio\n",
      "0                1    527         0.474383\n",
      "  hypoglycemic  Count  Have Risk Ratio\n",
      "0            1    138          0.57971\n"
     ]
    }
   ],
   "source": [
    "for column in columns:\n",
    "    print(union_all_df_pd.groupby(by=column)['have_risk'].agg(['count','mean']).reset_index()\\\n",
    "             .rename(columns={'count':'Count', 'mean':'Have Risk Ratio'})\\\n",
    "             .sort_values(by=['Count'], ascending=False))"
   ]
  },
  {
   "cell_type": "code",
   "execution_count": 136,
   "id": "e6345171",
   "metadata": {
    "pycharm": {
     "name": "#%%\n"
    }
   },
   "outputs": [],
   "source": [
    "filtered_union_all_df_pd = filtered_union_all_df.toPandas()"
   ]
  },
  {
   "cell_type": "code",
   "execution_count": 133,
   "id": "da27de60",
   "metadata": {
    "pycharm": {
     "name": "#%%\n"
    }
   },
   "outputs": [],
   "source": [
    "union_all_df_pd.to_csv('union_all_diabetes_with_null.csv',index=False)"
   ]
  },
  {
   "cell_type": "code",
   "execution_count": 137,
   "id": "31c9d7ea",
   "metadata": {
    "pycharm": {
     "name": "#%%\n"
    }
   },
   "outputs": [],
   "source": [
    "filtered_union_all_df_pd.to_csv('filtered_union_all_diabetes_less_null.csv',index=False)"
   ]
  },
  {
   "cell_type": "code",
   "execution_count": 138,
   "id": "5a20fd2a",
   "metadata": {
    "pycharm": {
     "name": "#%%\n"
    }
   },
   "outputs": [
    {
     "name": "stdout",
     "output_type": "stream",
     "text": [
      "  have_diabetes  Count  Have Risk Ratio\n",
      "0             2   5827         0.370002\n",
      "1             3    307         0.596091\n",
      "2             9      7         0.714286\n",
      "+-------------+--------------------+\n",
      "|have_diabetes|count(have_diabetes)|\n",
      "+-------------+--------------------+\n",
      "|            2|                5827|\n",
      "|            3|                 307|\n",
      "|            9|                   7|\n",
      "+-------------+--------------------+\n",
      "\n",
      "+------------------------------------------------------------------------------------+\n",
      "|((count(CASE WHEN (have_diabetes IS NULL) THEN have_diabetes END) / count(1)) * 100)|\n",
      "+------------------------------------------------------------------------------------+\n",
      "|                                                                                 0.0|\n",
      "+------------------------------------------------------------------------------------+\n",
      "\n",
      "Empty DataFrame\n",
      "Columns: [age_get_diabetes, Count, Have Risk Ratio]\n",
      "Index: []\n",
      "+----------------+-----------------------+\n",
      "|age_get_diabetes|count(age_get_diabetes)|\n",
      "+----------------+-----------------------+\n",
      "|            null|                      0|\n",
      "+----------------+-----------------------+\n",
      "\n",
      "+------------------------------------------------------------------------------------------+\n",
      "|((count(CASE WHEN (age_get_diabetes IS NULL) THEN age_get_diabetes END) / count(1)) * 100)|\n",
      "+------------------------------------------------------------------------------------------+\n",
      "|                                                                                     100.0|\n",
      "+------------------------------------------------------------------------------------------+\n",
      "\n",
      "  have_prediabetes  Count  Have Risk Ratio\n",
      "1                2   4740         0.333544\n",
      "0                1   1080         0.527778\n",
      "2                9     14         0.714286\n",
      "+----------------+-----------------------+\n",
      "|have_prediabetes|count(have_prediabetes)|\n",
      "+----------------+-----------------------+\n",
      "|               2|                   4740|\n",
      "|               1|                   1080|\n",
      "|               9|                     14|\n",
      "|            null|                      0|\n",
      "+----------------+-----------------------+\n",
      "\n",
      "+------------------------------------------------------------------------------------------+\n",
      "|((count(CASE WHEN (have_prediabetes IS NULL) THEN have_prediabetes END) / count(1)) * 100)|\n",
      "+------------------------------------------------------------------------------------------+\n",
      "|                                                                         4.999185800358248|\n",
      "+------------------------------------------------------------------------------------------+\n",
      "\n",
      "   have_risk  Count  Have Risk Ratio\n",
      "0          0   3797              0.0\n",
      "1          1   2344              1.0\n",
      "+---------+----------------+\n",
      "|have_risk|count(have_risk)|\n",
      "+---------+----------------+\n",
      "|        0|            3797|\n",
      "|        1|            2344|\n",
      "+---------+----------------+\n",
      "\n",
      "+----------------------------------------------------------------------------+\n",
      "|((count(CASE WHEN (have_risk IS NULL) THEN have_risk END) / count(1)) * 100)|\n",
      "+----------------------------------------------------------------------------+\n",
      "|                                                                         0.0|\n",
      "+----------------------------------------------------------------------------+\n",
      "\n",
      "  feel_risk  Count  Have Risk Ratio\n",
      "0         1   6141         0.381697\n",
      "+---------+----------------+\n",
      "|feel_risk|count(feel_risk)|\n",
      "+---------+----------------+\n",
      "|        1|            6141|\n",
      "+---------+----------------+\n",
      "\n",
      "+----------------------------------------------------------------------------+\n",
      "|((count(CASE WHEN (feel_risk IS NULL) THEN feel_risk END) / count(1)) * 100)|\n",
      "+----------------------------------------------------------------------------+\n",
      "|                                                                         0.0|\n",
      "+----------------------------------------------------------------------------+\n",
      "\n",
      "  family_history  Count  Have Risk Ratio\n",
      "0             10   4906         0.449042\n",
      "1             99      4         0.000000\n",
      "+--------------+---------------------+\n",
      "|family_history|count(family_history)|\n",
      "+--------------+---------------------+\n",
      "|            10|                 4906|\n",
      "|            99|                    4|\n",
      "|          null|                    0|\n",
      "+--------------+---------------------+\n",
      "\n",
      "+--------------------------------------------------------------------------------------+\n",
      "|((count(CASE WHEN (family_history IS NULL) THEN family_history END) / count(1)) * 100)|\n",
      "+--------------------------------------------------------------------------------------+\n",
      "|                                                                    20.045595179938122|\n",
      "+--------------------------------------------------------------------------------------+\n",
      "\n",
      "  overweight  Count  Have Risk Ratio\n",
      "0          1   2320         0.422414\n",
      "+----------+-----------------+\n",
      "|overweight|count(overweight)|\n",
      "+----------+-----------------+\n",
      "|         1|             2320|\n",
      "|      null|                0|\n",
      "+----------+-----------------+\n",
      "\n",
      "+------------------------------------------------------------------------------+\n",
      "|((count(CASE WHEN (overweight IS NULL) THEN overweight END) / count(1)) * 100)|\n",
      "+------------------------------------------------------------------------------+\n",
      "|                                                             62.22113662269989|\n",
      "+------------------------------------------------------------------------------+\n",
      "\n",
      "  poor_diet  Count  Have Risk Ratio\n",
      "0         1   1666         0.363145\n",
      "+---------+----------------+\n",
      "|poor_diet|count(poor_diet)|\n",
      "+---------+----------------+\n",
      "|        1|            1666|\n",
      "|     null|               0|\n",
      "+---------+----------------+\n",
      "\n",
      "+----------------------------------------------------------------------------+\n",
      "|((count(CASE WHEN (poor_diet IS NULL) THEN poor_diet END) / count(1)) * 100)|\n",
      "+----------------------------------------------------------------------------+\n",
      "|                                                            72.8708679368181|\n",
      "+----------------------------------------------------------------------------+\n",
      "\n",
      "  baby_weighed_over9  Count  Have Risk Ratio\n",
      "0                  1    132         0.560606\n",
      "+------------------+-------------------------+\n",
      "|baby_weighed_over9|count(baby_weighed_over9)|\n",
      "+------------------+-------------------------+\n",
      "|                 1|                      132|\n",
      "|              null|                        0|\n",
      "+------------------+-------------------------+\n",
      "\n",
      "+----------------------------------------------------------------------------------------------+\n",
      "|((count(CASE WHEN (baby_weighed_over9 IS NULL) THEN baby_weighed_over9 END) / count(1)) * 100)|\n",
      "+----------------------------------------------------------------------------------------------+\n",
      "|                                                                              97.8505129457743|\n",
      "+----------------------------------------------------------------------------------------------+\n",
      "\n",
      "  lack_physical_activity  Count  Have Risk Ratio\n",
      "0                      1    898         0.488864\n",
      "+----------------------+-----------------------------+\n",
      "|lack_physical_activity|count(lack_physical_activity)|\n",
      "+----------------------+-----------------------------+\n",
      "|                     1|                          898|\n",
      "|                  null|                            0|\n",
      "+----------------------+-----------------------------+\n",
      "\n",
      "+------------------------------------------------------------------------------------------------------+\n",
      "|((count(CASE WHEN (lack_physical_activity IS NULL) THEN lack_physical_activity END) / count(1)) * 100)|\n",
      "+------------------------------------------------------------------------------------------------------+\n",
      "|                                                                                     85.37697443413124|\n",
      "+------------------------------------------------------------------------------------------------------+\n",
      "\n",
      "  high_blood_pressure  Count  Have Risk Ratio\n",
      "0                   1    849         0.441696\n",
      "+-------------------+--------------------------+\n",
      "|high_blood_pressure|count(high_blood_pressure)|\n",
      "+-------------------+--------------------------+\n",
      "|                  1|                       849|\n",
      "|               null|                         0|\n",
      "+-------------------+--------------------------+\n",
      "\n",
      "+------------------------------------------------------------------------------------------------+\n",
      "|((count(CASE WHEN (high_blood_pressure IS NULL) THEN high_blood_pressure END) / count(1)) * 100)|\n",
      "+------------------------------------------------------------------------------------------------+\n",
      "|                                                                               86.17489008304837|\n",
      "+------------------------------------------------------------------------------------------------+\n",
      "\n",
      "  high_blood_sugar  Count  Have Risk Ratio\n",
      "0                1    275         0.410909\n"
     ]
    },
    {
     "name": "stdout",
     "output_type": "stream",
     "text": [
      "+----------------+-----------------------+\n",
      "|high_blood_sugar|count(high_blood_sugar)|\n",
      "+----------------+-----------------------+\n",
      "|               1|                    275|\n",
      "|            null|                      0|\n",
      "+----------------+-----------------------+\n",
      "\n",
      "+------------------------------------------------------------------------------------------+\n",
      "|((count(CASE WHEN (high_blood_sugar IS NULL) THEN high_blood_sugar END) / count(1)) * 100)|\n",
      "+------------------------------------------------------------------------------------------+\n",
      "|                                                                         95.52190197036313|\n",
      "+------------------------------------------------------------------------------------------+\n",
      "\n",
      "  high_cholesterol  Count  Have Risk Ratio\n",
      "0                1    527         0.474383\n",
      "+----------------+-----------------------+\n",
      "|high_cholesterol|count(high_cholesterol)|\n",
      "+----------------+-----------------------+\n",
      "|               1|                    527|\n",
      "|            null|                      0|\n",
      "+----------------+-----------------------+\n",
      "\n",
      "+------------------------------------------------------------------------------------------+\n",
      "|((count(CASE WHEN (high_cholesterol IS NULL) THEN high_cholesterol END) / count(1)) * 100)|\n",
      "+------------------------------------------------------------------------------------------+\n",
      "|                                                                         91.41833577593226|\n",
      "+------------------------------------------------------------------------------------------+\n",
      "\n",
      "  hypoglycemic  Count  Have Risk Ratio\n",
      "0            1    138          0.57971\n",
      "+------------+-------------------+\n",
      "|hypoglycemic|count(hypoglycemic)|\n",
      "+------------+-------------------+\n",
      "|           1|                138|\n",
      "|        null|                  0|\n",
      "+------------+-------------------+\n",
      "\n",
      "+----------------------------------------------------------------------------------+\n",
      "|((count(CASE WHEN (hypoglycemic IS NULL) THEN hypoglycemic END) / count(1)) * 100)|\n",
      "+----------------------------------------------------------------------------------+\n",
      "|                                                                 97.75280898876404|\n",
      "+----------------------------------------------------------------------------------+\n",
      "\n"
     ]
    }
   ],
   "source": [
    "for column in columns:\n",
    "    print(filtered_union_all_df_pd.groupby(by=column)['have_risk'].agg(['count','mean']).reset_index()\\\n",
    "             .rename(columns={'count':'Count', 'mean':'Have Risk Ratio'})\\\n",
    "             .sort_values(by=['Count'], ascending=False))\n",
    "    filtered_union_all_df.select(column)\\\n",
    "        .groupBy(filtered_union_all_df[column]).agg({column:'count'}).orderBy(count(union_all_df[column]).desc()).show()\n",
    "    # null percentage for each feature\n",
    "    filtered_union_all_df.select(count(when(col(column).isNull(),column))/count('*')*100).show()"
   ]
  },
  {
   "cell_type": "code",
   "execution_count": null,
   "id": "d516f8d9",
   "metadata": {
    "pycharm": {
     "name": "#%%\n"
    }
   },
   "outputs": [],
   "source": []
  },
  {
   "cell_type": "code",
   "execution_count": null,
   "id": "a53f7ff0",
   "metadata": {
    "pycharm": {
     "name": "#%%\n"
    }
   },
   "outputs": [],
   "source": []
  },
  {
   "cell_type": "code",
   "execution_count": null,
   "id": "42d04d72",
   "metadata": {
    "pycharm": {
     "name": "#%%\n"
    }
   },
   "outputs": [],
   "source": []
  }
 ],
 "metadata": {
  "kernelspec": {
   "display_name": "Python 3 (ipykernel)",
   "language": "python",
   "name": "python3"
  },
  "language_info": {
   "codemirror_mode": {
    "name": "ipython",
    "version": 3
   },
   "file_extension": ".py",
   "mimetype": "text/x-python",
   "name": "python",
   "nbconvert_exporter": "python",
   "pygments_lexer": "ipython3",
   "version": "3.8.13"
  }
 },
 "nbformat": 4,
 "nbformat_minor": 5
}