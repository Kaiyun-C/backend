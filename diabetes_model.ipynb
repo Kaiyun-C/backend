{
 "cells": [
  {
   "cell_type": "code",
   "execution_count": 176,
   "id": "22f152bd",
   "metadata": {
    "pycharm": {
     "name": "#%%\n"
    }
   },
   "outputs": [],
   "source": [
    "import pandas as pd\n",
    "import warnings\n",
    "import numpy as np\n",
    "from sklearn import metrics\n",
    "from sklearn.metrics import precision_score, recall_score, f1_score\n",
    "from sklearn.model_selection import cross_val_score\n",
    "from sklearn.linear_model import LogisticRegression\n",
    "from sklearn.tree import DecisionTreeClassifier\n",
    "import matplotlib.pyplot as plt\n",
    "import seaborn as sns\n",
    "import math\n",
    "from numpy.ma import exp\n",
    "from sklearn.metrics import classification_report\n",
    "from sklearn.model_selection import train_test_split\n",
    "import missingno as msno\n",
    "import copy\n",
    "import statsmodels.formula.api\n",
    "from numpy import shape, ones, mat\n",
    "from sklearn.feature_selection import SelectFromModel\n",
    "from sklearn.metrics import accuracy_score"
   ]
  },
  {
   "cell_type": "code",
   "execution_count": 2,
   "id": "5e06452f",
   "metadata": {
    "pycharm": {
     "name": "#%%\n"
    }
   },
   "outputs": [],
   "source": [
    "#pip install statsmodels"
   ]
  },
  {
   "cell_type": "code",
   "execution_count": 3,
   "id": "f9ba2793",
   "metadata": {
    "pycharm": {
     "name": "#%%\n"
    }
   },
   "outputs": [],
   "source": [
    "#pip install -U scikit-learn"
   ]
  },
  {
   "cell_type": "code",
   "execution_count": 4,
   "id": "4e6ab618",
   "metadata": {
    "pycharm": {
     "name": "#%%\n"
    }
   },
   "outputs": [],
   "source": [
    "df = pd.read_csv('union_all_diabetes_final.csv')"
   ]
  },
  {
   "cell_type": "code",
   "execution_count": 5,
   "id": "71021d0c",
   "metadata": {
    "pycharm": {
     "name": "#%%\n"
    }
   },
   "outputs": [
    {
     "data": {
      "text/html": [
       "<div>\n",
       "<style scoped>\n",
       "    .dataframe tbody tr th:only-of-type {\n",
       "        vertical-align: middle;\n",
       "    }\n",
       "\n",
       "    .dataframe tbody tr th {\n",
       "        vertical-align: top;\n",
       "    }\n",
       "\n",
       "    .dataframe thead th {\n",
       "        text-align: right;\n",
       "    }\n",
       "</style>\n",
       "<table border=\"1\" class=\"dataframe\">\n",
       "  <thead>\n",
       "    <tr style=\"text-align: right;\">\n",
       "      <th></th>\n",
       "      <th>SEQN</th>\n",
       "      <th>have_diabetes</th>\n",
       "      <th>age_get_diabetes</th>\n",
       "      <th>have_prediabetes</th>\n",
       "      <th>have_risk</th>\n",
       "      <th>feel_risk</th>\n",
       "      <th>family_history</th>\n",
       "      <th>overweight</th>\n",
       "      <th>poor_diet</th>\n",
       "      <th>baby_weighed_over9</th>\n",
       "      <th>lack_physical_activity</th>\n",
       "      <th>high_blood_pressure</th>\n",
       "      <th>high_blood_sugar</th>\n",
       "      <th>high_cholesterol</th>\n",
       "      <th>hypoglycemic</th>\n",
       "    </tr>\n",
       "  </thead>\n",
       "  <tbody>\n",
       "    <tr>\n",
       "      <th>24581</th>\n",
       "      <td>79925.0</td>\n",
       "      <td>2.0</td>\n",
       "      <td>NaN</td>\n",
       "      <td>1</td>\n",
       "      <td>0</td>\n",
       "      <td>1.0</td>\n",
       "      <td>1</td>\n",
       "      <td>1</td>\n",
       "      <td>0</td>\n",
       "      <td>0</td>\n",
       "      <td>0</td>\n",
       "      <td>0</td>\n",
       "      <td>0</td>\n",
       "      <td>0</td>\n",
       "      <td>0</td>\n",
       "    </tr>\n",
       "    <tr>\n",
       "      <th>37120</th>\n",
       "      <td>82800.0</td>\n",
       "      <td>2.0</td>\n",
       "      <td>NaN</td>\n",
       "      <td>0</td>\n",
       "      <td>1</td>\n",
       "      <td>2.0</td>\n",
       "      <td>0</td>\n",
       "      <td>0</td>\n",
       "      <td>0</td>\n",
       "      <td>0</td>\n",
       "      <td>0</td>\n",
       "      <td>0</td>\n",
       "      <td>0</td>\n",
       "      <td>0</td>\n",
       "      <td>0</td>\n",
       "    </tr>\n",
       "    <tr>\n",
       "      <th>36454</th>\n",
       "      <td>82098.0</td>\n",
       "      <td>1.0</td>\n",
       "      <td>42.0</td>\n",
       "      <td>2</td>\n",
       "      <td>0</td>\n",
       "      <td>NaN</td>\n",
       "      <td>0</td>\n",
       "      <td>0</td>\n",
       "      <td>0</td>\n",
       "      <td>0</td>\n",
       "      <td>0</td>\n",
       "      <td>0</td>\n",
       "      <td>0</td>\n",
       "      <td>0</td>\n",
       "      <td>0</td>\n",
       "    </tr>\n",
       "    <tr>\n",
       "      <th>15250</th>\n",
       "      <td>90356.0</td>\n",
       "      <td>2.0</td>\n",
       "      <td>NaN</td>\n",
       "      <td>0</td>\n",
       "      <td>1</td>\n",
       "      <td>2.0</td>\n",
       "      <td>0</td>\n",
       "      <td>0</td>\n",
       "      <td>0</td>\n",
       "      <td>0</td>\n",
       "      <td>0</td>\n",
       "      <td>0</td>\n",
       "      <td>0</td>\n",
       "      <td>0</td>\n",
       "      <td>0</td>\n",
       "    </tr>\n",
       "    <tr>\n",
       "      <th>28253</th>\n",
       "      <td>73570.0</td>\n",
       "      <td>2.0</td>\n",
       "      <td>NaN</td>\n",
       "      <td>2</td>\n",
       "      <td>0</td>\n",
       "      <td>NaN</td>\n",
       "      <td>0</td>\n",
       "      <td>0</td>\n",
       "      <td>0</td>\n",
       "      <td>0</td>\n",
       "      <td>0</td>\n",
       "      <td>0</td>\n",
       "      <td>0</td>\n",
       "      <td>0</td>\n",
       "      <td>0</td>\n",
       "    </tr>\n",
       "  </tbody>\n",
       "</table>\n",
       "</div>"
      ],
      "text/plain": [
       "          SEQN  have_diabetes  age_get_diabetes  have_prediabetes  have_risk  \\\n",
       "24581  79925.0            2.0               NaN                 1          0   \n",
       "37120  82800.0            2.0               NaN                 0          1   \n",
       "36454  82098.0            1.0              42.0                 2          0   \n",
       "15250  90356.0            2.0               NaN                 0          1   \n",
       "28253  73570.0            2.0               NaN                 2          0   \n",
       "\n",
       "       feel_risk  family_history  overweight  poor_diet  baby_weighed_over9  \\\n",
       "24581        1.0               1           1          0                   0   \n",
       "37120        2.0               0           0          0                   0   \n",
       "36454        NaN               0           0          0                   0   \n",
       "15250        2.0               0           0          0                   0   \n",
       "28253        NaN               0           0          0                   0   \n",
       "\n",
       "       lack_physical_activity  high_blood_pressure  high_blood_sugar  \\\n",
       "24581                       0                    0                 0   \n",
       "37120                       0                    0                 0   \n",
       "36454                       0                    0                 0   \n",
       "15250                       0                    0                 0   \n",
       "28253                       0                    0                 0   \n",
       "\n",
       "       high_cholesterol  hypoglycemic  \n",
       "24581                 0             0  \n",
       "37120                 0             0  \n",
       "36454                 0             0  \n",
       "15250                 0             0  \n",
       "28253                 0             0  "
      ]
     },
     "execution_count": 5,
     "metadata": {},
     "output_type": "execute_result"
    }
   ],
   "source": [
    "df.sample(5)"
   ]
  },
  {
   "cell_type": "code",
   "execution_count": 6,
   "id": "51cf406b",
   "metadata": {
    "pycharm": {
     "name": "#%%\n"
    }
   },
   "outputs": [
    {
     "name": "stdout",
     "output_type": "stream",
     "text": [
      "<class 'pandas.core.frame.DataFrame'>\n",
      "RangeIndex: 38012 entries, 0 to 38011\n",
      "Data columns (total 15 columns):\n",
      " #   Column                  Non-Null Count  Dtype  \n",
      "---  ------                  --------------  -----  \n",
      " 0   SEQN                    38012 non-null  float64\n",
      " 1   have_diabetes           38010 non-null  float64\n",
      " 2   age_get_diabetes        3219 non-null   float64\n",
      " 3   have_prediabetes        38012 non-null  int64  \n",
      " 4   have_risk               38012 non-null  int64  \n",
      " 5   feel_risk               25000 non-null  float64\n",
      " 6   family_history          38012 non-null  int64  \n",
      " 7   overweight              38012 non-null  int64  \n",
      " 8   poor_diet               38012 non-null  int64  \n",
      " 9   baby_weighed_over9      38012 non-null  int64  \n",
      " 10  lack_physical_activity  38012 non-null  int64  \n",
      " 11  high_blood_pressure     38012 non-null  int64  \n",
      " 12  high_blood_sugar        38012 non-null  int64  \n",
      " 13  high_cholesterol        38012 non-null  int64  \n",
      " 14  hypoglycemic            38012 non-null  int64  \n",
      "dtypes: float64(4), int64(11)\n",
      "memory usage: 4.4 MB\n"
     ]
    }
   ],
   "source": [
    "df.info()"
   ]
  },
  {
   "cell_type": "code",
   "execution_count": 7,
   "id": "dd224ec7",
   "metadata": {
    "pycharm": {
     "name": "#%%\n"
    }
   },
   "outputs": [
    {
     "name": "stdout",
     "output_type": "stream",
     "text": [
      "0    34419\n",
      "1     3593\n",
      "Name: have_risk, dtype: int64\n"
     ]
    }
   ],
   "source": [
    "print(df['have_risk'].value_counts())"
   ]
  },
  {
   "cell_type": "code",
   "execution_count": 8,
   "id": "946753ab",
   "metadata": {
    "pycharm": {
     "name": "#%%\n"
    }
   },
   "outputs": [
    {
     "data": {
      "image/png": "[encoded data removed]",
      "text/plain": [
       "<Figure size 432x288 with 1 Axes>"
      ]
     },
     "metadata": {
      "needs_background": "light"
     },
     "output_type": "display_data"
    }
   ],
   "source": [
    "p=df.have_risk.value_counts().plot(kind=\"bar\")\n",
    "plt.show()"
   ]
  },
  {
   "cell_type": "code",
   "execution_count": 9,
   "id": "cdc7e2c1",
   "metadata": {
    "pycharm": {
     "name": "#%%\n"
    }
   },
   "outputs": [],
   "source": [
    "feature_lst = ['have_prediabetes', 'family_history', 'overweight', 'poor_diet', 'baby_weighed_over9', 'lack_physical_activity', 'high_blood_pressure', 'high_blood_sugar', 'high_cholesterol', 'hypoglycemic']"
   ]
  },
  {
   "cell_type": "code",
   "execution_count": 10,
   "id": "ee1254b0",
   "metadata": {
    "pycharm": {
     "name": "#%%\n"
    }
   },
   "outputs": [],
   "source": [
    "diabetes_data_copy = df.copy()"
   ]
  },
  {
   "cell_type": "code",
   "execution_count": 11,
   "id": "76d8764c",
   "metadata": {
    "pycharm": {
     "name": "#%%\n"
    }
   },
   "outputs": [
    {
     "data": {
      "image/png": "[encoded data removed]",
      "text/plain": [
       "<Figure size 1800x720 with 3 Axes>"
      ]
     },
     "metadata": {
      "needs_background": "light"
     },
     "output_type": "display_data"
    }
   ],
   "source": [
    "diabetes_data_copy[feature_lst] = diabetes_data_copy[feature_lst].replace(0,np.nan)\n",
    "\n",
    "p=msno.bar(diabetes_data_copy[feature_lst])\n",
    "plt.show()"
   ]
  },
  {
   "cell_type": "code",
   "execution_count": 110,
   "id": "d5a36f4a",
   "metadata": {
    "pycharm": {
     "name": "#%%\n"
    }
   },
   "outputs": [],
   "source": [
    "from sklearn.model_selection import train_test_split\n",
    "df = df.sample(frac=1,random_state=1).reset_index(drop=True)\n",
    "train, test = train_test_split(df, test_size=0.2)"
   ]
  },
  {
   "cell_type": "code",
   "execution_count": 251,
   "id": "fc06f28a",
   "metadata": {
    "pycharm": {
     "name": "#%%\n"
    }
   },
   "outputs": [
    {
     "data": {
      "text/plain": [
       "0    27571\n",
       "1     2838\n",
       "Name: have_risk, dtype: int64"
      ]
     },
     "execution_count": 251,
     "metadata": {},
     "output_type": "execute_result"
    }
   ],
   "source": [
    "train['have_risk'].value_counts()"
   ]
  },
  {
   "cell_type": "code",
   "execution_count": 111,
   "id": "f5cf61ca",
   "metadata": {
    "pycharm": {
     "name": "#%%\n"
    }
   },
   "outputs": [],
   "source": [
    "# split 0 and 1 rows\n",
    "train_1 = train[train['have_risk']==1]\n",
    "train_0 = train[train['have_risk']==0]"
   ]
  },
  {
   "cell_type": "code",
   "execution_count": 112,
   "id": "84750ced",
   "metadata": {
    "scrolled": true,
    "pycharm": {
     "name": "#%%\n"
    }
   },
   "outputs": [
    {
     "data": {
      "text/plain": [
       "1    2838\n",
       "Name: have_risk, dtype: int64"
      ]
     },
     "execution_count": 112,
     "metadata": {},
     "output_type": "execute_result"
    }
   ],
   "source": [
    "train_1['have_risk'].value_counts()"
   ]
  },
  {
   "cell_type": "code",
   "execution_count": 113,
   "id": "b4461944",
   "metadata": {
    "pycharm": {
     "name": "#%%\n"
    }
   },
   "outputs": [],
   "source": [
    "# rebalanced df for 'Top-up Month'=1\n",
    "reba_train_0 = train_0.sample(frac=0.106,random_state=1)"
   ]
  },
  {
   "cell_type": "code",
   "execution_count": 114,
   "id": "bd8bf745",
   "metadata": {
    "pycharm": {
     "name": "#%%\n"
    }
   },
   "outputs": [
    {
     "data": {
      "text/plain": [
       "0    2923\n",
       "Name: have_risk, dtype: int64"
      ]
     },
     "execution_count": 114,
     "metadata": {},
     "output_type": "execute_result"
    }
   ],
   "source": [
    "reba_train_0['have_risk'].value_counts()"
   ]
  },
  {
   "cell_type": "code",
   "execution_count": 115,
   "id": "e05d87b6",
   "metadata": {
    "pycharm": {
     "name": "#%%\n"
    }
   },
   "outputs": [],
   "source": [
    "# union the rebalanced training data\n",
    "reba_train = pd.concat([train_1,reba_train_0])"
   ]
  },
  {
   "cell_type": "code",
   "execution_count": 116,
   "id": "4f42cbc4",
   "metadata": {
    "pycharm": {
     "name": "#%%\n"
    }
   },
   "outputs": [
    {
     "data": {
      "text/plain": [
       "0    2923\n",
       "1    2838\n",
       "Name: have_risk, dtype: int64"
      ]
     },
     "execution_count": 116,
     "metadata": {},
     "output_type": "execute_result"
    }
   ],
   "source": [
    "reba_train['have_risk'].value_counts()"
   ]
  },
  {
   "cell_type": "code",
   "execution_count": 339,
   "id": "2e12e01a",
   "metadata": {
    "pycharm": {
     "name": "#%%\n"
    }
   },
   "outputs": [],
   "source": [
    "train_rep = train.sample(frac=10,random_state=7,replace=True)"
   ]
  },
  {
   "cell_type": "code",
   "execution_count": 340,
   "id": "dd9a236f",
   "metadata": {
    "pycharm": {
     "name": "#%%\n"
    }
   },
   "outputs": [
    {
     "data": {
      "text/plain": [
       "0    275720\n",
       "1     28370\n",
       "Name: have_risk, dtype: int64"
      ]
     },
     "execution_count": 340,
     "metadata": {},
     "output_type": "execute_result"
    }
   ],
   "source": [
    "train_rep['have_risk'].value_counts()"
   ]
  },
  {
   "cell_type": "code",
   "execution_count": 341,
   "id": "47bb0a5a",
   "metadata": {
    "pycharm": {
     "name": "#%%\n"
    }
   },
   "outputs": [
    {
     "name": "stderr",
     "output_type": "stream",
     "text": [
      "C:\\Users\\DELL\\AppData\\Local\\Temp\\ipykernel_7352\\3799270431.py:2: UserWarning: Boolean Series key will be reindexed to match DataFrame index.\n",
      "  train_1_rep = train_rep[train['have_risk']==1]\n",
      "C:\\Users\\DELL\\AppData\\Local\\Temp\\ipykernel_7352\\3799270431.py:3: UserWarning: Boolean Series key will be reindexed to match DataFrame index.\n",
      "  train_0_rep = train_rep[train['have_risk']==0]\n"
     ]
    }
   ],
   "source": [
    "# split 0 and 1 rows\n",
    "train_1_rep = train_rep[train['have_risk']==1]\n",
    "train_0_rep = train_rep[train['have_risk']==0]"
   ]
  },
  {
   "cell_type": "code",
   "execution_count": 342,
   "id": "b67da669",
   "metadata": {
    "pycharm": {
     "name": "#%%\n"
    }
   },
   "outputs": [],
   "source": [
    "# rebalanced df for 'Top-up Month'=1\n",
    "reba_train_0_rep = train_0_rep.sample(frac=0.1,random_state=7)"
   ]
  },
  {
   "cell_type": "code",
   "execution_count": 343,
   "id": "026c3f94",
   "metadata": {
    "pycharm": {
     "name": "#%%\n"
    }
   },
   "outputs": [
    {
     "data": {
      "text/plain": [
       "0    27572\n",
       "Name: have_risk, dtype: int64"
      ]
     },
     "execution_count": 343,
     "metadata": {},
     "output_type": "execute_result"
    }
   ],
   "source": [
    "reba_train_0_rep['have_risk'].value_counts()"
   ]
  },
  {
   "cell_type": "code",
   "execution_count": 344,
   "id": "2ad8fc19",
   "metadata": {
    "pycharm": {
     "name": "#%%\n"
    }
   },
   "outputs": [],
   "source": [
    "# union the rebalanced training data\n",
    "reba_train_rep = pd.concat([train_1_rep,reba_train_0_rep])"
   ]
  },
  {
   "cell_type": "code",
   "execution_count": 345,
   "id": "6d976055",
   "metadata": {
    "pycharm": {
     "name": "#%%\n"
    }
   },
   "outputs": [
    {
     "data": {
      "text/plain": [
       "1    28370\n",
       "0    27572\n",
       "Name: have_risk, dtype: int64"
      ]
     },
     "execution_count": 345,
     "metadata": {},
     "output_type": "execute_result"
    }
   ],
   "source": [
    "reba_train_rep['have_risk'].value_counts()"
   ]
  },
  {
   "cell_type": "code",
   "execution_count": 336,
   "id": "ac57d747",
   "metadata": {
    "pycharm": {
     "name": "#%%\n"
    }
   },
   "outputs": [],
   "source": [
    "reba_train_copy = reba_train.copy()"
   ]
  },
  {
   "cell_type": "code",
   "execution_count": 118,
   "id": "4522ce47",
   "metadata": {
    "pycharm": {
     "name": "#%%\n"
    }
   },
   "outputs": [],
   "source": [
    "train_1_copy = train_1.copy()"
   ]
  },
  {
   "cell_type": "code",
   "execution_count": 119,
   "id": "ff5d396d",
   "metadata": {
    "pycharm": {
     "name": "#%%\n"
    }
   },
   "outputs": [],
   "source": [
    "train_0_copy = train_0.copy()"
   ]
  },
  {
   "cell_type": "code",
   "execution_count": 120,
   "id": "c52fc80e",
   "metadata": {
    "pycharm": {
     "name": "#%%\n"
    }
   },
   "outputs": [
    {
     "data": {
      "image/png": "[encoded data removed]",
      "text/plain": [
       "<Figure size 1800x720 with 3 Axes>"
      ]
     },
     "metadata": {
      "needs_background": "light"
     },
     "output_type": "display_data"
    }
   ],
   "source": [
    "reba_train_copy[feature_lst] = reba_train_copy[feature_lst].replace(0,np.nan)\n",
    "\n",
    "p=msno.bar(reba_train_copy[feature_lst])\n",
    "plt.show()"
   ]
  },
  {
   "cell_type": "code",
   "execution_count": 121,
   "id": "1311e994",
   "metadata": {
    "pycharm": {
     "name": "#%%\n"
    }
   },
   "outputs": [
    {
     "data": {
      "image/png": "[encoded data removed]",
      "text/plain": [
       "<Figure size 1800x720 with 3 Axes>"
      ]
     },
     "metadata": {
      "needs_background": "light"
     },
     "output_type": "display_data"
    }
   ],
   "source": [
    "train_1_copy[feature_lst] = train_1_copy[feature_lst].replace(0,np.nan)\n",
    "\n",
    "p=msno.bar(train_1_copy[feature_lst])\n",
    "plt.show()"
   ]
  },
  {
   "cell_type": "code",
   "execution_count": 122,
   "id": "dabb60b8",
   "metadata": {
    "pycharm": {
     "name": "#%%\n"
    }
   },
   "outputs": [
    {
     "data": {
      "image/png": "[encoded data removed]",
      "text/plain": [
       "<Figure size 1800x720 with 3 Axes>"
      ]
     },
     "metadata": {
      "needs_background": "light"
     },
     "output_type": "display_data"
    }
   ],
   "source": [
    "train_0_copy[feature_lst] = train_0_copy[feature_lst].replace(0,np.nan)\n",
    "\n",
    "p=msno.bar(train_0_copy[feature_lst])\n",
    "plt.show()"
   ]
  },
  {
   "cell_type": "code",
   "execution_count": 177,
   "id": "e658f6b5",
   "metadata": {
    "pycharm": {
     "name": "#%%\n"
    }
   },
   "outputs": [],
   "source": [
    "# # one-hot\n",
    "# from numpy import array\n",
    "# from numpy import argmax\n",
    "# from sklearn.preprocessing import LabelEncoder\n",
    "# from sklearn.preprocessing import OneHotEncoder\n",
    "# # define example\n",
    "# data = ['cold', 'cold', 'warm', 'cold', 'hot', 'hot', 'warm', 'cold', 'warm', 'hot']\n",
    "# values = array(data)\n",
    "# print(values)\n",
    "# # integer encode\n",
    "# label_encoder = LabelEncoder()\n",
    "# integer_encoded = label_encoder.fit_transform(values)\n",
    "# print(integer_encoded)\n",
    "# # binary encode\n",
    "# onehot_encoder = OneHotEncoder(sparse=False)\n",
    "# integer_encoded = integer_encoded.reshape(len(integer_encoded), 1)\n",
    "# onehot_encoded = onehot_encoder.fit_transform(integer_encoded)\n",
    "# print(onehot_encoded)\n",
    "# # invert first example\n",
    "# inverted = label_encoder.inverse_transform([argmax(onehot_encoded[0, :])])\n",
    "# print(inverted)"
   ]
  },
  {
   "cell_type": "code",
   "execution_count": 198,
   "id": "b1daae85",
   "metadata": {
    "pycharm": {
     "name": "#%%\n"
    }
   },
   "outputs": [],
   "source": [
    "x_train = reba_train[feature_lst]\n",
    "\n",
    "y_train = reba_train['have_risk']\n",
    "\n",
    "x_test = test[feature_lst]"
   ]
  },
  {
   "cell_type": "code",
   "execution_count": 199,
   "id": "4214490a",
   "metadata": {
    "pycharm": {
     "name": "#%%\n"
    }
   },
   "outputs": [
    {
     "name": "stdout",
     "output_type": "stream",
     "text": [
      "<class 'pandas.core.frame.DataFrame'>\n",
      "Int64Index: 5761 entries, 34373 to 25723\n",
      "Data columns (total 10 columns):\n",
      " #   Column                  Non-Null Count  Dtype\n",
      "---  ------                  --------------  -----\n",
      " 0   have_prediabetes        5761 non-null   int64\n",
      " 1   family_history          5761 non-null   int64\n",
      " 2   overweight              5761 non-null   int64\n",
      " 3   poor_diet               5761 non-null   int64\n",
      " 4   baby_weighed_over9      5761 non-null   int64\n",
      " 5   lack_physical_activity  5761 non-null   int64\n",
      " 6   high_blood_pressure     5761 non-null   int64\n",
      " 7   high_blood_sugar        5761 non-null   int64\n",
      " 8   high_cholesterol        5761 non-null   int64\n",
      " 9   hypoglycemic            5761 non-null   int64\n",
      "dtypes: int64(10)\n",
      "memory usage: 495.1 KB\n"
     ]
    }
   ],
   "source": [
    "x_train.info()"
   ]
  },
  {
   "cell_type": "code",
   "execution_count": 200,
   "id": "fd317bb6",
   "metadata": {
    "id": "vElW5EXejfT3",
    "pycharm": {
     "name": "#%%\n"
    }
   },
   "outputs": [
    {
     "name": "stdout",
     "output_type": "stream",
     "text": [
      "Accuracy: 80.23\n"
     ]
    }
   ],
   "source": [
    "X = x_train.copy()\n",
    "y = y_train.copy()\n",
    "\n",
    "# split X and y into training and testing sets\n",
    "X_train,X_test,y_train,y_test=train_test_split(X,y,test_size=0.20,random_state=0)\n",
    "\n",
    "# instantiate the model (using the default parameters)\n",
    "logreg = LogisticRegression()\n",
    "\n",
    "# fit the model with data\n",
    "model = logreg.fit(X_train,y_train)\n",
    "\n",
    "#\n",
    "y_pred=logreg.predict(X_test)\n",
    "\n",
    "accuracy = accuracy_score(y_test, y_pred)\n",
    "print('Accuracy: %.2f' % (accuracy*100))"
   ]
  },
  {
   "cell_type": "code",
   "execution_count": 201,
   "id": "978e16c8",
   "metadata": {
    "pycharm": {
     "name": "#%%\n"
    }
   },
   "outputs": [
    {
     "data": {
      "text/plain": [
       "array([0, 1, 1, ..., 0, 1, 1], dtype=int64)"
      ]
     },
     "execution_count": 201,
     "metadata": {},
     "output_type": "execute_result"
    }
   ],
   "source": [
    "y_pred"
   ]
  },
  {
   "cell_type": "code",
   "execution_count": 202,
   "id": "95799e49",
   "metadata": {
    "pycharm": {
     "name": "#%%\n"
    }
   },
   "outputs": [
    {
     "data": {
      "text/plain": [
       "array([[548,  38],\n",
       "       [190, 377]], dtype=int64)"
      ]
     },
     "execution_count": 202,
     "metadata": {},
     "output_type": "execute_result"
    }
   ],
   "source": [
    "cnf_matrix = metrics.confusion_matrix(y_test, y_pred)\n",
    "cnf_matrix"
   ]
  },
  {
   "cell_type": "code",
   "execution_count": 203,
   "id": "39a1fab4",
   "metadata": {
    "pycharm": {
     "name": "#%%\n"
    }
   },
   "outputs": [
    {
     "data": {
      "text/plain": [
       "array([0.78751084, 0.77777778, 0.77604167, 0.79513889, 0.79079861])"
      ]
     },
     "execution_count": 203,
     "metadata": {},
     "output_type": "execute_result"
    }
   ],
   "source": [
    "# Evaluation\n",
    "scores = cross_val_score(model, X, y, cv=5)\n",
    "scores"
   ]
  },
  {
   "cell_type": "code",
   "execution_count": 204,
   "id": "92b12f13",
   "metadata": {
    "pycharm": {
     "name": "#%%\n"
    }
   },
   "outputs": [
    {
     "data": {
      "text/plain": [
       "array([1, 1, 0, ..., 0, 0, 0], dtype=int64)"
      ]
     },
     "execution_count": 204,
     "metadata": {},
     "output_type": "execute_result"
    }
   ],
   "source": [
    "# Prediction\n",
    "model.predict(X) # should use test data"
   ]
  },
  {
   "cell_type": "code",
   "execution_count": 205,
   "id": "4778a4c7",
   "metadata": {
    "pycharm": {
     "name": "#%%\n"
    }
   },
   "outputs": [
    {
     "name": "stdout",
     "output_type": "stream",
     "text": [
      "Feature: 0, Score: -0.58842\n",
      "Feature: 1, Score: 2.62729\n",
      "Feature: 2, Score: 0.63199\n",
      "Feature: 3, Score: -0.08542\n",
      "Feature: 4, Score: 1.20075\n",
      "Feature: 5, Score: 0.61679\n",
      "Feature: 6, Score: 0.41359\n",
      "Feature: 7, Score: 0.93285\n",
      "Feature: 8, Score: 0.41958\n",
      "Feature: 9, Score: 0.76125\n"
     ]
    },
    {
     "data": {
      "image/png": "[encoded data removed]",
      "text/plain": [
       "<Figure size 1584x432 with 1 Axes>"
      ]
     },
     "metadata": {
      "needs_background": "light"
     },
     "output_type": "display_data"
    }
   ],
   "source": [
    "from sklearn.datasets import make_classification\n",
    "\n",
    "# get importance\n",
    "importance = model.coef_[0]\n",
    "# summarize feature importance\n",
    "for i,v in enumerate(importance):\n",
    "    print('Feature: %0d, Score: %.5f' % (i,v))\n",
    "# plot feature importance\n",
    "plt.figure(figsize=(22, 6))\n",
    "plt.bar(feature_lst, importance)\n",
    "plt.show()"
   ]
  },
  {
   "cell_type": "code",
   "execution_count": 206,
   "id": "c5e2d3c6",
   "metadata": {
    "pycharm": {
     "name": "#%%\n"
    }
   },
   "outputs": [],
   "source": [
    "half_selector = SelectFromModel(logreg,\n",
    "                                max_features=6)\n",
    "a = half_selector.fit(X, y)"
   ]
  },
  {
   "cell_type": "code",
   "execution_count": 207,
   "id": "1feaaa01",
   "metadata": {
    "pycharm": {
     "name": "#%%\n"
    }
   },
   "outputs": [
    {
     "data": {
      "text/plain": [
       "array([False,  True, False, False,  True, False, False,  True, False,\n",
       "       False])"
      ]
     },
     "execution_count": 207,
     "metadata": {},
     "output_type": "execute_result"
    }
   ],
   "source": [
    "feature_idx = a.get_support()\n",
    "feature_idx"
   ]
  },
  {
   "cell_type": "code",
   "execution_count": 189,
   "id": "eb0cc22a",
   "metadata": {
    "pycharm": {
     "name": "#%%\n"
    }
   },
   "outputs": [],
   "source": [
    "feature_lst_2 = ['have_prediabetes', 'family_history', 'overweight', 'lack_physical_activity', 'high_blood_sugar', 'high_cholesterol', 'hypoglycemic']"
   ]
  },
  {
   "cell_type": "code",
   "execution_count": 208,
   "id": "91a1e83c",
   "metadata": {
    "pycharm": {
     "name": "#%%\n"
    }
   },
   "outputs": [
    {
     "name": "stdout",
     "output_type": "stream",
     "text": [
      "Accuracy: 79.88\n"
     ]
    }
   ],
   "source": [
    "# evaluation of a model using 5 features chosen with random forest importance\n",
    "# from sklearn.feature_selection import SelectFromModel\n",
    "# from sklearn.linear_model import LogisticRegression\n",
    "# from sklearn.metrics import accuracy_score\n",
    "\n",
    "# feature selection\n",
    "def select_features(X_train, y_train, X_test):\n",
    "    # configure to select a subset of features\n",
    "    fs = SelectFromModel(estimator=LogisticRegression(),max_features=6)\n",
    "    # learn relationship from training data\n",
    "    fs.fit(X_train, y_train)\n",
    "    # transform train input data\n",
    "    X_train_fs = fs.transform(X_train)\n",
    "    # transform test input data\n",
    "    X_test_fs = fs.transform(X_test)\n",
    "    return X_train_fs, X_test_fs, fs\n",
    "\n",
    "# split X and y into training and testing sets\n",
    "# X_train,X_test,y_train,y_test=train_test_split(X,y,test_size=0.20,random_state=0)\n",
    "# feature selection\n",
    "X_train_fs, X_test_fs, fs = select_features(X_train, y_train, X_test)\n",
    "# instantiate the model (using the default parameters)\n",
    "logreg = LogisticRegression()\n",
    "# fit the model with data\n",
    "model_fs = logreg.fit(X_train_fs,y_train)\n",
    "\n",
    "# evaluate the model\n",
    "y_pred_fs=logreg.predict(X_test_fs)\n",
    "\n",
    "# evaluate predictions\n",
    "accuracy = accuracy_score(y_test, y_pred_fs)\n",
    "print('Accuracy: %.2f' % (accuracy*100))"
   ]
  },
  {
   "cell_type": "code",
   "execution_count": 209,
   "id": "e2844788",
   "metadata": {
    "pycharm": {
     "name": "#%%\n"
    }
   },
   "outputs": [
    {
     "data": {
      "text/plain": [
       "array([[551,  35],\n",
       "       [197, 370]], dtype=int64)"
      ]
     },
     "execution_count": 209,
     "metadata": {},
     "output_type": "execute_result"
    }
   ],
   "source": [
    "cnf_matrix = metrics.confusion_matrix(y_test, y_pred_fs)\n",
    "cnf_matrix"
   ]
  },
  {
   "cell_type": "code",
   "execution_count": 210,
   "id": "acc86f47",
   "metadata": {
    "pycharm": {
     "name": "#%%\n"
    }
   },
   "outputs": [
    {
     "data": {
      "text/plain": [
       "array([0.78751084, 0.77777778, 0.77604167, 0.79513889, 0.79079861])"
      ]
     },
     "execution_count": 210,
     "metadata": {},
     "output_type": "execute_result"
    }
   ],
   "source": [
    "# Evaluation\n",
    "scores = cross_val_score(model_fs, X, y, cv=5)\n",
    "scores"
   ]
  },
  {
   "cell_type": "markdown",
   "id": "8dcf8e74",
   "metadata": {
    "pycharm": {
     "name": "#%% md\n"
    }
   },
   "source": [
    "# Decision Tree"
   ]
  },
  {
   "cell_type": "code",
   "execution_count": 384,
   "id": "3650f0af",
   "metadata": {
    "pycharm": {
     "name": "#%%\n"
    }
   },
   "outputs": [],
   "source": [
    "def model_selection(random_state1,random_state2):\n",
    "    train_rep = train.sample(frac=10,random_state=random_state1,replace=True)\n",
    "    train_1_rep = train_rep[train['have_risk']==1]\n",
    "    train_0_rep = train_rep[train['have_risk']==0]\n",
    "    reba_train_0_rep = train_0_rep.sample(frac=0.1,random_state=random_state2)\n",
    "    reba_train_rep = pd.concat([train_1_rep,reba_train_0_rep])\n",
    "    \n",
    "    # model\n",
    "    x_train = reba_train_rep[feature_lst_final]\n",
    "    y_train = reba_train_rep['have_risk']\n",
    "    x_test = test[feature_lst_final]\n",
    "    \n",
    "    X = x_train.copy()\n",
    "    y = y_train.copy()\n",
    "\n",
    "    # split X and y into training and testing sets\n",
    "    X_train,X_test,y_train,y_test=train_test_split(X,y,test_size=0.20,random_state=0)\n",
    "\n",
    "    dt = DecisionTreeClassifier(criterion='gini',max_depth=7,class_weight=None)\n",
    "\n",
    "    # fit the model with data\n",
    "    model = dt.fit(X_train,y_train)\n",
    "\n",
    "    #\n",
    "    y_pred=dt.predict(X_test)\n",
    "\n",
    "    accuracy = accuracy_score(y_test, y_pred)\n",
    "\n",
    "    return [accuracy*100, metrics.roc_auc_score(y_test, y_pred)]"
   ]
  },
  {
   "cell_type": "code",
   "execution_count": null,
   "id": "1c628782",
   "metadata": {
    "pycharm": {
     "name": "#%%\n",
     "is_executing": true
    }
   },
   "outputs": [],
   "source": [
    "accur = 80\n",
    "num1 = 1\n",
    "num2 = 1\n",
    "for i in range(1,100):\n",
    "    for k in range(1,100):\n",
    "        acc = model_selection(i,k)[0]\n",
    "        if acc>=accur:\n",
    "            accur = acc\n",
    "            num1=i\n",
    "            num2=k\n",
    "accur,num1,num2"
   ]
  },
  {
   "cell_type": "code",
   "execution_count": 386,
   "id": "7228cbd6",
   "metadata": {
    "pycharm": {
     "name": "#%%\n"
    }
   },
   "outputs": [],
   "source": [
    "train_rep = train.sample(frac=10,random_state=9,replace=True)"
   ]
  },
  {
   "cell_type": "code",
   "execution_count": 387,
   "id": "f991d12d",
   "metadata": {
    "pycharm": {
     "name": "#%%\n"
    }
   },
   "outputs": [
    {
     "data": {
      "text/plain": [
       "0    275790\n",
       "1     28300\n",
       "Name: have_risk, dtype: int64"
      ]
     },
     "execution_count": 387,
     "metadata": {},
     "output_type": "execute_result"
    }
   ],
   "source": [
    "train_rep['have_risk'].value_counts()"
   ]
  },
  {
   "cell_type": "code",
   "execution_count": 388,
   "id": "92c9d523",
   "metadata": {
    "pycharm": {
     "name": "#%%\n"
    }
   },
   "outputs": [
    {
     "name": "stderr",
     "output_type": "stream",
     "text": [
      "C:\\Users\\DELL\\AppData\\Local\\Temp\\ipykernel_7352\\3799270431.py:2: UserWarning: Boolean Series key will be reindexed to match DataFrame index.\n",
      "  train_1_rep = train_rep[train['have_risk']==1]\n",
      "C:\\Users\\DELL\\AppData\\Local\\Temp\\ipykernel_7352\\3799270431.py:3: UserWarning: Boolean Series key will be reindexed to match DataFrame index.\n",
      "  train_0_rep = train_rep[train['have_risk']==0]\n"
     ]
    }
   ],
   "source": [
    "# split 0 and 1 rows\n",
    "train_1_rep = train_rep[train['have_risk']==1]\n",
    "train_0_rep = train_rep[train['have_risk']==0]"
   ]
  },
  {
   "cell_type": "code",
   "execution_count": 389,
   "id": "b66c2886",
   "metadata": {
    "pycharm": {
     "name": "#%%\n"
    }
   },
   "outputs": [],
   "source": [
    "# rebalanced df for 'Top-up Month'=1\n",
    "reba_train_0_rep = train_0_rep.sample(frac=0.1,random_state=83)"
   ]
  },
  {
   "cell_type": "code",
   "execution_count": 390,
   "id": "393406e4",
   "metadata": {
    "pycharm": {
     "name": "#%%\n"
    }
   },
   "outputs": [
    {
     "data": {
      "text/plain": [
       "0    27579\n",
       "Name: have_risk, dtype: int64"
      ]
     },
     "execution_count": 390,
     "metadata": {},
     "output_type": "execute_result"
    }
   ],
   "source": [
    "reba_train_0_rep['have_risk'].value_counts()"
   ]
  },
  {
   "cell_type": "code",
   "execution_count": 391,
   "id": "6bdc8549",
   "metadata": {
    "pycharm": {
     "name": "#%%\n"
    }
   },
   "outputs": [],
   "source": [
    "# union the rebalanced training data\n",
    "reba_train_rep = pd.concat([train_1_rep,reba_train_0_rep])"
   ]
  },
  {
   "cell_type": "code",
   "execution_count": 392,
   "id": "c74b15a0",
   "metadata": {
    "pycharm": {
     "name": "#%%\n"
    }
   },
   "outputs": [
    {
     "data": {
      "text/plain": [
       "1    28300\n",
       "0    27579\n",
       "Name: have_risk, dtype: int64"
      ]
     },
     "execution_count": 392,
     "metadata": {},
     "output_type": "execute_result"
    }
   ],
   "source": [
    "reba_train_rep['have_risk'].value_counts()"
   ]
  },
  {
   "cell_type": "code",
   "execution_count": 393,
   "id": "63ff5036",
   "metadata": {
    "pycharm": {
     "name": "#%%\n"
    }
   },
   "outputs": [],
   "source": [
    "x_train = reba_train_rep[feature_lst_final]\n",
    "\n",
    "y_train = reba_train_rep['have_risk']\n",
    "\n",
    "x_test = test[feature_lst_final]"
   ]
  },
  {
   "cell_type": "code",
   "execution_count": 394,
   "id": "641306f4",
   "metadata": {
    "pycharm": {
     "name": "#%%\n"
    }
   },
   "outputs": [
    {
     "name": "stdout",
     "output_type": "stream",
     "text": [
      "Accuracy: 81.02\n",
      "AUC: 0.81\n"
     ]
    }
   ],
   "source": [
    "X = x_train.copy()\n",
    "y = y_train.copy()\n",
    "\n",
    "# split X and y into training and testing sets\n",
    "X_train,X_test,y_train,y_test=train_test_split(X,y,test_size=0.20,random_state=0)\n",
    "\n",
    "dt = DecisionTreeClassifier(criterion='gini',max_depth=7,class_weight=None)\n",
    "\n",
    "# fit the model with data\n",
    "model = dt.fit(X_train,y_train)\n",
    "\n",
    "#\n",
    "y_pred=dt.predict(X_test)\n",
    "\n",
    "accuracy = accuracy_score(y_test, y_pred)\n",
    "print('Accuracy: %.2f' % (accuracy*100))\n",
    "\n",
    "print('AUC: %.2F' % (metrics.roc_auc_score(y_test, y_pred)))"
   ]
  },
  {
   "cell_type": "code",
   "execution_count": 395,
   "id": "5a1b961f",
   "metadata": {
    "pycharm": {
     "name": "#%%\n"
    }
   },
   "outputs": [
    {
     "data": {
      "text/plain": [
       "array([0.79438082, 0.80055476, 0.79491768, 0.80511811, 0.79472036])"
      ]
     },
     "execution_count": 395,
     "metadata": {},
     "output_type": "execute_result"
    }
   ],
   "source": [
    "# Evaluation\n",
    "scores = cross_val_score(model, X, y, cv=5)\n",
    "scores"
   ]
  },
  {
   "cell_type": "code",
   "execution_count": 396,
   "id": "947688d8",
   "metadata": {
    "pycharm": {
     "name": "#%%\n"
    }
   },
   "outputs": [
    {
     "name": "stdout",
     "output_type": "stream",
     "text": [
      "              precision    recall  f1-score   support\n",
      "\n",
      "           0       0.76      0.90      0.83      5555\n",
      "           1       0.88      0.72      0.79      5621\n",
      "\n",
      "    accuracy                           0.81     11176\n",
      "   macro avg       0.82      0.81      0.81     11176\n",
      "weighted avg       0.82      0.81      0.81     11176\n",
      "\n"
     ]
    }
   ],
   "source": [
    "import sklearn.metrics as matrics\n",
    "print(metrics.classification_report(y_test,y_pred))"
   ]
  },
  {
   "cell_type": "code",
   "execution_count": 397,
   "id": "6e3530fd",
   "metadata": {
    "pycharm": {
     "name": "#%%\n"
    }
   },
   "outputs": [
    {
     "data": {
      "text/plain": [
       "[('family_history', 0.7732541367567839),\n",
       " ('have_prediabetes', 0.18725459701142),\n",
       " ('overweight', 0.015371550321633141),\n",
       " ('high_blood_sugar', 0.012230429031890824),\n",
       " ('poor_diet', 0.009029396789915827),\n",
       " ('lack_physical_activity', 0.0028598900883563035)]"
      ]
     },
     "execution_count": 397,
     "metadata": {},
     "output_type": "execute_result"
    }
   ],
   "source": [
    "sorted(list(zip(X.columns,dt.feature_importances_)),key=lambda x:x[1],reverse=True)"
   ]
  },
  {
   "cell_type": "code",
   "execution_count": 216,
   "id": "dbeefaad",
   "metadata": {
    "pycharm": {
     "name": "#%%\n"
    }
   },
   "outputs": [],
   "source": [
    "feature_lst_final = ['have_prediabetes', 'family_history', 'overweight', 'poor_diet', 'lack_physical_activity', 'high_blood_sugar']"
   ]
  },
  {
   "cell_type": "code",
   "execution_count": 360,
   "id": "ee833f01",
   "metadata": {
    "pycharm": {
     "name": "#%%\n"
    }
   },
   "outputs": [],
   "source": [
    "x_train = reba_train[feature_lst_final]\n",
    "\n",
    "y_train = reba_train['have_risk']\n",
    "\n",
    "x_test = test[feature_lst_final]"
   ]
  },
  {
   "cell_type": "code",
   "execution_count": 319,
   "id": "31af38a2",
   "metadata": {
    "pycharm": {
     "name": "#%%\n"
    }
   },
   "outputs": [
    {
     "name": "stdout",
     "output_type": "stream",
     "text": [
      "Accuracy: 81.87\n",
      "AUC: 0.82\n"
     ]
    }
   ],
   "source": [
    "X = x_train.copy()\n",
    "y = y_train.copy()\n",
    "\n",
    "# split X and y into training and testing sets\n",
    "X_train,X_test,y_train,y_test=train_test_split(X,y,test_size=0.20,random_state=0)\n",
    "\n",
    "dt = DecisionTreeClassifier(criterion='gini',max_depth=4,class_weight=None, random_state=123)\n",
    "\n",
    "# fit the model with data\n",
    "model = dt.fit(X_train,y_train)\n",
    "\n",
    "#\n",
    "y_pred=dt.predict(X_test)\n",
    "\n",
    "accuracy = accuracy_score(y_test, y_pred)\n",
    "print('Accuracy: %.2f' % (accuracy*100))\n",
    "\n",
    "print('AUC: %.2F' % (metrics.roc_auc_score(y_test, y_pred)))"
   ]
  },
  {
   "cell_type": "code",
   "execution_count": 320,
   "id": "f9daea3a",
   "metadata": {
    "pycharm": {
     "name": "#%%\n"
    }
   },
   "outputs": [
    {
     "data": {
      "text/plain": [
       "array([0.80398959, 0.79600694, 0.79253472, 0.80729167, 0.80295139])"
      ]
     },
     "execution_count": 320,
     "metadata": {},
     "output_type": "execute_result"
    }
   ],
   "source": [
    "# Evaluation\n",
    "scores = cross_val_score(model, X, y, cv=5)\n",
    "scores"
   ]
  },
  {
   "cell_type": "code",
   "execution_count": 321,
   "id": "83f83a8c",
   "metadata": {
    "pycharm": {
     "name": "#%%\n"
    }
   },
   "outputs": [
    {
     "name": "stdout",
     "output_type": "stream",
     "text": [
      "              precision    recall  f1-score   support\n",
      "\n",
      "           0       0.77      0.92      0.84       586\n",
      "           1       0.90      0.71      0.79       567\n",
      "\n",
      "    accuracy                           0.82      1153\n",
      "   macro avg       0.83      0.82      0.82      1153\n",
      "weighted avg       0.83      0.82      0.82      1153\n",
      "\n"
     ]
    }
   ],
   "source": [
    "print(metrics.classification_report(y_test,y_pred))"
   ]
  },
  {
   "cell_type": "code",
   "execution_count": 248,
   "id": "5c407037",
   "metadata": {
    "pycharm": {
     "name": "#%%\n"
    }
   },
   "outputs": [
    {
     "data": {
      "text/plain": [
       "[('family_history', 0.7972972442865651),\n",
       " ('have_prediabetes', 0.1692615007065244),\n",
       " ('overweight', 0.018342830660475387),\n",
       " ('high_blood_sugar', 0.00987938551193591),\n",
       " ('poor_diet', 0.0028057307764895404),\n",
       " ('lack_physical_activity', 0.0024133080580095684)]"
      ]
     },
     "execution_count": 248,
     "metadata": {},
     "output_type": "execute_result"
    }
   ],
   "source": [
    "sorted(list(zip(X.columns,dt.feature_importances_)),key=lambda x:x[1],reverse=True)"
   ]
  },
  {
   "cell_type": "code",
   "execution_count": 249,
   "id": "783a312f",
   "metadata": {
    "pycharm": {
     "name": "#%%\n"
    }
   },
   "outputs": [
    {
     "data": {
      "text/plain": [
       "array([0, 1, 1, ..., 0, 1, 1], dtype=int64)"
      ]
     },
     "execution_count": 249,
     "metadata": {},
     "output_type": "execute_result"
    }
   ],
   "source": [
    "y_pred"
   ]
  },
  {
   "cell_type": "code",
   "execution_count": 250,
   "id": "0c5b6403",
   "metadata": {
    "pycharm": {
     "name": "#%%\n"
    }
   },
   "outputs": [
    {
     "data": {
      "text/plain": [
       "array([[0.65178067, 0.34821933],\n",
       "       [0.16113744, 0.83886256],\n",
       "       [0.01075269, 0.98924731],\n",
       "       ...,\n",
       "       [0.65178067, 0.34821933],\n",
       "       [0.16113744, 0.83886256],\n",
       "       [0.12230216, 0.87769784]])"
      ]
     },
     "execution_count": 250,
     "metadata": {},
     "output_type": "execute_result"
    }
   ],
   "source": [
    "content=dt.predict_proba(X_test)\n",
    "content #[0,1]"
   ]
  },
  {
   "cell_type": "code",
   "execution_count": 58,
   "id": "f6d66265",
   "metadata": {
    "pycharm": {
     "name": "#%%\n"
    }
   },
   "outputs": [],
   "source": [
    "from sklearn.model_selection import ParameterGrid, GridSearchCV"
   ]
  },
  {
   "cell_type": "code",
   "execution_count": 59,
   "id": "82c1ff58",
   "metadata": {
    "pycharm": {
     "name": "#%%\n"
    }
   },
   "outputs": [],
   "source": [
    "# max_depth = [None,]\n",
    "# max_leaf_nodes = np.arange(3,8,1)\n",
    "# class_weight = [{0:1,1:2},{0:1,1:3}]\n",
    "\n",
    "# param_grid = {'max_depth': max_depth,\n",
    "#               'max_leaf_nodes': max_leaf_nodes,\n",
    "#               'class_weight': class_weight}\n",
    "\n",
    "# dt_cv = GridSearchCV(estimator=dt,param_grid=param_grid,cv=5,scoring='roc_auc')\n",
    "# dt_cv.fit(X_train,y_train)"
   ]
  },
  {
   "cell_type": "code",
   "execution_count": 398,
   "id": "1763eb58",
   "metadata": {
    "pycharm": {
     "name": "#%%\n"
    }
   },
   "outputs": [
    {
     "name": "stdout",
     "output_type": "stream",
     "text": [
      "最优分类器: {'criterion': 'gini', 'max_depth': 7} 最优分数: 0.7950024658293107\n"
     ]
    }
   ],
   "source": [
    "param = {'criterion':['gini'],'max_depth':[x for x in range(5,15,1)]}\n",
    "grid = GridSearchCV(DecisionTreeClassifier(),param_grid=param,cv=5)\n",
    "grid.fit(X_train,y_train)\n",
    "print('最优分类器:',grid.best_params_,'最优分数:', grid.best_score_)  # 得到最优的参数和分值\n"
   ]
  },
  {
   "cell_type": "code",
   "execution_count": 373,
   "id": "2e59fc94",
   "metadata": {
    "pycharm": {
     "name": "#%%\n"
    }
   },
   "outputs": [
    {
     "data": {
      "text/plain": [
       "[2, 4, 6, 8]"
      ]
     },
     "execution_count": 373,
     "metadata": {},
     "output_type": "execute_result"
    }
   ],
   "source": [
    "[x for x in range(2,10,2)]"
   ]
  },
  {
   "cell_type": "markdown",
   "id": "fe66a3f4",
   "metadata": {
    "pycharm": {
     "name": "#%% md\n"
    }
   },
   "source": [
    "# SVM"
   ]
  },
  {
   "cell_type": "code",
   "execution_count": 257,
   "id": "d97a8016",
   "metadata": {
    "pycharm": {
     "name": "#%%\n"
    }
   },
   "outputs": [],
   "source": [
    "x_train = reba_train[feature_lst_final]\n",
    "\n",
    "y_train = reba_train['have_risk']\n",
    "\n",
    "x_test = test[feature_lst_final]"
   ]
  },
  {
   "cell_type": "code",
   "execution_count": 258,
   "id": "48a4ae44",
   "metadata": {
    "pycharm": {
     "name": "#%%\n"
    }
   },
   "outputs": [
    {
     "name": "stdout",
     "output_type": "stream",
     "text": [
      "Accuracy: 79.44\n",
      "AUC: 0.79\n"
     ]
    }
   ],
   "source": [
    "X = x_train.copy()\n",
    "y = y_train.copy()\n",
    "\n",
    "from sklearn.model_selection import train_test_split\n",
    "X_train, X_test, y_train, y_test = train_test_split(X, y, test_size = 0.20)\n",
    "\n",
    "from sklearn.svm import SVC\n",
    "svclassifier = SVC(kernel='linear')\n",
    "model = svclassifier.fit(X_train, y_train)\n",
    "\n",
    "y_pred = svclassifier.predict(X_test)\n",
    "\n",
    "accuracy = accuracy_score(y_test, y_pred)\n",
    "print('Accuracy: %.2f' % (accuracy*100))\n",
    "\n",
    "print('AUC: %.2F' % (metrics.roc_auc_score(y_test, y_pred)))\n"
   ]
  },
  {
   "cell_type": "code",
   "execution_count": 259,
   "id": "9e5a580d",
   "metadata": {
    "pycharm": {
     "name": "#%%\n"
    }
   },
   "outputs": [
    {
     "data": {
      "text/plain": [
       "array([0.78577624, 0.77690972, 0.77951389, 0.79513889, 0.79513889])"
      ]
     },
     "execution_count": 259,
     "metadata": {},
     "output_type": "execute_result"
    }
   ],
   "source": [
    "# Evaluation\n",
    "scores = cross_val_score(model, X, y, cv=5)\n",
    "scores"
   ]
  },
  {
   "cell_type": "code",
   "execution_count": 255,
   "id": "94d5e6ee",
   "metadata": {
    "pycharm": {
     "name": "#%%\n"
    }
   },
   "outputs": [
    {
     "data": {
      "text/plain": [
       "array([1, 1, 0, ..., 0, 0, 0], dtype=int64)"
      ]
     },
     "execution_count": 255,
     "metadata": {},
     "output_type": "execute_result"
    }
   ],
   "source": [
    "# Prediction\n",
    "model.predict(X) # should use test data"
   ]
  },
  {
   "cell_type": "code",
   "execution_count": 256,
   "id": "b4c56ee1",
   "metadata": {
    "pycharm": {
     "name": "#%%\n"
    }
   },
   "outputs": [
    {
     "name": "stdout",
     "output_type": "stream",
     "text": [
      "[[541  37]\n",
      " [200 375]]\n",
      "              precision    recall  f1-score   support\n",
      "\n",
      "           0       0.73      0.94      0.82       578\n",
      "           1       0.91      0.65      0.76       575\n",
      "\n",
      "    accuracy                           0.79      1153\n",
      "   macro avg       0.82      0.79      0.79      1153\n",
      "weighted avg       0.82      0.79      0.79      1153\n",
      "\n"
     ]
    }
   ],
   "source": [
    "# Evaluating the Algorithm\n",
    "from sklearn.metrics import classification_report, confusion_matrix\n",
    "print(confusion_matrix(y_test, y_pred))\n",
    "print(classification_report(y_test, y_pred))"
   ]
  },
  {
   "cell_type": "code",
   "execution_count": null,
   "id": "83d71e84",
   "metadata": {
    "pycharm": {
     "name": "#%%\n"
    }
   },
   "outputs": [],
   "source": []
  }
 ],
 "metadata": {
  "kernelspec": {
   "display_name": "Python 3 (ipykernel)",
   "language": "python",
   "name": "python3"
  },
  "language_info": {
   "codemirror_mode": {
    "name": "ipython",
    "version": 3
   },
   "file_extension": ".py",
   "mimetype": "text/x-python",
   "name": "python",
   "nbconvert_exporter": "python",
   "pygments_lexer": "ipython3",
   "version": "3.8.13"
  }
 },
 "nbformat": 4,
 "nbformat_minor": 5
}